{
 "cells": [
  {
   "cell_type": "code",
   "execution_count": 2,
   "metadata": {},
   "outputs": [],
   "source": [
    "import pandas as pd"
   ]
  },
  {
   "cell_type": "code",
   "execution_count": 3,
   "metadata": {},
   "outputs": [],
   "source": [
    "movies = pd.read_csv('E:/ML/Movie_recommender/datasets/tmdb_5000_movies.csv')\n",
    "credits = pd.read_csv('E:/ML/Movie_recommender/datasets/tmdb_5000_credits.csv')"
   ]
  },
  {
   "cell_type": "code",
   "execution_count": 83,
   "metadata": {},
   "outputs": [
    {
     "data": {
      "text/html": [
       "<div>\n",
       "<style scoped>\n",
       "    .dataframe tbody tr th:only-of-type {\n",
       "        vertical-align: middle;\n",
       "    }\n",
       "\n",
       "    .dataframe tbody tr th {\n",
       "        vertical-align: top;\n",
       "    }\n",
       "\n",
       "    .dataframe thead th {\n",
       "        text-align: right;\n",
       "    }\n",
       "</style>\n",
       "<table border=\"1\" class=\"dataframe\">\n",
       "  <thead>\n",
       "    <tr style=\"text-align: right;\">\n",
       "      <th></th>\n",
       "      <th>movie_id</th>\n",
       "      <th>title</th>\n",
       "      <th>genres</th>\n",
       "      <th>overview</th>\n",
       "      <th>keywords</th>\n",
       "      <th>release_year</th>\n",
       "      <th>cast</th>\n",
       "      <th>crew</th>\n",
       "      <th>tags</th>\n",
       "    </tr>\n",
       "  </thead>\n",
       "  <tbody>\n",
       "    <tr>\n",
       "      <th>0</th>\n",
       "      <td>19995</td>\n",
       "      <td>Avatar</td>\n",
       "      <td>[Action, Adventure, Fantasy, ScienceFiction]</td>\n",
       "      <td>[In, the, 22nd, century,, a, paraplegic, Marin...</td>\n",
       "      <td>[cultureclash, future, spacewar, spacecolony, ...</td>\n",
       "      <td>[2009]</td>\n",
       "      <td>[SamWorthington, ZoeSaldana, SigourneyWeaver]</td>\n",
       "      <td>[JamesCameron]</td>\n",
       "      <td>[In, the, 22nd, century,, a, paraplegic, Marin...</td>\n",
       "    </tr>\n",
       "  </tbody>\n",
       "</table>\n",
       "</div>"
      ],
      "text/plain": [
       "   movie_id   title                                        genres  \\\n",
       "0     19995  Avatar  [Action, Adventure, Fantasy, ScienceFiction]   \n",
       "\n",
       "                                            overview  \\\n",
       "0  [In, the, 22nd, century,, a, paraplegic, Marin...   \n",
       "\n",
       "                                            keywords release_year  \\\n",
       "0  [cultureclash, future, spacewar, spacecolony, ...       [2009]   \n",
       "\n",
       "                                            cast            crew  \\\n",
       "0  [SamWorthington, ZoeSaldana, SigourneyWeaver]  [JamesCameron]   \n",
       "\n",
       "                                                tags  \n",
       "0  [In, the, 22nd, century,, a, paraplegic, Marin...  "
      ]
     },
     "execution_count": 83,
     "metadata": {},
     "output_type": "execute_result"
    }
   ],
   "source": [
    "movies.head(1)"
   ]
  },
  {
   "cell_type": "code",
   "execution_count": 5,
   "metadata": {},
   "outputs": [
    {
     "name": "stdout",
     "output_type": "stream",
     "text": [
      "<class 'pandas.core.frame.DataFrame'>\n",
      "RangeIndex: 4803 entries, 0 to 4802\n",
      "Data columns (total 20 columns):\n",
      " #   Column                Non-Null Count  Dtype  \n",
      "---  ------                --------------  -----  \n",
      " 0   budget                4803 non-null   int64  \n",
      " 1   genres                4803 non-null   object \n",
      " 2   homepage              1712 non-null   object \n",
      " 3   id                    4803 non-null   int64  \n",
      " 4   keywords              4803 non-null   object \n",
      " 5   original_language     4803 non-null   object \n",
      " 6   original_title        4803 non-null   object \n",
      " 7   overview              4800 non-null   object \n",
      " 8   popularity            4803 non-null   float64\n",
      " 9   production_companies  4803 non-null   object \n",
      " 10  production_countries  4803 non-null   object \n",
      " 11  release_date          4802 non-null   object \n",
      " 12  revenue               4803 non-null   int64  \n",
      " 13  runtime               4801 non-null   float64\n",
      " 14  spoken_languages      4803 non-null   object \n",
      " 15  status                4803 non-null   object \n",
      " 16  tagline               3959 non-null   object \n",
      " 17  title                 4803 non-null   object \n",
      " 18  vote_average          4803 non-null   float64\n",
      " 19  vote_count            4803 non-null   int64  \n",
      "dtypes: float64(3), int64(4), object(13)\n",
      "memory usage: 750.6+ KB\n"
     ]
    }
   ],
   "source": [
    "movies.info()"
   ]
  },
  {
   "cell_type": "code",
   "execution_count": 6,
   "metadata": {},
   "outputs": [
    {
     "data": {
      "text/html": [
       "<div>\n",
       "<style scoped>\n",
       "    .dataframe tbody tr th:only-of-type {\n",
       "        vertical-align: middle;\n",
       "    }\n",
       "\n",
       "    .dataframe tbody tr th {\n",
       "        vertical-align: top;\n",
       "    }\n",
       "\n",
       "    .dataframe thead th {\n",
       "        text-align: right;\n",
       "    }\n",
       "</style>\n",
       "<table border=\"1\" class=\"dataframe\">\n",
       "  <thead>\n",
       "    <tr style=\"text-align: right;\">\n",
       "      <th></th>\n",
       "      <th>movie_id</th>\n",
       "      <th>title</th>\n",
       "      <th>cast</th>\n",
       "      <th>crew</th>\n",
       "    </tr>\n",
       "  </thead>\n",
       "  <tbody>\n",
       "    <tr>\n",
       "      <th>0</th>\n",
       "      <td>19995</td>\n",
       "      <td>Avatar</td>\n",
       "      <td>[{\"cast_id\": 242, \"character\": \"Jake Sully\", \"...</td>\n",
       "      <td>[{\"credit_id\": \"52fe48009251416c750aca23\", \"de...</td>\n",
       "    </tr>\n",
       "    <tr>\n",
       "      <th>1</th>\n",
       "      <td>285</td>\n",
       "      <td>Pirates of the Caribbean: At World's End</td>\n",
       "      <td>[{\"cast_id\": 4, \"character\": \"Captain Jack Spa...</td>\n",
       "      <td>[{\"credit_id\": \"52fe4232c3a36847f800b579\", \"de...</td>\n",
       "    </tr>\n",
       "    <tr>\n",
       "      <th>2</th>\n",
       "      <td>206647</td>\n",
       "      <td>Spectre</td>\n",
       "      <td>[{\"cast_id\": 1, \"character\": \"James Bond\", \"cr...</td>\n",
       "      <td>[{\"credit_id\": \"54805967c3a36829b5002c41\", \"de...</td>\n",
       "    </tr>\n",
       "    <tr>\n",
       "      <th>3</th>\n",
       "      <td>49026</td>\n",
       "      <td>The Dark Knight Rises</td>\n",
       "      <td>[{\"cast_id\": 2, \"character\": \"Bruce Wayne / Ba...</td>\n",
       "      <td>[{\"credit_id\": \"52fe4781c3a36847f81398c3\", \"de...</td>\n",
       "    </tr>\n",
       "    <tr>\n",
       "      <th>4</th>\n",
       "      <td>49529</td>\n",
       "      <td>John Carter</td>\n",
       "      <td>[{\"cast_id\": 5, \"character\": \"John Carter\", \"c...</td>\n",
       "      <td>[{\"credit_id\": \"52fe479ac3a36847f813eaa3\", \"de...</td>\n",
       "    </tr>\n",
       "  </tbody>\n",
       "</table>\n",
       "</div>"
      ],
      "text/plain": [
       "   movie_id                                     title  \\\n",
       "0     19995                                    Avatar   \n",
       "1       285  Pirates of the Caribbean: At World's End   \n",
       "2    206647                                   Spectre   \n",
       "3     49026                     The Dark Knight Rises   \n",
       "4     49529                               John Carter   \n",
       "\n",
       "                                                cast  \\\n",
       "0  [{\"cast_id\": 242, \"character\": \"Jake Sully\", \"...   \n",
       "1  [{\"cast_id\": 4, \"character\": \"Captain Jack Spa...   \n",
       "2  [{\"cast_id\": 1, \"character\": \"James Bond\", \"cr...   \n",
       "3  [{\"cast_id\": 2, \"character\": \"Bruce Wayne / Ba...   \n",
       "4  [{\"cast_id\": 5, \"character\": \"John Carter\", \"c...   \n",
       "\n",
       "                                                crew  \n",
       "0  [{\"credit_id\": \"52fe48009251416c750aca23\", \"de...  \n",
       "1  [{\"credit_id\": \"52fe4232c3a36847f800b579\", \"de...  \n",
       "2  [{\"credit_id\": \"54805967c3a36829b5002c41\", \"de...  \n",
       "3  [{\"credit_id\": \"52fe4781c3a36847f81398c3\", \"de...  \n",
       "4  [{\"credit_id\": \"52fe479ac3a36847f813eaa3\", \"de...  "
      ]
     },
     "execution_count": 6,
     "metadata": {},
     "output_type": "execute_result"
    }
   ],
   "source": [
    "credits.head()"
   ]
  },
  {
   "cell_type": "code",
   "execution_count": 7,
   "metadata": {},
   "outputs": [],
   "source": [
    "movies = movies.merge(credits, on='title')"
   ]
  },
  {
   "cell_type": "code",
   "execution_count": 8,
   "metadata": {},
   "outputs": [
    {
     "name": "stdout",
     "output_type": "stream",
     "text": [
      "<class 'pandas.core.frame.DataFrame'>\n",
      "RangeIndex: 4809 entries, 0 to 4808\n",
      "Data columns (total 23 columns):\n",
      " #   Column                Non-Null Count  Dtype  \n",
      "---  ------                --------------  -----  \n",
      " 0   budget                4809 non-null   int64  \n",
      " 1   genres                4809 non-null   object \n",
      " 2   homepage              1713 non-null   object \n",
      " 3   id                    4809 non-null   int64  \n",
      " 4   keywords              4809 non-null   object \n",
      " 5   original_language     4809 non-null   object \n",
      " 6   original_title        4809 non-null   object \n",
      " 7   overview              4806 non-null   object \n",
      " 8   popularity            4809 non-null   float64\n",
      " 9   production_companies  4809 non-null   object \n",
      " 10  production_countries  4809 non-null   object \n",
      " 11  release_date          4808 non-null   object \n",
      " 12  revenue               4809 non-null   int64  \n",
      " 13  runtime               4807 non-null   float64\n",
      " 14  spoken_languages      4809 non-null   object \n",
      " 15  status                4809 non-null   object \n",
      " 16  tagline               3965 non-null   object \n",
      " 17  title                 4809 non-null   object \n",
      " 18  vote_average          4809 non-null   float64\n",
      " 19  vote_count            4809 non-null   int64  \n",
      " 20  movie_id              4809 non-null   int64  \n",
      " 21  cast                  4809 non-null   object \n",
      " 22  crew                  4809 non-null   object \n",
      "dtypes: float64(3), int64(5), object(15)\n",
      "memory usage: 864.2+ KB\n"
     ]
    }
   ],
   "source": [
    "movies.info()"
   ]
  },
  {
   "cell_type": "code",
   "execution_count": 9,
   "metadata": {},
   "outputs": [],
   "source": [
    "movies = movies[['movie_id','title','genres','overview','keywords','release_date','cast','crew']]"
   ]
  },
  {
   "cell_type": "code",
   "execution_count": 10,
   "metadata": {},
   "outputs": [
    {
     "data": {
      "text/html": [
       "<div>\n",
       "<style scoped>\n",
       "    .dataframe tbody tr th:only-of-type {\n",
       "        vertical-align: middle;\n",
       "    }\n",
       "\n",
       "    .dataframe tbody tr th {\n",
       "        vertical-align: top;\n",
       "    }\n",
       "\n",
       "    .dataframe thead th {\n",
       "        text-align: right;\n",
       "    }\n",
       "</style>\n",
       "<table border=\"1\" class=\"dataframe\">\n",
       "  <thead>\n",
       "    <tr style=\"text-align: right;\">\n",
       "      <th></th>\n",
       "      <th>movie_id</th>\n",
       "      <th>title</th>\n",
       "      <th>genres</th>\n",
       "      <th>overview</th>\n",
       "      <th>keywords</th>\n",
       "      <th>release_date</th>\n",
       "      <th>cast</th>\n",
       "      <th>crew</th>\n",
       "    </tr>\n",
       "  </thead>\n",
       "  <tbody>\n",
       "    <tr>\n",
       "      <th>0</th>\n",
       "      <td>19995</td>\n",
       "      <td>Avatar</td>\n",
       "      <td>[{\"id\": 28, \"name\": \"Action\"}, {\"id\": 12, \"nam...</td>\n",
       "      <td>In the 22nd century, a paraplegic Marine is di...</td>\n",
       "      <td>[{\"id\": 1463, \"name\": \"culture clash\"}, {\"id\":...</td>\n",
       "      <td>2009-12-10</td>\n",
       "      <td>[{\"cast_id\": 242, \"character\": \"Jake Sully\", \"...</td>\n",
       "      <td>[{\"credit_id\": \"52fe48009251416c750aca23\", \"de...</td>\n",
       "    </tr>\n",
       "    <tr>\n",
       "      <th>1</th>\n",
       "      <td>285</td>\n",
       "      <td>Pirates of the Caribbean: At World's End</td>\n",
       "      <td>[{\"id\": 12, \"name\": \"Adventure\"}, {\"id\": 14, \"...</td>\n",
       "      <td>Captain Barbossa, long believed to be dead, ha...</td>\n",
       "      <td>[{\"id\": 270, \"name\": \"ocean\"}, {\"id\": 726, \"na...</td>\n",
       "      <td>2007-05-19</td>\n",
       "      <td>[{\"cast_id\": 4, \"character\": \"Captain Jack Spa...</td>\n",
       "      <td>[{\"credit_id\": \"52fe4232c3a36847f800b579\", \"de...</td>\n",
       "    </tr>\n",
       "    <tr>\n",
       "      <th>2</th>\n",
       "      <td>206647</td>\n",
       "      <td>Spectre</td>\n",
       "      <td>[{\"id\": 28, \"name\": \"Action\"}, {\"id\": 12, \"nam...</td>\n",
       "      <td>A cryptic message from Bond’s past sends him o...</td>\n",
       "      <td>[{\"id\": 470, \"name\": \"spy\"}, {\"id\": 818, \"name...</td>\n",
       "      <td>2015-10-26</td>\n",
       "      <td>[{\"cast_id\": 1, \"character\": \"James Bond\", \"cr...</td>\n",
       "      <td>[{\"credit_id\": \"54805967c3a36829b5002c41\", \"de...</td>\n",
       "    </tr>\n",
       "    <tr>\n",
       "      <th>3</th>\n",
       "      <td>49026</td>\n",
       "      <td>The Dark Knight Rises</td>\n",
       "      <td>[{\"id\": 28, \"name\": \"Action\"}, {\"id\": 80, \"nam...</td>\n",
       "      <td>Following the death of District Attorney Harve...</td>\n",
       "      <td>[{\"id\": 849, \"name\": \"dc comics\"}, {\"id\": 853,...</td>\n",
       "      <td>2012-07-16</td>\n",
       "      <td>[{\"cast_id\": 2, \"character\": \"Bruce Wayne / Ba...</td>\n",
       "      <td>[{\"credit_id\": \"52fe4781c3a36847f81398c3\", \"de...</td>\n",
       "    </tr>\n",
       "    <tr>\n",
       "      <th>4</th>\n",
       "      <td>49529</td>\n",
       "      <td>John Carter</td>\n",
       "      <td>[{\"id\": 28, \"name\": \"Action\"}, {\"id\": 12, \"nam...</td>\n",
       "      <td>John Carter is a war-weary, former military ca...</td>\n",
       "      <td>[{\"id\": 818, \"name\": \"based on novel\"}, {\"id\":...</td>\n",
       "      <td>2012-03-07</td>\n",
       "      <td>[{\"cast_id\": 5, \"character\": \"John Carter\", \"c...</td>\n",
       "      <td>[{\"credit_id\": \"52fe479ac3a36847f813eaa3\", \"de...</td>\n",
       "    </tr>\n",
       "  </tbody>\n",
       "</table>\n",
       "</div>"
      ],
      "text/plain": [
       "   movie_id                                     title  \\\n",
       "0     19995                                    Avatar   \n",
       "1       285  Pirates of the Caribbean: At World's End   \n",
       "2    206647                                   Spectre   \n",
       "3     49026                     The Dark Knight Rises   \n",
       "4     49529                               John Carter   \n",
       "\n",
       "                                              genres  \\\n",
       "0  [{\"id\": 28, \"name\": \"Action\"}, {\"id\": 12, \"nam...   \n",
       "1  [{\"id\": 12, \"name\": \"Adventure\"}, {\"id\": 14, \"...   \n",
       "2  [{\"id\": 28, \"name\": \"Action\"}, {\"id\": 12, \"nam...   \n",
       "3  [{\"id\": 28, \"name\": \"Action\"}, {\"id\": 80, \"nam...   \n",
       "4  [{\"id\": 28, \"name\": \"Action\"}, {\"id\": 12, \"nam...   \n",
       "\n",
       "                                            overview  \\\n",
       "0  In the 22nd century, a paraplegic Marine is di...   \n",
       "1  Captain Barbossa, long believed to be dead, ha...   \n",
       "2  A cryptic message from Bond’s past sends him o...   \n",
       "3  Following the death of District Attorney Harve...   \n",
       "4  John Carter is a war-weary, former military ca...   \n",
       "\n",
       "                                            keywords release_date  \\\n",
       "0  [{\"id\": 1463, \"name\": \"culture clash\"}, {\"id\":...   2009-12-10   \n",
       "1  [{\"id\": 270, \"name\": \"ocean\"}, {\"id\": 726, \"na...   2007-05-19   \n",
       "2  [{\"id\": 470, \"name\": \"spy\"}, {\"id\": 818, \"name...   2015-10-26   \n",
       "3  [{\"id\": 849, \"name\": \"dc comics\"}, {\"id\": 853,...   2012-07-16   \n",
       "4  [{\"id\": 818, \"name\": \"based on novel\"}, {\"id\":...   2012-03-07   \n",
       "\n",
       "                                                cast  \\\n",
       "0  [{\"cast_id\": 242, \"character\": \"Jake Sully\", \"...   \n",
       "1  [{\"cast_id\": 4, \"character\": \"Captain Jack Spa...   \n",
       "2  [{\"cast_id\": 1, \"character\": \"James Bond\", \"cr...   \n",
       "3  [{\"cast_id\": 2, \"character\": \"Bruce Wayne / Ba...   \n",
       "4  [{\"cast_id\": 5, \"character\": \"John Carter\", \"c...   \n",
       "\n",
       "                                                crew  \n",
       "0  [{\"credit_id\": \"52fe48009251416c750aca23\", \"de...  \n",
       "1  [{\"credit_id\": \"52fe4232c3a36847f800b579\", \"de...  \n",
       "2  [{\"credit_id\": \"54805967c3a36829b5002c41\", \"de...  \n",
       "3  [{\"credit_id\": \"52fe4781c3a36847f81398c3\", \"de...  \n",
       "4  [{\"credit_id\": \"52fe479ac3a36847f813eaa3\", \"de...  "
      ]
     },
     "execution_count": 10,
     "metadata": {},
     "output_type": "execute_result"
    }
   ],
   "source": [
    "movies.head(5)"
   ]
  },
  {
   "cell_type": "code",
   "execution_count": 11,
   "metadata": {},
   "outputs": [],
   "source": [
    "movies = movies.rename(columns={'release_date':'release_year'})"
   ]
  },
  {
   "cell_type": "code",
   "execution_count": 12,
   "metadata": {},
   "outputs": [
    {
     "name": "stdout",
     "output_type": "stream",
     "text": [
      "<class 'pandas.core.frame.DataFrame'>\n",
      "RangeIndex: 4809 entries, 0 to 4808\n",
      "Data columns (total 8 columns):\n",
      " #   Column        Non-Null Count  Dtype \n",
      "---  ------        --------------  ----- \n",
      " 0   movie_id      4809 non-null   int64 \n",
      " 1   title         4809 non-null   object\n",
      " 2   genres        4809 non-null   object\n",
      " 3   overview      4806 non-null   object\n",
      " 4   keywords      4809 non-null   object\n",
      " 5   release_year  4808 non-null   object\n",
      " 6   cast          4809 non-null   object\n",
      " 7   crew          4809 non-null   object\n",
      "dtypes: int64(1), object(7)\n",
      "memory usage: 300.7+ KB\n"
     ]
    }
   ],
   "source": [
    "movies.info()"
   ]
  },
  {
   "cell_type": "code",
   "execution_count": 13,
   "metadata": {},
   "outputs": [
    {
     "data": {
      "text/html": [
       "<div>\n",
       "<style scoped>\n",
       "    .dataframe tbody tr th:only-of-type {\n",
       "        vertical-align: middle;\n",
       "    }\n",
       "\n",
       "    .dataframe tbody tr th {\n",
       "        vertical-align: top;\n",
       "    }\n",
       "\n",
       "    .dataframe thead th {\n",
       "        text-align: right;\n",
       "    }\n",
       "</style>\n",
       "<table border=\"1\" class=\"dataframe\">\n",
       "  <thead>\n",
       "    <tr style=\"text-align: right;\">\n",
       "      <th></th>\n",
       "      <th>movie_id</th>\n",
       "      <th>title</th>\n",
       "      <th>genres</th>\n",
       "      <th>overview</th>\n",
       "      <th>keywords</th>\n",
       "      <th>release_year</th>\n",
       "      <th>cast</th>\n",
       "      <th>crew</th>\n",
       "    </tr>\n",
       "  </thead>\n",
       "  <tbody>\n",
       "    <tr>\n",
       "      <th>0</th>\n",
       "      <td>19995</td>\n",
       "      <td>Avatar</td>\n",
       "      <td>[{\"id\": 28, \"name\": \"Action\"}, {\"id\": 12, \"nam...</td>\n",
       "      <td>In the 22nd century, a paraplegic Marine is di...</td>\n",
       "      <td>[{\"id\": 1463, \"name\": \"culture clash\"}, {\"id\":...</td>\n",
       "      <td>2009-12-10</td>\n",
       "      <td>[{\"cast_id\": 242, \"character\": \"Jake Sully\", \"...</td>\n",
       "      <td>[{\"credit_id\": \"52fe48009251416c750aca23\", \"de...</td>\n",
       "    </tr>\n",
       "  </tbody>\n",
       "</table>\n",
       "</div>"
      ],
      "text/plain": [
       "   movie_id   title                                             genres  \\\n",
       "0     19995  Avatar  [{\"id\": 28, \"name\": \"Action\"}, {\"id\": 12, \"nam...   \n",
       "\n",
       "                                            overview  \\\n",
       "0  In the 22nd century, a paraplegic Marine is di...   \n",
       "\n",
       "                                            keywords release_year  \\\n",
       "0  [{\"id\": 1463, \"name\": \"culture clash\"}, {\"id\":...   2009-12-10   \n",
       "\n",
       "                                                cast  \\\n",
       "0  [{\"cast_id\": 242, \"character\": \"Jake Sully\", \"...   \n",
       "\n",
       "                                                crew  \n",
       "0  [{\"credit_id\": \"52fe48009251416c750aca23\", \"de...  "
      ]
     },
     "execution_count": 13,
     "metadata": {},
     "output_type": "execute_result"
    }
   ],
   "source": [
    "movies.head(1)"
   ]
  },
  {
   "cell_type": "code",
   "execution_count": 14,
   "metadata": {},
   "outputs": [
    {
     "data": {
      "text/plain": [
       "np.int64(1)"
      ]
     },
     "execution_count": 14,
     "metadata": {},
     "output_type": "execute_result"
    }
   ],
   "source": [
    "movies['release_year'].isnull().sum()"
   ]
  },
  {
   "cell_type": "code",
   "execution_count": 15,
   "metadata": {},
   "outputs": [],
   "source": [
    "movies['release_year'] = movies['release_year'].astype(str).apply(lambda x: x.split('-')[0])"
   ]
  },
  {
   "cell_type": "code",
   "execution_count": 16,
   "metadata": {},
   "outputs": [
    {
     "data": {
      "text/html": [
       "<div>\n",
       "<style scoped>\n",
       "    .dataframe tbody tr th:only-of-type {\n",
       "        vertical-align: middle;\n",
       "    }\n",
       "\n",
       "    .dataframe tbody tr th {\n",
       "        vertical-align: top;\n",
       "    }\n",
       "\n",
       "    .dataframe thead th {\n",
       "        text-align: right;\n",
       "    }\n",
       "</style>\n",
       "<table border=\"1\" class=\"dataframe\">\n",
       "  <thead>\n",
       "    <tr style=\"text-align: right;\">\n",
       "      <th></th>\n",
       "      <th>movie_id</th>\n",
       "      <th>title</th>\n",
       "      <th>genres</th>\n",
       "      <th>overview</th>\n",
       "      <th>keywords</th>\n",
       "      <th>release_year</th>\n",
       "      <th>cast</th>\n",
       "      <th>crew</th>\n",
       "    </tr>\n",
       "  </thead>\n",
       "  <tbody>\n",
       "    <tr>\n",
       "      <th>0</th>\n",
       "      <td>19995</td>\n",
       "      <td>Avatar</td>\n",
       "      <td>[{\"id\": 28, \"name\": \"Action\"}, {\"id\": 12, \"nam...</td>\n",
       "      <td>In the 22nd century, a paraplegic Marine is di...</td>\n",
       "      <td>[{\"id\": 1463, \"name\": \"culture clash\"}, {\"id\":...</td>\n",
       "      <td>2009</td>\n",
       "      <td>[{\"cast_id\": 242, \"character\": \"Jake Sully\", \"...</td>\n",
       "      <td>[{\"credit_id\": \"52fe48009251416c750aca23\", \"de...</td>\n",
       "    </tr>\n",
       "    <tr>\n",
       "      <th>1</th>\n",
       "      <td>285</td>\n",
       "      <td>Pirates of the Caribbean: At World's End</td>\n",
       "      <td>[{\"id\": 12, \"name\": \"Adventure\"}, {\"id\": 14, \"...</td>\n",
       "      <td>Captain Barbossa, long believed to be dead, ha...</td>\n",
       "      <td>[{\"id\": 270, \"name\": \"ocean\"}, {\"id\": 726, \"na...</td>\n",
       "      <td>2007</td>\n",
       "      <td>[{\"cast_id\": 4, \"character\": \"Captain Jack Spa...</td>\n",
       "      <td>[{\"credit_id\": \"52fe4232c3a36847f800b579\", \"de...</td>\n",
       "    </tr>\n",
       "    <tr>\n",
       "      <th>2</th>\n",
       "      <td>206647</td>\n",
       "      <td>Spectre</td>\n",
       "      <td>[{\"id\": 28, \"name\": \"Action\"}, {\"id\": 12, \"nam...</td>\n",
       "      <td>A cryptic message from Bond’s past sends him o...</td>\n",
       "      <td>[{\"id\": 470, \"name\": \"spy\"}, {\"id\": 818, \"name...</td>\n",
       "      <td>2015</td>\n",
       "      <td>[{\"cast_id\": 1, \"character\": \"James Bond\", \"cr...</td>\n",
       "      <td>[{\"credit_id\": \"54805967c3a36829b5002c41\", \"de...</td>\n",
       "    </tr>\n",
       "    <tr>\n",
       "      <th>3</th>\n",
       "      <td>49026</td>\n",
       "      <td>The Dark Knight Rises</td>\n",
       "      <td>[{\"id\": 28, \"name\": \"Action\"}, {\"id\": 80, \"nam...</td>\n",
       "      <td>Following the death of District Attorney Harve...</td>\n",
       "      <td>[{\"id\": 849, \"name\": \"dc comics\"}, {\"id\": 853,...</td>\n",
       "      <td>2012</td>\n",
       "      <td>[{\"cast_id\": 2, \"character\": \"Bruce Wayne / Ba...</td>\n",
       "      <td>[{\"credit_id\": \"52fe4781c3a36847f81398c3\", \"de...</td>\n",
       "    </tr>\n",
       "    <tr>\n",
       "      <th>4</th>\n",
       "      <td>49529</td>\n",
       "      <td>John Carter</td>\n",
       "      <td>[{\"id\": 28, \"name\": \"Action\"}, {\"id\": 12, \"nam...</td>\n",
       "      <td>John Carter is a war-weary, former military ca...</td>\n",
       "      <td>[{\"id\": 818, \"name\": \"based on novel\"}, {\"id\":...</td>\n",
       "      <td>2012</td>\n",
       "      <td>[{\"cast_id\": 5, \"character\": \"John Carter\", \"c...</td>\n",
       "      <td>[{\"credit_id\": \"52fe479ac3a36847f813eaa3\", \"de...</td>\n",
       "    </tr>\n",
       "  </tbody>\n",
       "</table>\n",
       "</div>"
      ],
      "text/plain": [
       "   movie_id                                     title  \\\n",
       "0     19995                                    Avatar   \n",
       "1       285  Pirates of the Caribbean: At World's End   \n",
       "2    206647                                   Spectre   \n",
       "3     49026                     The Dark Knight Rises   \n",
       "4     49529                               John Carter   \n",
       "\n",
       "                                              genres  \\\n",
       "0  [{\"id\": 28, \"name\": \"Action\"}, {\"id\": 12, \"nam...   \n",
       "1  [{\"id\": 12, \"name\": \"Adventure\"}, {\"id\": 14, \"...   \n",
       "2  [{\"id\": 28, \"name\": \"Action\"}, {\"id\": 12, \"nam...   \n",
       "3  [{\"id\": 28, \"name\": \"Action\"}, {\"id\": 80, \"nam...   \n",
       "4  [{\"id\": 28, \"name\": \"Action\"}, {\"id\": 12, \"nam...   \n",
       "\n",
       "                                            overview  \\\n",
       "0  In the 22nd century, a paraplegic Marine is di...   \n",
       "1  Captain Barbossa, long believed to be dead, ha...   \n",
       "2  A cryptic message from Bond’s past sends him o...   \n",
       "3  Following the death of District Attorney Harve...   \n",
       "4  John Carter is a war-weary, former military ca...   \n",
       "\n",
       "                                            keywords release_year  \\\n",
       "0  [{\"id\": 1463, \"name\": \"culture clash\"}, {\"id\":...         2009   \n",
       "1  [{\"id\": 270, \"name\": \"ocean\"}, {\"id\": 726, \"na...         2007   \n",
       "2  [{\"id\": 470, \"name\": \"spy\"}, {\"id\": 818, \"name...         2015   \n",
       "3  [{\"id\": 849, \"name\": \"dc comics\"}, {\"id\": 853,...         2012   \n",
       "4  [{\"id\": 818, \"name\": \"based on novel\"}, {\"id\":...         2012   \n",
       "\n",
       "                                                cast  \\\n",
       "0  [{\"cast_id\": 242, \"character\": \"Jake Sully\", \"...   \n",
       "1  [{\"cast_id\": 4, \"character\": \"Captain Jack Spa...   \n",
       "2  [{\"cast_id\": 1, \"character\": \"James Bond\", \"cr...   \n",
       "3  [{\"cast_id\": 2, \"character\": \"Bruce Wayne / Ba...   \n",
       "4  [{\"cast_id\": 5, \"character\": \"John Carter\", \"c...   \n",
       "\n",
       "                                                crew  \n",
       "0  [{\"credit_id\": \"52fe48009251416c750aca23\", \"de...  \n",
       "1  [{\"credit_id\": \"52fe4232c3a36847f800b579\", \"de...  \n",
       "2  [{\"credit_id\": \"54805967c3a36829b5002c41\", \"de...  \n",
       "3  [{\"credit_id\": \"52fe4781c3a36847f81398c3\", \"de...  \n",
       "4  [{\"credit_id\": \"52fe479ac3a36847f813eaa3\", \"de...  "
      ]
     },
     "execution_count": 16,
     "metadata": {},
     "output_type": "execute_result"
    }
   ],
   "source": [
    "movies.head()"
   ]
  },
  {
   "cell_type": "code",
   "execution_count": 17,
   "metadata": {},
   "outputs": [],
   "source": [
    "movies.dropna(inplace=True)"
   ]
  },
  {
   "cell_type": "code",
   "execution_count": 18,
   "metadata": {},
   "outputs": [
    {
     "data": {
      "text/plain": [
       "movie_id        0\n",
       "title           0\n",
       "genres          0\n",
       "overview        0\n",
       "keywords        0\n",
       "release_year    0\n",
       "cast            0\n",
       "crew            0\n",
       "dtype: int64"
      ]
     },
     "execution_count": 18,
     "metadata": {},
     "output_type": "execute_result"
    }
   ],
   "source": [
    "movies.isnull().sum()"
   ]
  },
  {
   "cell_type": "code",
   "execution_count": 19,
   "metadata": {},
   "outputs": [
    {
     "data": {
      "text/plain": [
       "np.int64(0)"
      ]
     },
     "execution_count": 19,
     "metadata": {},
     "output_type": "execute_result"
    }
   ],
   "source": [
    "movies.duplicated().sum()"
   ]
  },
  {
   "cell_type": "code",
   "execution_count": 20,
   "metadata": {},
   "outputs": [
    {
     "data": {
      "text/plain": [
       "'[{\"id\": 28, \"name\": \"Action\"}, {\"id\": 12, \"name\": \"Adventure\"}, {\"id\": 14, \"name\": \"Fantasy\"}, {\"id\": 878, \"name\": \"Science Fiction\"}]'"
      ]
     },
     "execution_count": 20,
     "metadata": {},
     "output_type": "execute_result"
    }
   ],
   "source": [
    "movies['genres'][0]"
   ]
  },
  {
   "cell_type": "code",
   "execution_count": 21,
   "metadata": {},
   "outputs": [],
   "source": [
    "import json"
   ]
  },
  {
   "cell_type": "code",
   "execution_count": 22,
   "metadata": {},
   "outputs": [],
   "source": [
    "def convert (obj):\n",
    "    L = []\n",
    "    for i in json.loads(obj):\n",
    "        L.append(i['name'])\n",
    "    return L"
   ]
  },
  {
   "cell_type": "code",
   "execution_count": 23,
   "metadata": {},
   "outputs": [],
   "source": [
    "movies['genres'] = movies['genres'].apply(convert)"
   ]
  },
  {
   "cell_type": "code",
   "execution_count": 24,
   "metadata": {},
   "outputs": [
    {
     "data": {
      "text/html": [
       "<div>\n",
       "<style scoped>\n",
       "    .dataframe tbody tr th:only-of-type {\n",
       "        vertical-align: middle;\n",
       "    }\n",
       "\n",
       "    .dataframe tbody tr th {\n",
       "        vertical-align: top;\n",
       "    }\n",
       "\n",
       "    .dataframe thead th {\n",
       "        text-align: right;\n",
       "    }\n",
       "</style>\n",
       "<table border=\"1\" class=\"dataframe\">\n",
       "  <thead>\n",
       "    <tr style=\"text-align: right;\">\n",
       "      <th></th>\n",
       "      <th>movie_id</th>\n",
       "      <th>title</th>\n",
       "      <th>genres</th>\n",
       "      <th>overview</th>\n",
       "      <th>keywords</th>\n",
       "      <th>release_year</th>\n",
       "      <th>cast</th>\n",
       "      <th>crew</th>\n",
       "    </tr>\n",
       "  </thead>\n",
       "  <tbody>\n",
       "    <tr>\n",
       "      <th>0</th>\n",
       "      <td>19995</td>\n",
       "      <td>Avatar</td>\n",
       "      <td>[Action, Adventure, Fantasy, Science Fiction]</td>\n",
       "      <td>In the 22nd century, a paraplegic Marine is di...</td>\n",
       "      <td>[{\"id\": 1463, \"name\": \"culture clash\"}, {\"id\":...</td>\n",
       "      <td>2009</td>\n",
       "      <td>[{\"cast_id\": 242, \"character\": \"Jake Sully\", \"...</td>\n",
       "      <td>[{\"credit_id\": \"52fe48009251416c750aca23\", \"de...</td>\n",
       "    </tr>\n",
       "    <tr>\n",
       "      <th>1</th>\n",
       "      <td>285</td>\n",
       "      <td>Pirates of the Caribbean: At World's End</td>\n",
       "      <td>[Adventure, Fantasy, Action]</td>\n",
       "      <td>Captain Barbossa, long believed to be dead, ha...</td>\n",
       "      <td>[{\"id\": 270, \"name\": \"ocean\"}, {\"id\": 726, \"na...</td>\n",
       "      <td>2007</td>\n",
       "      <td>[{\"cast_id\": 4, \"character\": \"Captain Jack Spa...</td>\n",
       "      <td>[{\"credit_id\": \"52fe4232c3a36847f800b579\", \"de...</td>\n",
       "    </tr>\n",
       "    <tr>\n",
       "      <th>2</th>\n",
       "      <td>206647</td>\n",
       "      <td>Spectre</td>\n",
       "      <td>[Action, Adventure, Crime]</td>\n",
       "      <td>A cryptic message from Bond’s past sends him o...</td>\n",
       "      <td>[{\"id\": 470, \"name\": \"spy\"}, {\"id\": 818, \"name...</td>\n",
       "      <td>2015</td>\n",
       "      <td>[{\"cast_id\": 1, \"character\": \"James Bond\", \"cr...</td>\n",
       "      <td>[{\"credit_id\": \"54805967c3a36829b5002c41\", \"de...</td>\n",
       "    </tr>\n",
       "  </tbody>\n",
       "</table>\n",
       "</div>"
      ],
      "text/plain": [
       "   movie_id                                     title  \\\n",
       "0     19995                                    Avatar   \n",
       "1       285  Pirates of the Caribbean: At World's End   \n",
       "2    206647                                   Spectre   \n",
       "\n",
       "                                          genres  \\\n",
       "0  [Action, Adventure, Fantasy, Science Fiction]   \n",
       "1                   [Adventure, Fantasy, Action]   \n",
       "2                     [Action, Adventure, Crime]   \n",
       "\n",
       "                                            overview  \\\n",
       "0  In the 22nd century, a paraplegic Marine is di...   \n",
       "1  Captain Barbossa, long believed to be dead, ha...   \n",
       "2  A cryptic message from Bond’s past sends him o...   \n",
       "\n",
       "                                            keywords release_year  \\\n",
       "0  [{\"id\": 1463, \"name\": \"culture clash\"}, {\"id\":...         2009   \n",
       "1  [{\"id\": 270, \"name\": \"ocean\"}, {\"id\": 726, \"na...         2007   \n",
       "2  [{\"id\": 470, \"name\": \"spy\"}, {\"id\": 818, \"name...         2015   \n",
       "\n",
       "                                                cast  \\\n",
       "0  [{\"cast_id\": 242, \"character\": \"Jake Sully\", \"...   \n",
       "1  [{\"cast_id\": 4, \"character\": \"Captain Jack Spa...   \n",
       "2  [{\"cast_id\": 1, \"character\": \"James Bond\", \"cr...   \n",
       "\n",
       "                                                crew  \n",
       "0  [{\"credit_id\": \"52fe48009251416c750aca23\", \"de...  \n",
       "1  [{\"credit_id\": \"52fe4232c3a36847f800b579\", \"de...  \n",
       "2  [{\"credit_id\": \"54805967c3a36829b5002c41\", \"de...  "
      ]
     },
     "execution_count": 24,
     "metadata": {},
     "output_type": "execute_result"
    }
   ],
   "source": [
    "movies.head(3)"
   ]
  },
  {
   "cell_type": "code",
   "execution_count": 25,
   "metadata": {},
   "outputs": [
    {
     "data": {
      "text/plain": [
       "'[{\"id\": 1463, \"name\": \"culture clash\"}, {\"id\": 2964, \"name\": \"future\"}, {\"id\": 3386, \"name\": \"space war\"}, {\"id\": 3388, \"name\": \"space colony\"}, {\"id\": 3679, \"name\": \"society\"}, {\"id\": 3801, \"name\": \"space travel\"}, {\"id\": 9685, \"name\": \"futuristic\"}, {\"id\": 9840, \"name\": \"romance\"}, {\"id\": 9882, \"name\": \"space\"}, {\"id\": 9951, \"name\": \"alien\"}, {\"id\": 10148, \"name\": \"tribe\"}, {\"id\": 10158, \"name\": \"alien planet\"}, {\"id\": 10987, \"name\": \"cgi\"}, {\"id\": 11399, \"name\": \"marine\"}, {\"id\": 13065, \"name\": \"soldier\"}, {\"id\": 14643, \"name\": \"battle\"}, {\"id\": 14720, \"name\": \"love affair\"}, {\"id\": 165431, \"name\": \"anti war\"}, {\"id\": 193554, \"name\": \"power relations\"}, {\"id\": 206690, \"name\": \"mind and soul\"}, {\"id\": 209714, \"name\": \"3d\"}]'"
      ]
     },
     "execution_count": 25,
     "metadata": {},
     "output_type": "execute_result"
    }
   ],
   "source": [
    "movies['keywords'][0]"
   ]
  },
  {
   "cell_type": "code",
   "execution_count": 26,
   "metadata": {},
   "outputs": [],
   "source": [
    "def convert_k (obj):\n",
    "    M = []\n",
    "    for i in json.loads(obj):\n",
    "        M.append(i['name'])\n",
    "        \n",
    "    return M"
   ]
  },
  {
   "cell_type": "code",
   "execution_count": 27,
   "metadata": {},
   "outputs": [],
   "source": [
    "movies['keywords'] = movies['keywords'].apply(convert_k)"
   ]
  },
  {
   "cell_type": "code",
   "execution_count": 28,
   "metadata": {},
   "outputs": [
    {
     "data": {
      "text/html": [
       "<div>\n",
       "<style scoped>\n",
       "    .dataframe tbody tr th:only-of-type {\n",
       "        vertical-align: middle;\n",
       "    }\n",
       "\n",
       "    .dataframe tbody tr th {\n",
       "        vertical-align: top;\n",
       "    }\n",
       "\n",
       "    .dataframe thead th {\n",
       "        text-align: right;\n",
       "    }\n",
       "</style>\n",
       "<table border=\"1\" class=\"dataframe\">\n",
       "  <thead>\n",
       "    <tr style=\"text-align: right;\">\n",
       "      <th></th>\n",
       "      <th>movie_id</th>\n",
       "      <th>title</th>\n",
       "      <th>genres</th>\n",
       "      <th>overview</th>\n",
       "      <th>keywords</th>\n",
       "      <th>release_year</th>\n",
       "      <th>cast</th>\n",
       "      <th>crew</th>\n",
       "    </tr>\n",
       "  </thead>\n",
       "  <tbody>\n",
       "    <tr>\n",
       "      <th>0</th>\n",
       "      <td>19995</td>\n",
       "      <td>Avatar</td>\n",
       "      <td>[Action, Adventure, Fantasy, Science Fiction]</td>\n",
       "      <td>In the 22nd century, a paraplegic Marine is di...</td>\n",
       "      <td>[culture clash, future, space war, space colon...</td>\n",
       "      <td>2009</td>\n",
       "      <td>[{\"cast_id\": 242, \"character\": \"Jake Sully\", \"...</td>\n",
       "      <td>[{\"credit_id\": \"52fe48009251416c750aca23\", \"de...</td>\n",
       "    </tr>\n",
       "    <tr>\n",
       "      <th>1</th>\n",
       "      <td>285</td>\n",
       "      <td>Pirates of the Caribbean: At World's End</td>\n",
       "      <td>[Adventure, Fantasy, Action]</td>\n",
       "      <td>Captain Barbossa, long believed to be dead, ha...</td>\n",
       "      <td>[ocean, drug abuse, exotic island, east india ...</td>\n",
       "      <td>2007</td>\n",
       "      <td>[{\"cast_id\": 4, \"character\": \"Captain Jack Spa...</td>\n",
       "      <td>[{\"credit_id\": \"52fe4232c3a36847f800b579\", \"de...</td>\n",
       "    </tr>\n",
       "    <tr>\n",
       "      <th>2</th>\n",
       "      <td>206647</td>\n",
       "      <td>Spectre</td>\n",
       "      <td>[Action, Adventure, Crime]</td>\n",
       "      <td>A cryptic message from Bond’s past sends him o...</td>\n",
       "      <td>[spy, based on novel, secret agent, sequel, mi...</td>\n",
       "      <td>2015</td>\n",
       "      <td>[{\"cast_id\": 1, \"character\": \"James Bond\", \"cr...</td>\n",
       "      <td>[{\"credit_id\": \"54805967c3a36829b5002c41\", \"de...</td>\n",
       "    </tr>\n",
       "  </tbody>\n",
       "</table>\n",
       "</div>"
      ],
      "text/plain": [
       "   movie_id                                     title  \\\n",
       "0     19995                                    Avatar   \n",
       "1       285  Pirates of the Caribbean: At World's End   \n",
       "2    206647                                   Spectre   \n",
       "\n",
       "                                          genres  \\\n",
       "0  [Action, Adventure, Fantasy, Science Fiction]   \n",
       "1                   [Adventure, Fantasy, Action]   \n",
       "2                     [Action, Adventure, Crime]   \n",
       "\n",
       "                                            overview  \\\n",
       "0  In the 22nd century, a paraplegic Marine is di...   \n",
       "1  Captain Barbossa, long believed to be dead, ha...   \n",
       "2  A cryptic message from Bond’s past sends him o...   \n",
       "\n",
       "                                            keywords release_year  \\\n",
       "0  [culture clash, future, space war, space colon...         2009   \n",
       "1  [ocean, drug abuse, exotic island, east india ...         2007   \n",
       "2  [spy, based on novel, secret agent, sequel, mi...         2015   \n",
       "\n",
       "                                                cast  \\\n",
       "0  [{\"cast_id\": 242, \"character\": \"Jake Sully\", \"...   \n",
       "1  [{\"cast_id\": 4, \"character\": \"Captain Jack Spa...   \n",
       "2  [{\"cast_id\": 1, \"character\": \"James Bond\", \"cr...   \n",
       "\n",
       "                                                crew  \n",
       "0  [{\"credit_id\": \"52fe48009251416c750aca23\", \"de...  \n",
       "1  [{\"credit_id\": \"52fe4232c3a36847f800b579\", \"de...  \n",
       "2  [{\"credit_id\": \"54805967c3a36829b5002c41\", \"de...  "
      ]
     },
     "execution_count": 28,
     "metadata": {},
     "output_type": "execute_result"
    }
   ],
   "source": [
    "movies.head(3)"
   ]
  },
  {
   "cell_type": "code",
   "execution_count": 29,
   "metadata": {},
   "outputs": [
    {
     "data": {
      "text/plain": [
       "'[{\"cast_id\": 242, \"character\": \"Jake Sully\", \"credit_id\": \"5602a8a7c3a3685532001c9a\", \"gender\": 2, \"id\": 65731, \"name\": \"Sam Worthington\", \"order\": 0}, {\"cast_id\": 3, \"character\": \"Neytiri\", \"credit_id\": \"52fe48009251416c750ac9cb\", \"gender\": 1, \"id\": 8691, \"name\": \"Zoe Saldana\", \"order\": 1}, {\"cast_id\": 25, \"character\": \"Dr. Grace Augustine\", \"credit_id\": \"52fe48009251416c750aca39\", \"gender\": 1, \"id\": 10205, \"name\": \"Sigourney Weaver\", \"order\": 2}, {\"cast_id\": 4, \"character\": \"Col. Quaritch\", \"credit_id\": \"52fe48009251416c750ac9cf\", \"gender\": 2, \"id\": 32747, \"name\": \"Stephen Lang\", \"order\": 3}, {\"cast_id\": 5, \"character\": \"Trudy Chacon\", \"credit_id\": \"52fe48009251416c750ac9d3\", \"gender\": 1, \"id\": 17647, \"name\": \"Michelle Rodriguez\", \"order\": 4}, {\"cast_id\": 8, \"character\": \"Selfridge\", \"credit_id\": \"52fe48009251416c750ac9e1\", \"gender\": 2, \"id\": 1771, \"name\": \"Giovanni Ribisi\", \"order\": 5}, {\"cast_id\": 7, \"character\": \"Norm Spellman\", \"credit_id\": \"52fe48009251416c750ac9dd\", \"gender\": 2, \"id\": 59231, \"name\": \"Joel David Moore\", \"order\": 6}, {\"cast_id\": 9, \"character\": \"Moat\", \"credit_id\": \"52fe48009251416c750ac9e5\", \"gender\": 1, \"id\": 30485, \"name\": \"CCH Pounder\", \"order\": 7}, {\"cast_id\": 11, \"character\": \"Eytukan\", \"credit_id\": \"52fe48009251416c750ac9ed\", \"gender\": 2, \"id\": 15853, \"name\": \"Wes Studi\", \"order\": 8}, {\"cast_id\": 10, \"character\": \"Tsu\\'Tey\", \"credit_id\": \"52fe48009251416c750ac9e9\", \"gender\": 2, \"id\": 10964, \"name\": \"Laz Alonso\", \"order\": 9}, {\"cast_id\": 12, \"character\": \"Dr. Max Patel\", \"credit_id\": \"52fe48009251416c750ac9f1\", \"gender\": 2, \"id\": 95697, \"name\": \"Dileep Rao\", \"order\": 10}, {\"cast_id\": 13, \"character\": \"Lyle Wainfleet\", \"credit_id\": \"52fe48009251416c750ac9f5\", \"gender\": 2, \"id\": 98215, \"name\": \"Matt Gerald\", \"order\": 11}, {\"cast_id\": 32, \"character\": \"Private Fike\", \"credit_id\": \"52fe48009251416c750aca5b\", \"gender\": 2, \"id\": 154153, \"name\": \"Sean Anthony Moran\", \"order\": 12}, {\"cast_id\": 33, \"character\": \"Cryo Vault Med Tech\", \"credit_id\": \"52fe48009251416c750aca5f\", \"gender\": 2, \"id\": 397312, \"name\": \"Jason Whyte\", \"order\": 13}, {\"cast_id\": 34, \"character\": \"Venture Star Crew Chief\", \"credit_id\": \"52fe48009251416c750aca63\", \"gender\": 2, \"id\": 42317, \"name\": \"Scott Lawrence\", \"order\": 14}, {\"cast_id\": 35, \"character\": \"Lock Up Trooper\", \"credit_id\": \"52fe48009251416c750aca67\", \"gender\": 2, \"id\": 986734, \"name\": \"Kelly Kilgour\", \"order\": 15}, {\"cast_id\": 36, \"character\": \"Shuttle Pilot\", \"credit_id\": \"52fe48009251416c750aca6b\", \"gender\": 0, \"id\": 1207227, \"name\": \"James Patrick Pitt\", \"order\": 16}, {\"cast_id\": 37, \"character\": \"Shuttle Co-Pilot\", \"credit_id\": \"52fe48009251416c750aca6f\", \"gender\": 0, \"id\": 1180936, \"name\": \"Sean Patrick Murphy\", \"order\": 17}, {\"cast_id\": 38, \"character\": \"Shuttle Crew Chief\", \"credit_id\": \"52fe48009251416c750aca73\", \"gender\": 2, \"id\": 1019578, \"name\": \"Peter Dillon\", \"order\": 18}, {\"cast_id\": 39, \"character\": \"Tractor Operator / Troupe\", \"credit_id\": \"52fe48009251416c750aca77\", \"gender\": 0, \"id\": 91443, \"name\": \"Kevin Dorman\", \"order\": 19}, {\"cast_id\": 40, \"character\": \"Dragon Gunship Pilot\", \"credit_id\": \"52fe48009251416c750aca7b\", \"gender\": 2, \"id\": 173391, \"name\": \"Kelson Henderson\", \"order\": 20}, {\"cast_id\": 41, \"character\": \"Dragon Gunship Gunner\", \"credit_id\": \"52fe48009251416c750aca7f\", \"gender\": 0, \"id\": 1207236, \"name\": \"David Van Horn\", \"order\": 21}, {\"cast_id\": 42, \"character\": \"Dragon Gunship Navigator\", \"credit_id\": \"52fe48009251416c750aca83\", \"gender\": 0, \"id\": 215913, \"name\": \"Jacob Tomuri\", \"order\": 22}, {\"cast_id\": 43, \"character\": \"Suit #1\", \"credit_id\": \"52fe48009251416c750aca87\", \"gender\": 0, \"id\": 143206, \"name\": \"Michael Blain-Rozgay\", \"order\": 23}, {\"cast_id\": 44, \"character\": \"Suit #2\", \"credit_id\": \"52fe48009251416c750aca8b\", \"gender\": 2, \"id\": 169676, \"name\": \"Jon Curry\", \"order\": 24}, {\"cast_id\": 46, \"character\": \"Ambient Room Tech\", \"credit_id\": \"52fe48009251416c750aca8f\", \"gender\": 0, \"id\": 1048610, \"name\": \"Luke Hawker\", \"order\": 25}, {\"cast_id\": 47, \"character\": \"Ambient Room Tech / Troupe\", \"credit_id\": \"52fe48009251416c750aca93\", \"gender\": 0, \"id\": 42288, \"name\": \"Woody Schultz\", \"order\": 26}, {\"cast_id\": 48, \"character\": \"Horse Clan Leader\", \"credit_id\": \"52fe48009251416c750aca97\", \"gender\": 2, \"id\": 68278, \"name\": \"Peter Mensah\", \"order\": 27}, {\"cast_id\": 49, \"character\": \"Link Room Tech\", \"credit_id\": \"52fe48009251416c750aca9b\", \"gender\": 0, \"id\": 1207247, \"name\": \"Sonia Yee\", \"order\": 28}, {\"cast_id\": 50, \"character\": \"Basketball Avatar / Troupe\", \"credit_id\": \"52fe48009251416c750aca9f\", \"gender\": 1, \"id\": 1207248, \"name\": \"Jahnel Curfman\", \"order\": 29}, {\"cast_id\": 51, \"character\": \"Basketball Avatar\", \"credit_id\": \"52fe48009251416c750acaa3\", \"gender\": 0, \"id\": 89714, \"name\": \"Ilram Choi\", \"order\": 30}, {\"cast_id\": 52, \"character\": \"Na\\'vi Child\", \"credit_id\": \"52fe48009251416c750acaa7\", \"gender\": 0, \"id\": 1207249, \"name\": \"Kyla Warren\", \"order\": 31}, {\"cast_id\": 53, \"character\": \"Troupe\", \"credit_id\": \"52fe48009251416c750acaab\", \"gender\": 0, \"id\": 1207250, \"name\": \"Lisa Roumain\", \"order\": 32}, {\"cast_id\": 54, \"character\": \"Troupe\", \"credit_id\": \"52fe48009251416c750acaaf\", \"gender\": 1, \"id\": 83105, \"name\": \"Debra Wilson\", \"order\": 33}, {\"cast_id\": 57, \"character\": \"Troupe\", \"credit_id\": \"52fe48009251416c750acabb\", \"gender\": 0, \"id\": 1207253, \"name\": \"Chris Mala\", \"order\": 34}, {\"cast_id\": 55, \"character\": \"Troupe\", \"credit_id\": \"52fe48009251416c750acab3\", \"gender\": 0, \"id\": 1207251, \"name\": \"Taylor Kibby\", \"order\": 35}, {\"cast_id\": 56, \"character\": \"Troupe\", \"credit_id\": \"52fe48009251416c750acab7\", \"gender\": 0, \"id\": 1207252, \"name\": \"Jodie Landau\", \"order\": 36}, {\"cast_id\": 58, \"character\": \"Troupe\", \"credit_id\": \"52fe48009251416c750acabf\", \"gender\": 0, \"id\": 1207254, \"name\": \"Julie Lamm\", \"order\": 37}, {\"cast_id\": 59, \"character\": \"Troupe\", \"credit_id\": \"52fe48009251416c750acac3\", \"gender\": 0, \"id\": 1207257, \"name\": \"Cullen B. Madden\", \"order\": 38}, {\"cast_id\": 60, \"character\": \"Troupe\", \"credit_id\": \"52fe48009251416c750acac7\", \"gender\": 0, \"id\": 1207259, \"name\": \"Joseph Brady Madden\", \"order\": 39}, {\"cast_id\": 61, \"character\": \"Troupe\", \"credit_id\": \"52fe48009251416c750acacb\", \"gender\": 0, \"id\": 1207262, \"name\": \"Frankie Torres\", \"order\": 40}, {\"cast_id\": 62, \"character\": \"Troupe\", \"credit_id\": \"52fe48009251416c750acacf\", \"gender\": 1, \"id\": 1158600, \"name\": \"Austin Wilson\", \"order\": 41}, {\"cast_id\": 63, \"character\": \"Troupe\", \"credit_id\": \"52fe48019251416c750acad3\", \"gender\": 1, \"id\": 983705, \"name\": \"Sara Wilson\", \"order\": 42}, {\"cast_id\": 64, \"character\": \"Troupe\", \"credit_id\": \"52fe48019251416c750acad7\", \"gender\": 0, \"id\": 1207263, \"name\": \"Tamica Washington-Miller\", \"order\": 43}, {\"cast_id\": 65, \"character\": \"Op Center Staff\", \"credit_id\": \"52fe48019251416c750acadb\", \"gender\": 1, \"id\": 1145098, \"name\": \"Lucy Briant\", \"order\": 44}, {\"cast_id\": 66, \"character\": \"Op Center Staff\", \"credit_id\": \"52fe48019251416c750acadf\", \"gender\": 2, \"id\": 33305, \"name\": \"Nathan Meister\", \"order\": 45}, {\"cast_id\": 67, \"character\": \"Op Center Staff\", \"credit_id\": \"52fe48019251416c750acae3\", \"gender\": 0, \"id\": 1207264, \"name\": \"Gerry Blair\", \"order\": 46}, {\"cast_id\": 68, \"character\": \"Op Center Staff\", \"credit_id\": \"52fe48019251416c750acae7\", \"gender\": 2, \"id\": 33311, \"name\": \"Matthew Chamberlain\", \"order\": 47}, {\"cast_id\": 69, \"character\": \"Op Center Staff\", \"credit_id\": \"52fe48019251416c750acaeb\", \"gender\": 0, \"id\": 1207265, \"name\": \"Paul Yates\", \"order\": 48}, {\"cast_id\": 70, \"character\": \"Op Center Duty Officer\", \"credit_id\": \"52fe48019251416c750acaef\", \"gender\": 0, \"id\": 1207266, \"name\": \"Wray Wilson\", \"order\": 49}, {\"cast_id\": 71, \"character\": \"Op Center Staff\", \"credit_id\": \"52fe48019251416c750acaf3\", \"gender\": 2, \"id\": 54492, \"name\": \"James Gaylyn\", \"order\": 50}, {\"cast_id\": 72, \"character\": \"Dancer\", \"credit_id\": \"52fe48019251416c750acaf7\", \"gender\": 0, \"id\": 1207267, \"name\": \"Melvin Leno Clark III\", \"order\": 51}, {\"cast_id\": 73, \"character\": \"Dancer\", \"credit_id\": \"52fe48019251416c750acafb\", \"gender\": 0, \"id\": 1207268, \"name\": \"Carvon Futrell\", \"order\": 52}, {\"cast_id\": 74, \"character\": \"Dancer\", \"credit_id\": \"52fe48019251416c750acaff\", \"gender\": 0, \"id\": 1207269, \"name\": \"Brandon Jelkes\", \"order\": 53}, {\"cast_id\": 75, \"character\": \"Dancer\", \"credit_id\": \"52fe48019251416c750acb03\", \"gender\": 0, \"id\": 1207270, \"name\": \"Micah Moch\", \"order\": 54}, {\"cast_id\": 76, \"character\": \"Dancer\", \"credit_id\": \"52fe48019251416c750acb07\", \"gender\": 0, \"id\": 1207271, \"name\": \"Hanniyah Muhammad\", \"order\": 55}, {\"cast_id\": 77, \"character\": \"Dancer\", \"credit_id\": \"52fe48019251416c750acb0b\", \"gender\": 0, \"id\": 1207272, \"name\": \"Christopher Nolen\", \"order\": 56}, {\"cast_id\": 78, \"character\": \"Dancer\", \"credit_id\": \"52fe48019251416c750acb0f\", \"gender\": 0, \"id\": 1207273, \"name\": \"Christa Oliver\", \"order\": 57}, {\"cast_id\": 79, \"character\": \"Dancer\", \"credit_id\": \"52fe48019251416c750acb13\", \"gender\": 0, \"id\": 1207274, \"name\": \"April Marie Thomas\", \"order\": 58}, {\"cast_id\": 80, \"character\": \"Dancer\", \"credit_id\": \"52fe48019251416c750acb17\", \"gender\": 0, \"id\": 1207275, \"name\": \"Bravita A. Threatt\", \"order\": 59}, {\"cast_id\": 81, \"character\": \"Mining Chief (uncredited)\", \"credit_id\": \"52fe48019251416c750acb1b\", \"gender\": 0, \"id\": 1207276, \"name\": \"Colin Bleasdale\", \"order\": 60}, {\"cast_id\": 82, \"character\": \"Veteran Miner (uncredited)\", \"credit_id\": \"52fe48019251416c750acb1f\", \"gender\": 0, \"id\": 107969, \"name\": \"Mike Bodnar\", \"order\": 61}, {\"cast_id\": 83, \"character\": \"Richard (uncredited)\", \"credit_id\": \"52fe48019251416c750acb23\", \"gender\": 0, \"id\": 1207278, \"name\": \"Matt Clayton\", \"order\": 62}, {\"cast_id\": 84, \"character\": \"Nav\\'i (uncredited)\", \"credit_id\": \"52fe48019251416c750acb27\", \"gender\": 1, \"id\": 147898, \"name\": \"Nicole Dionne\", \"order\": 63}, {\"cast_id\": 85, \"character\": \"Trooper (uncredited)\", \"credit_id\": \"52fe48019251416c750acb2b\", \"gender\": 0, \"id\": 1207280, \"name\": \"Jamie Harrison\", \"order\": 64}, {\"cast_id\": 86, \"character\": \"Trooper (uncredited)\", \"credit_id\": \"52fe48019251416c750acb2f\", \"gender\": 0, \"id\": 1207281, \"name\": \"Allan Henry\", \"order\": 65}, {\"cast_id\": 87, \"character\": \"Ground Technician (uncredited)\", \"credit_id\": \"52fe48019251416c750acb33\", \"gender\": 2, \"id\": 1207282, \"name\": \"Anthony Ingruber\", \"order\": 66}, {\"cast_id\": 88, \"character\": \"Flight Crew Mechanic (uncredited)\", \"credit_id\": \"52fe48019251416c750acb37\", \"gender\": 0, \"id\": 1207283, \"name\": \"Ashley Jeffery\", \"order\": 67}, {\"cast_id\": 14, \"character\": \"Samson Pilot\", \"credit_id\": \"52fe48009251416c750ac9f9\", \"gender\": 0, \"id\": 98216, \"name\": \"Dean Knowsley\", \"order\": 68}, {\"cast_id\": 89, \"character\": \"Trooper (uncredited)\", \"credit_id\": \"52fe48019251416c750acb3b\", \"gender\": 0, \"id\": 1201399, \"name\": \"Joseph Mika-Hunt\", \"order\": 69}, {\"cast_id\": 90, \"character\": \"Banshee (uncredited)\", \"credit_id\": \"52fe48019251416c750acb3f\", \"gender\": 0, \"id\": 236696, \"name\": \"Terry Notary\", \"order\": 70}, {\"cast_id\": 91, \"character\": \"Soldier (uncredited)\", \"credit_id\": \"52fe48019251416c750acb43\", \"gender\": 0, \"id\": 1207287, \"name\": \"Kai Pantano\", \"order\": 71}, {\"cast_id\": 92, \"character\": \"Blast Technician (uncredited)\", \"credit_id\": \"52fe48019251416c750acb47\", \"gender\": 0, \"id\": 1207288, \"name\": \"Logan Pithyou\", \"order\": 72}, {\"cast_id\": 93, \"character\": \"Vindum Raah (uncredited)\", \"credit_id\": \"52fe48019251416c750acb4b\", \"gender\": 0, \"id\": 1207289, \"name\": \"Stuart Pollock\", \"order\": 73}, {\"cast_id\": 94, \"character\": \"Hero (uncredited)\", \"credit_id\": \"52fe48019251416c750acb4f\", \"gender\": 0, \"id\": 584868, \"name\": \"Raja\", \"order\": 74}, {\"cast_id\": 95, \"character\": \"Ops Centreworker (uncredited)\", \"credit_id\": \"52fe48019251416c750acb53\", \"gender\": 0, \"id\": 1207290, \"name\": \"Gareth Ruck\", \"order\": 75}, {\"cast_id\": 96, \"character\": \"Engineer (uncredited)\", \"credit_id\": \"52fe48019251416c750acb57\", \"gender\": 0, \"id\": 1062463, \"name\": \"Rhian Sheehan\", \"order\": 76}, {\"cast_id\": 97, \"character\": \"Col. Quaritch\\'s Mech Suit (uncredited)\", \"credit_id\": \"52fe48019251416c750acb5b\", \"gender\": 0, \"id\": 60656, \"name\": \"T. J. Storm\", \"order\": 77}, {\"cast_id\": 98, \"character\": \"Female Marine (uncredited)\", \"credit_id\": \"52fe48019251416c750acb5f\", \"gender\": 0, \"id\": 1207291, \"name\": \"Jodie Taylor\", \"order\": 78}, {\"cast_id\": 99, \"character\": \"Ikran Clan Leader (uncredited)\", \"credit_id\": \"52fe48019251416c750acb63\", \"gender\": 1, \"id\": 1186027, \"name\": \"Alicia Vela-Bailey\", \"order\": 79}, {\"cast_id\": 100, \"character\": \"Geologist (uncredited)\", \"credit_id\": \"52fe48019251416c750acb67\", \"gender\": 0, \"id\": 1207292, \"name\": \"Richard Whiteside\", \"order\": 80}, {\"cast_id\": 101, \"character\": \"Na\\'vi (uncredited)\", \"credit_id\": \"52fe48019251416c750acb6b\", \"gender\": 0, \"id\": 103259, \"name\": \"Nikie Zambo\", \"order\": 81}, {\"cast_id\": 102, \"character\": \"Ambient Room Tech / Troupe\", \"credit_id\": \"52fe48019251416c750acb6f\", \"gender\": 1, \"id\": 42286, \"name\": \"Julene Renee\", \"order\": 82}]'"
      ]
     },
     "execution_count": 29,
     "metadata": {},
     "output_type": "execute_result"
    }
   ],
   "source": [
    "movies['cast'][0]"
   ]
  },
  {
   "cell_type": "code",
   "execution_count": 30,
   "metadata": {},
   "outputs": [],
   "source": [
    "def cast_converter (obj):\n",
    "    count = 0\n",
    "    N = []\n",
    "    for i in json.loads(obj):\n",
    "        if count != 3:\n",
    "            N.append(i['name'])\n",
    "            count += 1\n",
    "        else:\n",
    "            break\n",
    "        \n",
    "    return N"
   ]
  },
  {
   "cell_type": "code",
   "execution_count": 31,
   "metadata": {},
   "outputs": [],
   "source": [
    "movies['cast'] = movies['cast'].apply(cast_converter)"
   ]
  },
  {
   "cell_type": "code",
   "execution_count": 32,
   "metadata": {},
   "outputs": [
    {
     "data": {
      "text/html": [
       "<div>\n",
       "<style scoped>\n",
       "    .dataframe tbody tr th:only-of-type {\n",
       "        vertical-align: middle;\n",
       "    }\n",
       "\n",
       "    .dataframe tbody tr th {\n",
       "        vertical-align: top;\n",
       "    }\n",
       "\n",
       "    .dataframe thead th {\n",
       "        text-align: right;\n",
       "    }\n",
       "</style>\n",
       "<table border=\"1\" class=\"dataframe\">\n",
       "  <thead>\n",
       "    <tr style=\"text-align: right;\">\n",
       "      <th></th>\n",
       "      <th>movie_id</th>\n",
       "      <th>title</th>\n",
       "      <th>genres</th>\n",
       "      <th>overview</th>\n",
       "      <th>keywords</th>\n",
       "      <th>release_year</th>\n",
       "      <th>cast</th>\n",
       "      <th>crew</th>\n",
       "    </tr>\n",
       "  </thead>\n",
       "  <tbody>\n",
       "    <tr>\n",
       "      <th>0</th>\n",
       "      <td>19995</td>\n",
       "      <td>Avatar</td>\n",
       "      <td>[Action, Adventure, Fantasy, Science Fiction]</td>\n",
       "      <td>In the 22nd century, a paraplegic Marine is di...</td>\n",
       "      <td>[culture clash, future, space war, space colon...</td>\n",
       "      <td>2009</td>\n",
       "      <td>[Sam Worthington, Zoe Saldana, Sigourney Weaver]</td>\n",
       "      <td>[{\"credit_id\": \"52fe48009251416c750aca23\", \"de...</td>\n",
       "    </tr>\n",
       "    <tr>\n",
       "      <th>1</th>\n",
       "      <td>285</td>\n",
       "      <td>Pirates of the Caribbean: At World's End</td>\n",
       "      <td>[Adventure, Fantasy, Action]</td>\n",
       "      <td>Captain Barbossa, long believed to be dead, ha...</td>\n",
       "      <td>[ocean, drug abuse, exotic island, east india ...</td>\n",
       "      <td>2007</td>\n",
       "      <td>[Johnny Depp, Orlando Bloom, Keira Knightley]</td>\n",
       "      <td>[{\"credit_id\": \"52fe4232c3a36847f800b579\", \"de...</td>\n",
       "    </tr>\n",
       "    <tr>\n",
       "      <th>2</th>\n",
       "      <td>206647</td>\n",
       "      <td>Spectre</td>\n",
       "      <td>[Action, Adventure, Crime]</td>\n",
       "      <td>A cryptic message from Bond’s past sends him o...</td>\n",
       "      <td>[spy, based on novel, secret agent, sequel, mi...</td>\n",
       "      <td>2015</td>\n",
       "      <td>[Daniel Craig, Christoph Waltz, Léa Seydoux]</td>\n",
       "      <td>[{\"credit_id\": \"54805967c3a36829b5002c41\", \"de...</td>\n",
       "    </tr>\n",
       "    <tr>\n",
       "      <th>3</th>\n",
       "      <td>49026</td>\n",
       "      <td>The Dark Knight Rises</td>\n",
       "      <td>[Action, Crime, Drama, Thriller]</td>\n",
       "      <td>Following the death of District Attorney Harve...</td>\n",
       "      <td>[dc comics, crime fighter, terrorist, secret i...</td>\n",
       "      <td>2012</td>\n",
       "      <td>[Christian Bale, Michael Caine, Gary Oldman]</td>\n",
       "      <td>[{\"credit_id\": \"52fe4781c3a36847f81398c3\", \"de...</td>\n",
       "    </tr>\n",
       "    <tr>\n",
       "      <th>4</th>\n",
       "      <td>49529</td>\n",
       "      <td>John Carter</td>\n",
       "      <td>[Action, Adventure, Science Fiction]</td>\n",
       "      <td>John Carter is a war-weary, former military ca...</td>\n",
       "      <td>[based on novel, mars, medallion, space travel...</td>\n",
       "      <td>2012</td>\n",
       "      <td>[Taylor Kitsch, Lynn Collins, Samantha Morton]</td>\n",
       "      <td>[{\"credit_id\": \"52fe479ac3a36847f813eaa3\", \"de...</td>\n",
       "    </tr>\n",
       "  </tbody>\n",
       "</table>\n",
       "</div>"
      ],
      "text/plain": [
       "   movie_id                                     title  \\\n",
       "0     19995                                    Avatar   \n",
       "1       285  Pirates of the Caribbean: At World's End   \n",
       "2    206647                                   Spectre   \n",
       "3     49026                     The Dark Knight Rises   \n",
       "4     49529                               John Carter   \n",
       "\n",
       "                                          genres  \\\n",
       "0  [Action, Adventure, Fantasy, Science Fiction]   \n",
       "1                   [Adventure, Fantasy, Action]   \n",
       "2                     [Action, Adventure, Crime]   \n",
       "3               [Action, Crime, Drama, Thriller]   \n",
       "4           [Action, Adventure, Science Fiction]   \n",
       "\n",
       "                                            overview  \\\n",
       "0  In the 22nd century, a paraplegic Marine is di...   \n",
       "1  Captain Barbossa, long believed to be dead, ha...   \n",
       "2  A cryptic message from Bond’s past sends him o...   \n",
       "3  Following the death of District Attorney Harve...   \n",
       "4  John Carter is a war-weary, former military ca...   \n",
       "\n",
       "                                            keywords release_year  \\\n",
       "0  [culture clash, future, space war, space colon...         2009   \n",
       "1  [ocean, drug abuse, exotic island, east india ...         2007   \n",
       "2  [spy, based on novel, secret agent, sequel, mi...         2015   \n",
       "3  [dc comics, crime fighter, terrorist, secret i...         2012   \n",
       "4  [based on novel, mars, medallion, space travel...         2012   \n",
       "\n",
       "                                               cast  \\\n",
       "0  [Sam Worthington, Zoe Saldana, Sigourney Weaver]   \n",
       "1     [Johnny Depp, Orlando Bloom, Keira Knightley]   \n",
       "2      [Daniel Craig, Christoph Waltz, Léa Seydoux]   \n",
       "3      [Christian Bale, Michael Caine, Gary Oldman]   \n",
       "4    [Taylor Kitsch, Lynn Collins, Samantha Morton]   \n",
       "\n",
       "                                                crew  \n",
       "0  [{\"credit_id\": \"52fe48009251416c750aca23\", \"de...  \n",
       "1  [{\"credit_id\": \"52fe4232c3a36847f800b579\", \"de...  \n",
       "2  [{\"credit_id\": \"54805967c3a36829b5002c41\", \"de...  \n",
       "3  [{\"credit_id\": \"52fe4781c3a36847f81398c3\", \"de...  \n",
       "4  [{\"credit_id\": \"52fe479ac3a36847f813eaa3\", \"de...  "
      ]
     },
     "execution_count": 32,
     "metadata": {},
     "output_type": "execute_result"
    }
   ],
   "source": [
    "movies.head()"
   ]
  },
  {
   "cell_type": "code",
   "execution_count": 33,
   "metadata": {},
   "outputs": [
    {
     "data": {
      "text/plain": [
       "'[{\"credit_id\": \"52fe48009251416c750aca23\", \"department\": \"Editing\", \"gender\": 0, \"id\": 1721, \"job\": \"Editor\", \"name\": \"Stephen E. Rivkin\"}, {\"credit_id\": \"539c47ecc3a36810e3001f87\", \"department\": \"Art\", \"gender\": 2, \"id\": 496, \"job\": \"Production Design\", \"name\": \"Rick Carter\"}, {\"credit_id\": \"54491c89c3a3680fb4001cf7\", \"department\": \"Sound\", \"gender\": 0, \"id\": 900, \"job\": \"Sound Designer\", \"name\": \"Christopher Boyes\"}, {\"credit_id\": \"54491cb70e0a267480001bd0\", \"department\": \"Sound\", \"gender\": 0, \"id\": 900, \"job\": \"Supervising Sound Editor\", \"name\": \"Christopher Boyes\"}, {\"credit_id\": \"539c4a4cc3a36810c9002101\", \"department\": \"Production\", \"gender\": 1, \"id\": 1262, \"job\": \"Casting\", \"name\": \"Mali Finn\"}, {\"credit_id\": \"5544ee3b925141499f0008fc\", \"department\": \"Sound\", \"gender\": 2, \"id\": 1729, \"job\": \"Original Music Composer\", \"name\": \"James Horner\"}, {\"credit_id\": \"52fe48009251416c750ac9c3\", \"department\": \"Directing\", \"gender\": 2, \"id\": 2710, \"job\": \"Director\", \"name\": \"James Cameron\"}, {\"credit_id\": \"52fe48009251416c750ac9d9\", \"department\": \"Writing\", \"gender\": 2, \"id\": 2710, \"job\": \"Writer\", \"name\": \"James Cameron\"}, {\"credit_id\": \"52fe48009251416c750aca17\", \"department\": \"Editing\", \"gender\": 2, \"id\": 2710, \"job\": \"Editor\", \"name\": \"James Cameron\"}, {\"credit_id\": \"52fe48009251416c750aca29\", \"department\": \"Production\", \"gender\": 2, \"id\": 2710, \"job\": \"Producer\", \"name\": \"James Cameron\"}, {\"credit_id\": \"52fe48009251416c750aca3f\", \"department\": \"Writing\", \"gender\": 2, \"id\": 2710, \"job\": \"Screenplay\", \"name\": \"James Cameron\"}, {\"credit_id\": \"539c4987c3a36810ba0021a4\", \"department\": \"Art\", \"gender\": 2, \"id\": 7236, \"job\": \"Art Direction\", \"name\": \"Andrew Menzies\"}, {\"credit_id\": \"549598c3c3a3686ae9004383\", \"department\": \"Visual Effects\", \"gender\": 0, \"id\": 6690, \"job\": \"Visual Effects Producer\", \"name\": \"Jill Brooks\"}, {\"credit_id\": \"52fe48009251416c750aca4b\", \"department\": \"Production\", \"gender\": 1, \"id\": 6347, \"job\": \"Casting\", \"name\": \"Margery Simkin\"}, {\"credit_id\": \"570b6f419251417da70032fe\", \"department\": \"Art\", \"gender\": 2, \"id\": 6878, \"job\": \"Supervising Art Director\", \"name\": \"Kevin Ishioka\"}, {\"credit_id\": \"5495a0fac3a3686ae9004468\", \"department\": \"Sound\", \"gender\": 0, \"id\": 6883, \"job\": \"Music Editor\", \"name\": \"Dick Bernstein\"}, {\"credit_id\": \"54959706c3a3686af3003e81\", \"department\": \"Sound\", \"gender\": 0, \"id\": 8159, \"job\": \"Sound Effects Editor\", \"name\": \"Shannon Mills\"}, {\"credit_id\": \"54491d58c3a3680fb1001ccb\", \"department\": \"Sound\", \"gender\": 0, \"id\": 8160, \"job\": \"Foley\", \"name\": \"Dennie Thorpe\"}, {\"credit_id\": \"54491d6cc3a3680fa5001b2c\", \"department\": \"Sound\", \"gender\": 0, \"id\": 8163, \"job\": \"Foley\", \"name\": \"Jana Vance\"}, {\"credit_id\": \"52fe48009251416c750aca57\", \"department\": \"Costume & Make-Up\", \"gender\": 1, \"id\": 8527, \"job\": \"Costume Design\", \"name\": \"Deborah Lynn Scott\"}, {\"credit_id\": \"52fe48009251416c750aca2f\", \"department\": \"Production\", \"gender\": 2, \"id\": 8529, \"job\": \"Producer\", \"name\": \"Jon Landau\"}, {\"credit_id\": \"539c4937c3a36810ba002194\", \"department\": \"Art\", \"gender\": 0, \"id\": 9618, \"job\": \"Art Direction\", \"name\": \"Sean Haworth\"}, {\"credit_id\": \"539c49b6c3a36810c10020e6\", \"department\": \"Art\", \"gender\": 1, \"id\": 12653, \"job\": \"Set Decoration\", \"name\": \"Kim Sinclair\"}, {\"credit_id\": \"570b6f2f9251413a0e00020d\", \"department\": \"Art\", \"gender\": 1, \"id\": 12653, \"job\": \"Supervising Art Director\", \"name\": \"Kim Sinclair\"}, {\"credit_id\": \"54491a6c0e0a26748c001b19\", \"department\": \"Art\", \"gender\": 2, \"id\": 14350, \"job\": \"Set Designer\", \"name\": \"Richard F. Mays\"}, {\"credit_id\": \"56928cf4c3a3684cff0025c4\", \"department\": \"Production\", \"gender\": 1, \"id\": 20294, \"job\": \"Executive Producer\", \"name\": \"Laeta Kalogridis\"}, {\"credit_id\": \"52fe48009251416c750aca51\", \"department\": \"Costume & Make-Up\", \"gender\": 0, \"id\": 17675, \"job\": \"Costume Design\", \"name\": \"Mayes C. Rubeo\"}, {\"credit_id\": \"52fe48009251416c750aca11\", \"department\": \"Camera\", \"gender\": 2, \"id\": 18265, \"job\": \"Director of Photography\", \"name\": \"Mauro Fiore\"}, {\"credit_id\": \"5449194d0e0a26748f001b39\", \"department\": \"Art\", \"gender\": 0, \"id\": 42281, \"job\": \"Set Designer\", \"name\": \"Scott Herbertson\"}, {\"credit_id\": \"52fe48009251416c750aca05\", \"department\": \"Crew\", \"gender\": 0, \"id\": 42288, \"job\": \"Stunts\", \"name\": \"Woody Schultz\"}, {\"credit_id\": \"5592aefb92514152de0010f5\", \"department\": \"Costume & Make-Up\", \"gender\": 0, \"id\": 29067, \"job\": \"Makeup Artist\", \"name\": \"Linda DeVetta\"}, {\"credit_id\": \"5592afa492514152de00112c\", \"department\": \"Costume & Make-Up\", \"gender\": 0, \"id\": 29067, \"job\": \"Hairstylist\", \"name\": \"Linda DeVetta\"}, {\"credit_id\": \"54959ed592514130fc002e5d\", \"department\": \"Camera\", \"gender\": 2, \"id\": 33302, \"job\": \"Camera Operator\", \"name\": \"Richard Bluck\"}, {\"credit_id\": \"539c4891c3a36810ba002147\", \"department\": \"Art\", \"gender\": 2, \"id\": 33303, \"job\": \"Art Direction\", \"name\": \"Simon Bright\"}, {\"credit_id\": \"54959c069251417a81001f3a\", \"department\": \"Visual Effects\", \"gender\": 0, \"id\": 113145, \"job\": \"Visual Effects Supervisor\", \"name\": \"Richard Martin\"}, {\"credit_id\": \"54959a0dc3a3680ff5002c8d\", \"department\": \"Crew\", \"gender\": 2, \"id\": 58188, \"job\": \"Visual Effects Editor\", \"name\": \"Steve R. Moore\"}, {\"credit_id\": \"52fe48009251416c750aca1d\", \"department\": \"Editing\", \"gender\": 2, \"id\": 58871, \"job\": \"Editor\", \"name\": \"John Refoua\"}, {\"credit_id\": \"54491a4dc3a3680fc30018ca\", \"department\": \"Art\", \"gender\": 0, \"id\": 92359, \"job\": \"Set Designer\", \"name\": \"Karl J. Martin\"}, {\"credit_id\": \"52fe48009251416c750aca35\", \"department\": \"Camera\", \"gender\": 1, \"id\": 72201, \"job\": \"Director of Photography\", \"name\": \"Chiling Lin\"}, {\"credit_id\": \"52fe48009251416c750ac9ff\", \"department\": \"Crew\", \"gender\": 0, \"id\": 89714, \"job\": \"Stunts\", \"name\": \"Ilram Choi\"}, {\"credit_id\": \"54959c529251416e2b004394\", \"department\": \"Visual Effects\", \"gender\": 2, \"id\": 93214, \"job\": \"Visual Effects Supervisor\", \"name\": \"Steven Quale\"}, {\"credit_id\": \"54491edf0e0a267489001c37\", \"department\": \"Crew\", \"gender\": 1, \"id\": 122607, \"job\": \"Dialect Coach\", \"name\": \"Carla Meyer\"}, {\"credit_id\": \"539c485bc3a368653d001a3a\", \"department\": \"Art\", \"gender\": 2, \"id\": 132585, \"job\": \"Art Direction\", \"name\": \"Nick Bassett\"}, {\"credit_id\": \"539c4903c3a368653d001a74\", \"department\": \"Art\", \"gender\": 0, \"id\": 132596, \"job\": \"Art Direction\", \"name\": \"Jill Cormack\"}, {\"credit_id\": \"539c4967c3a368653d001a94\", \"department\": \"Art\", \"gender\": 0, \"id\": 132604, \"job\": \"Art Direction\", \"name\": \"Andy McLaren\"}, {\"credit_id\": \"52fe48009251416c750aca45\", \"department\": \"Crew\", \"gender\": 0, \"id\": 236696, \"job\": \"Motion Capture Artist\", \"name\": \"Terry Notary\"}, {\"credit_id\": \"54959e02c3a3680fc60027d2\", \"department\": \"Crew\", \"gender\": 2, \"id\": 956198, \"job\": \"Stunt Coordinator\", \"name\": \"Garrett Warren\"}, {\"credit_id\": \"54959ca3c3a3686ae300438c\", \"department\": \"Visual Effects\", \"gender\": 2, \"id\": 957874, \"job\": \"Visual Effects Supervisor\", \"name\": \"Jonathan Rothbart\"}, {\"credit_id\": \"570b6f519251412c74001b2f\", \"department\": \"Art\", \"gender\": 0, \"id\": 957889, \"job\": \"Supervising Art Director\", \"name\": \"Stefan Dechant\"}, {\"credit_id\": \"570b6f62c3a3680b77007460\", \"department\": \"Art\", \"gender\": 2, \"id\": 959555, \"job\": \"Supervising Art Director\", \"name\": \"Todd Cherniawsky\"}, {\"credit_id\": \"539c4a3ac3a36810da0021cc\", \"department\": \"Production\", \"gender\": 0, \"id\": 1016177, \"job\": \"Casting\", \"name\": \"Miranda Rivers\"}, {\"credit_id\": \"539c482cc3a36810c1002062\", \"department\": \"Art\", \"gender\": 0, \"id\": 1032536, \"job\": \"Production Design\", \"name\": \"Robert Stromberg\"}, {\"credit_id\": \"539c4b65c3a36810c9002125\", \"department\": \"Costume & Make-Up\", \"gender\": 2, \"id\": 1071680, \"job\": \"Costume Design\", \"name\": \"John Harding\"}, {\"credit_id\": \"54959e6692514130fc002e4e\", \"department\": \"Camera\", \"gender\": 0, \"id\": 1177364, \"job\": \"Steadicam Operator\", \"name\": \"Roberto De Angelis\"}, {\"credit_id\": \"539c49f1c3a368653d001aac\", \"department\": \"Costume & Make-Up\", \"gender\": 2, \"id\": 1202850, \"job\": \"Makeup Department Head\", \"name\": \"Mike Smithson\"}, {\"credit_id\": \"5495999ec3a3686ae100460c\", \"department\": \"Visual Effects\", \"gender\": 0, \"id\": 1204668, \"job\": \"Visual Effects Producer\", \"name\": \"Alain Lalanne\"}, {\"credit_id\": \"54959cdfc3a3681153002729\", \"department\": \"Visual Effects\", \"gender\": 0, \"id\": 1206410, \"job\": \"Visual Effects Supervisor\", \"name\": \"Lucas Salton\"}, {\"credit_id\": \"549596239251417a81001eae\", \"department\": \"Crew\", \"gender\": 0, \"id\": 1234266, \"job\": \"Post Production Supervisor\", \"name\": \"Janace Tashjian\"}, {\"credit_id\": \"54959c859251416e1e003efe\", \"department\": \"Visual Effects\", \"gender\": 0, \"id\": 1271932, \"job\": \"Visual Effects Supervisor\", \"name\": \"Stephen Rosenbaum\"}, {\"credit_id\": \"5592af28c3a368775a00105f\", \"department\": \"Costume & Make-Up\", \"gender\": 0, \"id\": 1310064, \"job\": \"Makeup Artist\", \"name\": \"Frankie Karena\"}, {\"credit_id\": \"539c4adfc3a36810e300203b\", \"department\": \"Costume & Make-Up\", \"gender\": 1, \"id\": 1319844, \"job\": \"Costume Supervisor\", \"name\": \"Lisa Lovaas\"}, {\"credit_id\": \"54959b579251416e2b004371\", \"department\": \"Visual Effects\", \"gender\": 0, \"id\": 1327028, \"job\": \"Visual Effects Supervisor\", \"name\": \"Jonathan Fawkner\"}, {\"credit_id\": \"539c48a7c3a36810b5001fa7\", \"department\": \"Art\", \"gender\": 0, \"id\": 1330561, \"job\": \"Art Direction\", \"name\": \"Robert Bavin\"}, {\"credit_id\": \"539c4a71c3a36810da0021e0\", \"department\": \"Costume & Make-Up\", \"gender\": 0, \"id\": 1330567, \"job\": \"Costume Supervisor\", \"name\": \"Anthony Almaraz\"}, {\"credit_id\": \"539c4a8ac3a36810ba0021e4\", \"department\": \"Costume & Make-Up\", \"gender\": 0, \"id\": 1330570, \"job\": \"Costume Supervisor\", \"name\": \"Carolyn M. Fenton\"}, {\"credit_id\": \"539c4ab6c3a36810da0021f0\", \"department\": \"Costume & Make-Up\", \"gender\": 0, \"id\": 1330574, \"job\": \"Costume Supervisor\", \"name\": \"Beth Koenigsberg\"}, {\"credit_id\": \"54491ab70e0a267480001ba2\", \"department\": \"Art\", \"gender\": 0, \"id\": 1336191, \"job\": \"Set Designer\", \"name\": \"Sam Page\"}, {\"credit_id\": \"544919d9c3a3680fc30018bd\", \"department\": \"Art\", \"gender\": 0, \"id\": 1339441, \"job\": \"Set Designer\", \"name\": \"Tex Kadonaga\"}, {\"credit_id\": \"54491cf50e0a267483001b0c\", \"department\": \"Editing\", \"gender\": 0, \"id\": 1352422, \"job\": \"Dialogue Editor\", \"name\": \"Kim Foscato\"}, {\"credit_id\": \"544919f40e0a26748c001b09\", \"department\": \"Art\", \"gender\": 0, \"id\": 1352962, \"job\": \"Set Designer\", \"name\": \"Tammy S. Lee\"}, {\"credit_id\": \"5495a115c3a3680ff5002d71\", \"department\": \"Crew\", \"gender\": 0, \"id\": 1357070, \"job\": \"Transportation Coordinator\", \"name\": \"Denny Caira\"}, {\"credit_id\": \"5495a12f92514130fc002e94\", \"department\": \"Crew\", \"gender\": 0, \"id\": 1357071, \"job\": \"Transportation Coordinator\", \"name\": \"James Waitkus\"}, {\"credit_id\": \"5495976fc3a36811530026b0\", \"department\": \"Sound\", \"gender\": 0, \"id\": 1360103, \"job\": \"Supervising Sound Editor\", \"name\": \"Addison Teague\"}, {\"credit_id\": \"54491837c3a3680fb1001c5a\", \"department\": \"Art\", \"gender\": 2, \"id\": 1376887, \"job\": \"Set Designer\", \"name\": \"C. Scott Baker\"}, {\"credit_id\": \"54491878c3a3680fb4001c9d\", \"department\": \"Art\", \"gender\": 0, \"id\": 1376888, \"job\": \"Set Designer\", \"name\": \"Luke Caska\"}, {\"credit_id\": \"544918dac3a3680fa5001ae0\", \"department\": \"Art\", \"gender\": 0, \"id\": 1376889, \"job\": \"Set Designer\", \"name\": \"David Chow\"}, {\"credit_id\": \"544919110e0a267486001b68\", \"department\": \"Art\", \"gender\": 0, \"id\": 1376890, \"job\": \"Set Designer\", \"name\": \"Jonathan Dyer\"}, {\"credit_id\": \"54491967c3a3680faa001b5e\", \"department\": \"Art\", \"gender\": 0, \"id\": 1376891, \"job\": \"Set Designer\", \"name\": \"Joseph Hiura\"}, {\"credit_id\": \"54491997c3a3680fb1001c8a\", \"department\": \"Art\", \"gender\": 0, \"id\": 1376892, \"job\": \"Art Department Coordinator\", \"name\": \"Rebecca Jellie\"}, {\"credit_id\": \"544919ba0e0a26748f001b42\", \"department\": \"Art\", \"gender\": 0, \"id\": 1376893, \"job\": \"Set Designer\", \"name\": \"Robert Andrew Johnson\"}, {\"credit_id\": \"54491b1dc3a3680faa001b8c\", \"department\": \"Art\", \"gender\": 0, \"id\": 1376895, \"job\": \"Assistant Art Director\", \"name\": \"Mike Stassi\"}, {\"credit_id\": \"54491b79c3a3680fbb001826\", \"department\": \"Art\", \"gender\": 0, \"id\": 1376897, \"job\": \"Construction Coordinator\", \"name\": \"John Villarino\"}, {\"credit_id\": \"54491baec3a3680fb4001ce6\", \"department\": \"Art\", \"gender\": 2, \"id\": 1376898, \"job\": \"Assistant Art Director\", \"name\": \"Jeffrey Wisniewski\"}, {\"credit_id\": \"54491d2fc3a3680fb4001d07\", \"department\": \"Editing\", \"gender\": 0, \"id\": 1376899, \"job\": \"Dialogue Editor\", \"name\": \"Cheryl Nardi\"}, {\"credit_id\": \"54491d86c3a3680fa5001b2f\", \"department\": \"Editing\", \"gender\": 0, \"id\": 1376901, \"job\": \"Dialogue Editor\", \"name\": \"Marshall Winn\"}, {\"credit_id\": \"54491d9dc3a3680faa001bb0\", \"department\": \"Sound\", \"gender\": 0, \"id\": 1376902, \"job\": \"Supervising Sound Editor\", \"name\": \"Gwendolyn Yates Whittle\"}, {\"credit_id\": \"54491dc10e0a267486001bce\", \"department\": \"Sound\", \"gender\": 0, \"id\": 1376903, \"job\": \"Sound Re-Recording Mixer\", \"name\": \"William Stein\"}, {\"credit_id\": \"54491f500e0a26747c001c07\", \"department\": \"Crew\", \"gender\": 0, \"id\": 1376909, \"job\": \"Choreographer\", \"name\": \"Lula Washington\"}, {\"credit_id\": \"549599239251412c4e002a2e\", \"department\": \"Visual Effects\", \"gender\": 0, \"id\": 1391692, \"job\": \"Visual Effects Producer\", \"name\": \"Chris Del Conte\"}, {\"credit_id\": \"54959d54c3a36831b8001d9a\", \"department\": \"Visual Effects\", \"gender\": 2, \"id\": 1391695, \"job\": \"Visual Effects Supervisor\", \"name\": \"R. Christopher White\"}, {\"credit_id\": \"54959bdf9251412c4e002a66\", \"department\": \"Visual Effects\", \"gender\": 0, \"id\": 1394070, \"job\": \"Visual Effects Supervisor\", \"name\": \"Dan Lemmon\"}, {\"credit_id\": \"5495971d92514132ed002922\", \"department\": \"Sound\", \"gender\": 0, \"id\": 1394129, \"job\": \"Sound Effects Editor\", \"name\": \"Tim Nielsen\"}, {\"credit_id\": \"5592b25792514152cc0011aa\", \"department\": \"Crew\", \"gender\": 0, \"id\": 1394286, \"job\": \"CG Supervisor\", \"name\": \"Michael Mulholland\"}, {\"credit_id\": \"54959a329251416e2b004355\", \"department\": \"Crew\", \"gender\": 0, \"id\": 1394750, \"job\": \"Visual Effects Editor\", \"name\": \"Thomas Nittmann\"}, {\"credit_id\": \"54959d6dc3a3686ae9004401\", \"department\": \"Visual Effects\", \"gender\": 0, \"id\": 1394755, \"job\": \"Visual Effects Supervisor\", \"name\": \"Edson Williams\"}, {\"credit_id\": \"5495a08fc3a3686ae300441c\", \"department\": \"Editing\", \"gender\": 0, \"id\": 1394953, \"job\": \"Digital Intermediate\", \"name\": \"Christine Carr\"}, {\"credit_id\": \"55402d659251413d6d000249\", \"department\": \"Visual Effects\", \"gender\": 0, \"id\": 1395269, \"job\": \"Visual Effects Supervisor\", \"name\": \"John Bruno\"}, {\"credit_id\": \"54959e7b9251416e1e003f3e\", \"department\": \"Camera\", \"gender\": 0, \"id\": 1398970, \"job\": \"Steadicam Operator\", \"name\": \"David Emmerichs\"}, {\"credit_id\": \"54959734c3a3686ae10045e0\", \"department\": \"Sound\", \"gender\": 0, \"id\": 1400906, \"job\": \"Sound Effects Editor\", \"name\": \"Christopher Scarabosio\"}, {\"credit_id\": \"549595dd92514130fc002d79\", \"department\": \"Production\", \"gender\": 0, \"id\": 1401784, \"job\": \"Production Supervisor\", \"name\": \"Jennifer Teves\"}, {\"credit_id\": \"549596009251413af70028cc\", \"department\": \"Production\", \"gender\": 0, \"id\": 1401785, \"job\": \"Production Manager\", \"name\": \"Brigitte Yorke\"}, {\"credit_id\": \"549596e892514130fc002d99\", \"department\": \"Sound\", \"gender\": 0, \"id\": 1401786, \"job\": \"Sound Effects Editor\", \"name\": \"Ken Fischer\"}, {\"credit_id\": \"549598229251412c4e002a1c\", \"department\": \"Crew\", \"gender\": 0, \"id\": 1401787, \"job\": \"Special Effects Coordinator\", \"name\": \"Iain Hutton\"}, {\"credit_id\": \"549598349251416e2b00432b\", \"department\": \"Crew\", \"gender\": 0, \"id\": 1401788, \"job\": \"Special Effects Coordinator\", \"name\": \"Steve Ingram\"}, {\"credit_id\": \"54959905c3a3686ae3004324\", \"department\": \"Visual Effects\", \"gender\": 0, \"id\": 1401789, \"job\": \"Visual Effects Producer\", \"name\": \"Joyce Cox\"}, {\"credit_id\": \"5495994b92514132ed002951\", \"department\": \"Visual Effects\", \"gender\": 0, \"id\": 1401790, \"job\": \"Visual Effects Producer\", \"name\": \"Jenny Foster\"}, {\"credit_id\": \"549599cbc3a3686ae1004613\", \"department\": \"Crew\", \"gender\": 0, \"id\": 1401791, \"job\": \"Visual Effects Editor\", \"name\": \"Christopher Marino\"}, {\"credit_id\": \"549599f2c3a3686ae100461e\", \"department\": \"Crew\", \"gender\": 0, \"id\": 1401792, \"job\": \"Visual Effects Editor\", \"name\": \"Jim Milton\"}, {\"credit_id\": \"54959a51c3a3686af3003eb5\", \"department\": \"Visual Effects\", \"gender\": 0, \"id\": 1401793, \"job\": \"Visual Effects Producer\", \"name\": \"Cyndi Ochs\"}, {\"credit_id\": \"54959a7cc3a36811530026f4\", \"department\": \"Crew\", \"gender\": 0, \"id\": 1401794, \"job\": \"Visual Effects Editor\", \"name\": \"Lucas Putnam\"}, {\"credit_id\": \"54959b91c3a3680ff5002cb4\", \"department\": \"Visual Effects\", \"gender\": 0, \"id\": 1401795, \"job\": \"Visual Effects Supervisor\", \"name\": \"Anthony \\'Max\\' Ivins\"}, {\"credit_id\": \"54959bb69251412c4e002a5f\", \"department\": \"Visual Effects\", \"gender\": 0, \"id\": 1401796, \"job\": \"Visual Effects Supervisor\", \"name\": \"John Knoll\"}, {\"credit_id\": \"54959cbbc3a3686ae3004391\", \"department\": \"Visual Effects\", \"gender\": 2, \"id\": 1401799, \"job\": \"Visual Effects Supervisor\", \"name\": \"Eric Saindon\"}, {\"credit_id\": \"54959d06c3a3686ae90043f6\", \"department\": \"Visual Effects\", \"gender\": 0, \"id\": 1401800, \"job\": \"Visual Effects Supervisor\", \"name\": \"Wayne Stables\"}, {\"credit_id\": \"54959d259251416e1e003f11\", \"department\": \"Visual Effects\", \"gender\": 0, \"id\": 1401801, \"job\": \"Visual Effects Supervisor\", \"name\": \"David Stinnett\"}, {\"credit_id\": \"54959db49251413af7002975\", \"department\": \"Visual Effects\", \"gender\": 0, \"id\": 1401803, \"job\": \"Visual Effects Supervisor\", \"name\": \"Guy Williams\"}, {\"credit_id\": \"54959de4c3a3681153002750\", \"department\": \"Crew\", \"gender\": 0, \"id\": 1401804, \"job\": \"Stunt Coordinator\", \"name\": \"Stuart Thorp\"}, {\"credit_id\": \"54959ef2c3a3680fc60027f2\", \"department\": \"Lighting\", \"gender\": 0, \"id\": 1401805, \"job\": \"Best Boy Electric\", \"name\": \"Giles Coburn\"}, {\"credit_id\": \"54959f07c3a3680fc60027f9\", \"department\": \"Camera\", \"gender\": 2, \"id\": 1401806, \"job\": \"Still Photographer\", \"name\": \"Mark Fellman\"}, {\"credit_id\": \"54959f47c3a3681153002774\", \"department\": \"Lighting\", \"gender\": 0, \"id\": 1401807, \"job\": \"Lighting Technician\", \"name\": \"Scott Sprague\"}, {\"credit_id\": \"54959f8cc3a36831b8001df2\", \"department\": \"Visual Effects\", \"gender\": 0, \"id\": 1401808, \"job\": \"Animation Director\", \"name\": \"Jeremy Hollobon\"}, {\"credit_id\": \"54959fa0c3a36831b8001dfb\", \"department\": \"Visual Effects\", \"gender\": 0, \"id\": 1401809, \"job\": \"Animation Director\", \"name\": \"Orlando Meunier\"}, {\"credit_id\": \"54959fb6c3a3686af3003f54\", \"department\": \"Visual Effects\", \"gender\": 0, \"id\": 1401810, \"job\": \"Animation Director\", \"name\": \"Taisuke Tanimura\"}, {\"credit_id\": \"54959fd2c3a36831b8001e02\", \"department\": \"Costume & Make-Up\", \"gender\": 0, \"id\": 1401812, \"job\": \"Set Costumer\", \"name\": \"Lilia Mishel Acevedo\"}, {\"credit_id\": \"54959ff9c3a3686ae300440c\", \"department\": \"Costume & Make-Up\", \"gender\": 0, \"id\": 1401814, \"job\": \"Set Costumer\", \"name\": \"Alejandro M. Hernandez\"}, {\"credit_id\": \"5495a0ddc3a3686ae10046fe\", \"department\": \"Editing\", \"gender\": 0, \"id\": 1401815, \"job\": \"Digital Intermediate\", \"name\": \"Marvin Hall\"}, {\"credit_id\": \"5495a1f7c3a3686ae3004443\", \"department\": \"Production\", \"gender\": 0, \"id\": 1401816, \"job\": \"Publicist\", \"name\": \"Judy Alley\"}, {\"credit_id\": \"5592b29fc3a36869d100002f\", \"department\": \"Crew\", \"gender\": 0, \"id\": 1418381, \"job\": \"CG Supervisor\", \"name\": \"Mike Perry\"}, {\"credit_id\": \"5592b23a9251415df8001081\", \"department\": \"Crew\", \"gender\": 0, \"id\": 1426854, \"job\": \"CG Supervisor\", \"name\": \"Andrew Morley\"}, {\"credit_id\": \"55491e1192514104c40002d8\", \"department\": \"Art\", \"gender\": 0, \"id\": 1438901, \"job\": \"Conceptual Design\", \"name\": \"Seth Engstrom\"}, {\"credit_id\": \"5525d5809251417276002b06\", \"department\": \"Crew\", \"gender\": 0, \"id\": 1447362, \"job\": \"Visual Effects Art Director\", \"name\": \"Eric Oliver\"}, {\"credit_id\": \"554427ca925141586500312a\", \"department\": \"Visual Effects\", \"gender\": 0, \"id\": 1447503, \"job\": \"Modeling\", \"name\": \"Matsune Suzuki\"}, {\"credit_id\": \"551906889251415aab001c88\", \"department\": \"Art\", \"gender\": 0, \"id\": 1447524, \"job\": \"Art Department Manager\", \"name\": \"Paul Tobin\"}, {\"credit_id\": \"5592af8492514152cc0010de\", \"department\": \"Costume & Make-Up\", \"gender\": 0, \"id\": 1452643, \"job\": \"Hairstylist\", \"name\": \"Roxane Griffin\"}, {\"credit_id\": \"553d3c109251415852001318\", \"department\": \"Lighting\", \"gender\": 0, \"id\": 1453938, \"job\": \"Lighting Artist\", \"name\": \"Arun Ram-Mohan\"}, {\"credit_id\": \"5592af4692514152d5001355\", \"department\": \"Costume & Make-Up\", \"gender\": 0, \"id\": 1457305, \"job\": \"Makeup Artist\", \"name\": \"Georgia Lockhart-Adams\"}, {\"credit_id\": \"5592b2eac3a36877470012a5\", \"department\": \"Crew\", \"gender\": 0, \"id\": 1466035, \"job\": \"CG Supervisor\", \"name\": \"Thrain Shadbolt\"}, {\"credit_id\": \"5592b032c3a36877450015f1\", \"department\": \"Crew\", \"gender\": 0, \"id\": 1483220, \"job\": \"CG Supervisor\", \"name\": \"Brad Alexander\"}, {\"credit_id\": \"5592b05592514152d80012f6\", \"department\": \"Crew\", \"gender\": 0, \"id\": 1483221, \"job\": \"CG Supervisor\", \"name\": \"Shadi Almassizadeh\"}, {\"credit_id\": \"5592b090c3a36877570010b5\", \"department\": \"Crew\", \"gender\": 0, \"id\": 1483222, \"job\": \"CG Supervisor\", \"name\": \"Simon Clutterbuck\"}, {\"credit_id\": \"5592b0dbc3a368774b00112c\", \"department\": \"Crew\", \"gender\": 0, \"id\": 1483223, \"job\": \"CG Supervisor\", \"name\": \"Graeme Demmocks\"}, {\"credit_id\": \"5592b0fe92514152db0010c1\", \"department\": \"Crew\", \"gender\": 0, \"id\": 1483224, \"job\": \"CG Supervisor\", \"name\": \"Adrian Fernandes\"}, {\"credit_id\": \"5592b11f9251415df8001059\", \"department\": \"Crew\", \"gender\": 0, \"id\": 1483225, \"job\": \"CG Supervisor\", \"name\": \"Mitch Gates\"}, {\"credit_id\": \"5592b15dc3a3687745001645\", \"department\": \"Crew\", \"gender\": 0, \"id\": 1483226, \"job\": \"CG Supervisor\", \"name\": \"Jerry Kung\"}, {\"credit_id\": \"5592b18e925141645a0004ae\", \"department\": \"Crew\", \"gender\": 0, \"id\": 1483227, \"job\": \"CG Supervisor\", \"name\": \"Andy Lomas\"}, {\"credit_id\": \"5592b1bfc3a368775d0010e7\", \"department\": \"Crew\", \"gender\": 0, \"id\": 1483228, \"job\": \"CG Supervisor\", \"name\": \"Sebastian Marino\"}, {\"credit_id\": \"5592b2049251415df8001078\", \"department\": \"Crew\", \"gender\": 0, \"id\": 1483229, \"job\": \"CG Supervisor\", \"name\": \"Matthias Menz\"}, {\"credit_id\": \"5592b27b92514152d800136a\", \"department\": \"Crew\", \"gender\": 0, \"id\": 1483230, \"job\": \"CG Supervisor\", \"name\": \"Sergei Nevshupov\"}, {\"credit_id\": \"5592b2c3c3a36869e800003c\", \"department\": \"Crew\", \"gender\": 0, \"id\": 1483231, \"job\": \"CG Supervisor\", \"name\": \"Philippe Rebours\"}, {\"credit_id\": \"5592b317c3a36877470012af\", \"department\": \"Crew\", \"gender\": 0, \"id\": 1483232, \"job\": \"CG Supervisor\", \"name\": \"Michael Takarangi\"}, {\"credit_id\": \"5592b345c3a36877470012bb\", \"department\": \"Crew\", \"gender\": 0, \"id\": 1483233, \"job\": \"CG Supervisor\", \"name\": \"David Weitzberg\"}, {\"credit_id\": \"5592b37cc3a368775100113b\", \"department\": \"Crew\", \"gender\": 0, \"id\": 1483234, \"job\": \"CG Supervisor\", \"name\": \"Ben White\"}, {\"credit_id\": \"573c8e2f9251413f5d000094\", \"department\": \"Crew\", \"gender\": 1, \"id\": 1621932, \"job\": \"Stunts\", \"name\": \"Min Windle\"}]'"
      ]
     },
     "execution_count": 33,
     "metadata": {},
     "output_type": "execute_result"
    }
   ],
   "source": [
    "movies['crew'][0]"
   ]
  },
  {
   "cell_type": "code",
   "execution_count": 34,
   "metadata": {},
   "outputs": [],
   "source": [
    "def crew_converter (obj):\n",
    "    D = []\n",
    "    for i in json.loads(obj):\n",
    "        if i['job'] == 'Director':\n",
    "            D.append(i['name'])\n",
    "            break\n",
    "        \n",
    "    return D"
   ]
  },
  {
   "cell_type": "code",
   "execution_count": 35,
   "metadata": {},
   "outputs": [],
   "source": [
    "movies['crew'] = movies['crew'].apply(crew_converter)"
   ]
  },
  {
   "cell_type": "code",
   "execution_count": 36,
   "metadata": {},
   "outputs": [
    {
     "data": {
      "text/html": [
       "<div>\n",
       "<style scoped>\n",
       "    .dataframe tbody tr th:only-of-type {\n",
       "        vertical-align: middle;\n",
       "    }\n",
       "\n",
       "    .dataframe tbody tr th {\n",
       "        vertical-align: top;\n",
       "    }\n",
       "\n",
       "    .dataframe thead th {\n",
       "        text-align: right;\n",
       "    }\n",
       "</style>\n",
       "<table border=\"1\" class=\"dataframe\">\n",
       "  <thead>\n",
       "    <tr style=\"text-align: right;\">\n",
       "      <th></th>\n",
       "      <th>movie_id</th>\n",
       "      <th>title</th>\n",
       "      <th>genres</th>\n",
       "      <th>overview</th>\n",
       "      <th>keywords</th>\n",
       "      <th>release_year</th>\n",
       "      <th>cast</th>\n",
       "      <th>crew</th>\n",
       "    </tr>\n",
       "  </thead>\n",
       "  <tbody>\n",
       "    <tr>\n",
       "      <th>0</th>\n",
       "      <td>19995</td>\n",
       "      <td>Avatar</td>\n",
       "      <td>[Action, Adventure, Fantasy, Science Fiction]</td>\n",
       "      <td>In the 22nd century, a paraplegic Marine is di...</td>\n",
       "      <td>[culture clash, future, space war, space colon...</td>\n",
       "      <td>2009</td>\n",
       "      <td>[Sam Worthington, Zoe Saldana, Sigourney Weaver]</td>\n",
       "      <td>[James Cameron]</td>\n",
       "    </tr>\n",
       "    <tr>\n",
       "      <th>1</th>\n",
       "      <td>285</td>\n",
       "      <td>Pirates of the Caribbean: At World's End</td>\n",
       "      <td>[Adventure, Fantasy, Action]</td>\n",
       "      <td>Captain Barbossa, long believed to be dead, ha...</td>\n",
       "      <td>[ocean, drug abuse, exotic island, east india ...</td>\n",
       "      <td>2007</td>\n",
       "      <td>[Johnny Depp, Orlando Bloom, Keira Knightley]</td>\n",
       "      <td>[Gore Verbinski]</td>\n",
       "    </tr>\n",
       "    <tr>\n",
       "      <th>2</th>\n",
       "      <td>206647</td>\n",
       "      <td>Spectre</td>\n",
       "      <td>[Action, Adventure, Crime]</td>\n",
       "      <td>A cryptic message from Bond’s past sends him o...</td>\n",
       "      <td>[spy, based on novel, secret agent, sequel, mi...</td>\n",
       "      <td>2015</td>\n",
       "      <td>[Daniel Craig, Christoph Waltz, Léa Seydoux]</td>\n",
       "      <td>[Sam Mendes]</td>\n",
       "    </tr>\n",
       "    <tr>\n",
       "      <th>3</th>\n",
       "      <td>49026</td>\n",
       "      <td>The Dark Knight Rises</td>\n",
       "      <td>[Action, Crime, Drama, Thriller]</td>\n",
       "      <td>Following the death of District Attorney Harve...</td>\n",
       "      <td>[dc comics, crime fighter, terrorist, secret i...</td>\n",
       "      <td>2012</td>\n",
       "      <td>[Christian Bale, Michael Caine, Gary Oldman]</td>\n",
       "      <td>[Christopher Nolan]</td>\n",
       "    </tr>\n",
       "    <tr>\n",
       "      <th>4</th>\n",
       "      <td>49529</td>\n",
       "      <td>John Carter</td>\n",
       "      <td>[Action, Adventure, Science Fiction]</td>\n",
       "      <td>John Carter is a war-weary, former military ca...</td>\n",
       "      <td>[based on novel, mars, medallion, space travel...</td>\n",
       "      <td>2012</td>\n",
       "      <td>[Taylor Kitsch, Lynn Collins, Samantha Morton]</td>\n",
       "      <td>[Andrew Stanton]</td>\n",
       "    </tr>\n",
       "    <tr>\n",
       "      <th>5</th>\n",
       "      <td>559</td>\n",
       "      <td>Spider-Man 3</td>\n",
       "      <td>[Fantasy, Action, Adventure]</td>\n",
       "      <td>The seemingly invincible Spider-Man goes up ag...</td>\n",
       "      <td>[dual identity, amnesia, sandstorm, love of on...</td>\n",
       "      <td>2007</td>\n",
       "      <td>[Tobey Maguire, Kirsten Dunst, James Franco]</td>\n",
       "      <td>[Sam Raimi]</td>\n",
       "    </tr>\n",
       "    <tr>\n",
       "      <th>6</th>\n",
       "      <td>38757</td>\n",
       "      <td>Tangled</td>\n",
       "      <td>[Animation, Family]</td>\n",
       "      <td>When the kingdom's most wanted-and most charmi...</td>\n",
       "      <td>[hostage, magic, horse, fairy tale, musical, p...</td>\n",
       "      <td>2010</td>\n",
       "      <td>[Zachary Levi, Mandy Moore, Donna Murphy]</td>\n",
       "      <td>[Byron Howard]</td>\n",
       "    </tr>\n",
       "    <tr>\n",
       "      <th>7</th>\n",
       "      <td>99861</td>\n",
       "      <td>Avengers: Age of Ultron</td>\n",
       "      <td>[Action, Adventure, Science Fiction]</td>\n",
       "      <td>When Tony Stark tries to jumpstart a dormant p...</td>\n",
       "      <td>[marvel comic, sequel, superhero, based on com...</td>\n",
       "      <td>2015</td>\n",
       "      <td>[Robert Downey Jr., Chris Hemsworth, Mark Ruff...</td>\n",
       "      <td>[Joss Whedon]</td>\n",
       "    </tr>\n",
       "    <tr>\n",
       "      <th>8</th>\n",
       "      <td>767</td>\n",
       "      <td>Harry Potter and the Half-Blood Prince</td>\n",
       "      <td>[Adventure, Fantasy, Family]</td>\n",
       "      <td>As Harry begins his sixth year at Hogwarts, he...</td>\n",
       "      <td>[witch, magic, broom, school of witchcraft, wi...</td>\n",
       "      <td>2009</td>\n",
       "      <td>[Daniel Radcliffe, Rupert Grint, Emma Watson]</td>\n",
       "      <td>[David Yates]</td>\n",
       "    </tr>\n",
       "    <tr>\n",
       "      <th>9</th>\n",
       "      <td>209112</td>\n",
       "      <td>Batman v Superman: Dawn of Justice</td>\n",
       "      <td>[Action, Adventure, Fantasy]</td>\n",
       "      <td>Fearing the actions of a god-like Super Hero l...</td>\n",
       "      <td>[dc comics, vigilante, superhero, based on com...</td>\n",
       "      <td>2016</td>\n",
       "      <td>[Ben Affleck, Henry Cavill, Gal Gadot]</td>\n",
       "      <td>[Zack Snyder]</td>\n",
       "    </tr>\n",
       "  </tbody>\n",
       "</table>\n",
       "</div>"
      ],
      "text/plain": [
       "   movie_id                                     title  \\\n",
       "0     19995                                    Avatar   \n",
       "1       285  Pirates of the Caribbean: At World's End   \n",
       "2    206647                                   Spectre   \n",
       "3     49026                     The Dark Knight Rises   \n",
       "4     49529                               John Carter   \n",
       "5       559                              Spider-Man 3   \n",
       "6     38757                                   Tangled   \n",
       "7     99861                   Avengers: Age of Ultron   \n",
       "8       767    Harry Potter and the Half-Blood Prince   \n",
       "9    209112        Batman v Superman: Dawn of Justice   \n",
       "\n",
       "                                          genres  \\\n",
       "0  [Action, Adventure, Fantasy, Science Fiction]   \n",
       "1                   [Adventure, Fantasy, Action]   \n",
       "2                     [Action, Adventure, Crime]   \n",
       "3               [Action, Crime, Drama, Thriller]   \n",
       "4           [Action, Adventure, Science Fiction]   \n",
       "5                   [Fantasy, Action, Adventure]   \n",
       "6                            [Animation, Family]   \n",
       "7           [Action, Adventure, Science Fiction]   \n",
       "8                   [Adventure, Fantasy, Family]   \n",
       "9                   [Action, Adventure, Fantasy]   \n",
       "\n",
       "                                            overview  \\\n",
       "0  In the 22nd century, a paraplegic Marine is di...   \n",
       "1  Captain Barbossa, long believed to be dead, ha...   \n",
       "2  A cryptic message from Bond’s past sends him o...   \n",
       "3  Following the death of District Attorney Harve...   \n",
       "4  John Carter is a war-weary, former military ca...   \n",
       "5  The seemingly invincible Spider-Man goes up ag...   \n",
       "6  When the kingdom's most wanted-and most charmi...   \n",
       "7  When Tony Stark tries to jumpstart a dormant p...   \n",
       "8  As Harry begins his sixth year at Hogwarts, he...   \n",
       "9  Fearing the actions of a god-like Super Hero l...   \n",
       "\n",
       "                                            keywords release_year  \\\n",
       "0  [culture clash, future, space war, space colon...         2009   \n",
       "1  [ocean, drug abuse, exotic island, east india ...         2007   \n",
       "2  [spy, based on novel, secret agent, sequel, mi...         2015   \n",
       "3  [dc comics, crime fighter, terrorist, secret i...         2012   \n",
       "4  [based on novel, mars, medallion, space travel...         2012   \n",
       "5  [dual identity, amnesia, sandstorm, love of on...         2007   \n",
       "6  [hostage, magic, horse, fairy tale, musical, p...         2010   \n",
       "7  [marvel comic, sequel, superhero, based on com...         2015   \n",
       "8  [witch, magic, broom, school of witchcraft, wi...         2009   \n",
       "9  [dc comics, vigilante, superhero, based on com...         2016   \n",
       "\n",
       "                                                cast                 crew  \n",
       "0   [Sam Worthington, Zoe Saldana, Sigourney Weaver]      [James Cameron]  \n",
       "1      [Johnny Depp, Orlando Bloom, Keira Knightley]     [Gore Verbinski]  \n",
       "2       [Daniel Craig, Christoph Waltz, Léa Seydoux]         [Sam Mendes]  \n",
       "3       [Christian Bale, Michael Caine, Gary Oldman]  [Christopher Nolan]  \n",
       "4     [Taylor Kitsch, Lynn Collins, Samantha Morton]     [Andrew Stanton]  \n",
       "5       [Tobey Maguire, Kirsten Dunst, James Franco]          [Sam Raimi]  \n",
       "6          [Zachary Levi, Mandy Moore, Donna Murphy]       [Byron Howard]  \n",
       "7  [Robert Downey Jr., Chris Hemsworth, Mark Ruff...        [Joss Whedon]  \n",
       "8      [Daniel Radcliffe, Rupert Grint, Emma Watson]        [David Yates]  \n",
       "9             [Ben Affleck, Henry Cavill, Gal Gadot]        [Zack Snyder]  "
      ]
     },
     "execution_count": 36,
     "metadata": {},
     "output_type": "execute_result"
    }
   ],
   "source": [
    "movies.head(10)"
   ]
  },
  {
   "cell_type": "code",
   "execution_count": 37,
   "metadata": {},
   "outputs": [],
   "source": [
    "movies['overview'] = movies['overview'].apply(lambda x: x.split())"
   ]
  },
  {
   "cell_type": "code",
   "execution_count": 38,
   "metadata": {},
   "outputs": [
    {
     "data": {
      "text/html": [
       "<div>\n",
       "<style scoped>\n",
       "    .dataframe tbody tr th:only-of-type {\n",
       "        vertical-align: middle;\n",
       "    }\n",
       "\n",
       "    .dataframe tbody tr th {\n",
       "        vertical-align: top;\n",
       "    }\n",
       "\n",
       "    .dataframe thead th {\n",
       "        text-align: right;\n",
       "    }\n",
       "</style>\n",
       "<table border=\"1\" class=\"dataframe\">\n",
       "  <thead>\n",
       "    <tr style=\"text-align: right;\">\n",
       "      <th></th>\n",
       "      <th>movie_id</th>\n",
       "      <th>title</th>\n",
       "      <th>genres</th>\n",
       "      <th>overview</th>\n",
       "      <th>keywords</th>\n",
       "      <th>release_year</th>\n",
       "      <th>cast</th>\n",
       "      <th>crew</th>\n",
       "    </tr>\n",
       "  </thead>\n",
       "  <tbody>\n",
       "    <tr>\n",
       "      <th>0</th>\n",
       "      <td>19995</td>\n",
       "      <td>Avatar</td>\n",
       "      <td>[Action, Adventure, Fantasy, Science Fiction]</td>\n",
       "      <td>[In, the, 22nd, century,, a, paraplegic, Marin...</td>\n",
       "      <td>[culture clash, future, space war, space colon...</td>\n",
       "      <td>2009</td>\n",
       "      <td>[Sam Worthington, Zoe Saldana, Sigourney Weaver]</td>\n",
       "      <td>[James Cameron]</td>\n",
       "    </tr>\n",
       "    <tr>\n",
       "      <th>1</th>\n",
       "      <td>285</td>\n",
       "      <td>Pirates of the Caribbean: At World's End</td>\n",
       "      <td>[Adventure, Fantasy, Action]</td>\n",
       "      <td>[Captain, Barbossa,, long, believed, to, be, d...</td>\n",
       "      <td>[ocean, drug abuse, exotic island, east india ...</td>\n",
       "      <td>2007</td>\n",
       "      <td>[Johnny Depp, Orlando Bloom, Keira Knightley]</td>\n",
       "      <td>[Gore Verbinski]</td>\n",
       "    </tr>\n",
       "    <tr>\n",
       "      <th>2</th>\n",
       "      <td>206647</td>\n",
       "      <td>Spectre</td>\n",
       "      <td>[Action, Adventure, Crime]</td>\n",
       "      <td>[A, cryptic, message, from, Bond’s, past, send...</td>\n",
       "      <td>[spy, based on novel, secret agent, sequel, mi...</td>\n",
       "      <td>2015</td>\n",
       "      <td>[Daniel Craig, Christoph Waltz, Léa Seydoux]</td>\n",
       "      <td>[Sam Mendes]</td>\n",
       "    </tr>\n",
       "    <tr>\n",
       "      <th>3</th>\n",
       "      <td>49026</td>\n",
       "      <td>The Dark Knight Rises</td>\n",
       "      <td>[Action, Crime, Drama, Thriller]</td>\n",
       "      <td>[Following, the, death, of, District, Attorney...</td>\n",
       "      <td>[dc comics, crime fighter, terrorist, secret i...</td>\n",
       "      <td>2012</td>\n",
       "      <td>[Christian Bale, Michael Caine, Gary Oldman]</td>\n",
       "      <td>[Christopher Nolan]</td>\n",
       "    </tr>\n",
       "    <tr>\n",
       "      <th>4</th>\n",
       "      <td>49529</td>\n",
       "      <td>John Carter</td>\n",
       "      <td>[Action, Adventure, Science Fiction]</td>\n",
       "      <td>[John, Carter, is, a, war-weary,, former, mili...</td>\n",
       "      <td>[based on novel, mars, medallion, space travel...</td>\n",
       "      <td>2012</td>\n",
       "      <td>[Taylor Kitsch, Lynn Collins, Samantha Morton]</td>\n",
       "      <td>[Andrew Stanton]</td>\n",
       "    </tr>\n",
       "  </tbody>\n",
       "</table>\n",
       "</div>"
      ],
      "text/plain": [
       "   movie_id                                     title  \\\n",
       "0     19995                                    Avatar   \n",
       "1       285  Pirates of the Caribbean: At World's End   \n",
       "2    206647                                   Spectre   \n",
       "3     49026                     The Dark Knight Rises   \n",
       "4     49529                               John Carter   \n",
       "\n",
       "                                          genres  \\\n",
       "0  [Action, Adventure, Fantasy, Science Fiction]   \n",
       "1                   [Adventure, Fantasy, Action]   \n",
       "2                     [Action, Adventure, Crime]   \n",
       "3               [Action, Crime, Drama, Thriller]   \n",
       "4           [Action, Adventure, Science Fiction]   \n",
       "\n",
       "                                            overview  \\\n",
       "0  [In, the, 22nd, century,, a, paraplegic, Marin...   \n",
       "1  [Captain, Barbossa,, long, believed, to, be, d...   \n",
       "2  [A, cryptic, message, from, Bond’s, past, send...   \n",
       "3  [Following, the, death, of, District, Attorney...   \n",
       "4  [John, Carter, is, a, war-weary,, former, mili...   \n",
       "\n",
       "                                            keywords release_year  \\\n",
       "0  [culture clash, future, space war, space colon...         2009   \n",
       "1  [ocean, drug abuse, exotic island, east india ...         2007   \n",
       "2  [spy, based on novel, secret agent, sequel, mi...         2015   \n",
       "3  [dc comics, crime fighter, terrorist, secret i...         2012   \n",
       "4  [based on novel, mars, medallion, space travel...         2012   \n",
       "\n",
       "                                               cast                 crew  \n",
       "0  [Sam Worthington, Zoe Saldana, Sigourney Weaver]      [James Cameron]  \n",
       "1     [Johnny Depp, Orlando Bloom, Keira Knightley]     [Gore Verbinski]  \n",
       "2      [Daniel Craig, Christoph Waltz, Léa Seydoux]         [Sam Mendes]  \n",
       "3      [Christian Bale, Michael Caine, Gary Oldman]  [Christopher Nolan]  \n",
       "4    [Taylor Kitsch, Lynn Collins, Samantha Morton]     [Andrew Stanton]  "
      ]
     },
     "execution_count": 38,
     "metadata": {},
     "output_type": "execute_result"
    }
   ],
   "source": [
    "movies.head()"
   ]
  },
  {
   "cell_type": "code",
   "execution_count": 39,
   "metadata": {},
   "outputs": [],
   "source": [
    "movies['genres'] = movies['genres'].apply(lambda x:[i.replace(\" \",\"\") for i in x])"
   ]
  },
  {
   "cell_type": "code",
   "execution_count": 40,
   "metadata": {},
   "outputs": [
    {
     "data": {
      "text/html": [
       "<div>\n",
       "<style scoped>\n",
       "    .dataframe tbody tr th:only-of-type {\n",
       "        vertical-align: middle;\n",
       "    }\n",
       "\n",
       "    .dataframe tbody tr th {\n",
       "        vertical-align: top;\n",
       "    }\n",
       "\n",
       "    .dataframe thead th {\n",
       "        text-align: right;\n",
       "    }\n",
       "</style>\n",
       "<table border=\"1\" class=\"dataframe\">\n",
       "  <thead>\n",
       "    <tr style=\"text-align: right;\">\n",
       "      <th></th>\n",
       "      <th>movie_id</th>\n",
       "      <th>title</th>\n",
       "      <th>genres</th>\n",
       "      <th>overview</th>\n",
       "      <th>keywords</th>\n",
       "      <th>release_year</th>\n",
       "      <th>cast</th>\n",
       "      <th>crew</th>\n",
       "    </tr>\n",
       "  </thead>\n",
       "  <tbody>\n",
       "    <tr>\n",
       "      <th>0</th>\n",
       "      <td>19995</td>\n",
       "      <td>Avatar</td>\n",
       "      <td>[Action, Adventure, Fantasy, ScienceFiction]</td>\n",
       "      <td>[In, the, 22nd, century,, a, paraplegic, Marin...</td>\n",
       "      <td>[culture clash, future, space war, space colon...</td>\n",
       "      <td>2009</td>\n",
       "      <td>[Sam Worthington, Zoe Saldana, Sigourney Weaver]</td>\n",
       "      <td>[James Cameron]</td>\n",
       "    </tr>\n",
       "    <tr>\n",
       "      <th>1</th>\n",
       "      <td>285</td>\n",
       "      <td>Pirates of the Caribbean: At World's End</td>\n",
       "      <td>[Adventure, Fantasy, Action]</td>\n",
       "      <td>[Captain, Barbossa,, long, believed, to, be, d...</td>\n",
       "      <td>[ocean, drug abuse, exotic island, east india ...</td>\n",
       "      <td>2007</td>\n",
       "      <td>[Johnny Depp, Orlando Bloom, Keira Knightley]</td>\n",
       "      <td>[Gore Verbinski]</td>\n",
       "    </tr>\n",
       "    <tr>\n",
       "      <th>2</th>\n",
       "      <td>206647</td>\n",
       "      <td>Spectre</td>\n",
       "      <td>[Action, Adventure, Crime]</td>\n",
       "      <td>[A, cryptic, message, from, Bond’s, past, send...</td>\n",
       "      <td>[spy, based on novel, secret agent, sequel, mi...</td>\n",
       "      <td>2015</td>\n",
       "      <td>[Daniel Craig, Christoph Waltz, Léa Seydoux]</td>\n",
       "      <td>[Sam Mendes]</td>\n",
       "    </tr>\n",
       "    <tr>\n",
       "      <th>3</th>\n",
       "      <td>49026</td>\n",
       "      <td>The Dark Knight Rises</td>\n",
       "      <td>[Action, Crime, Drama, Thriller]</td>\n",
       "      <td>[Following, the, death, of, District, Attorney...</td>\n",
       "      <td>[dc comics, crime fighter, terrorist, secret i...</td>\n",
       "      <td>2012</td>\n",
       "      <td>[Christian Bale, Michael Caine, Gary Oldman]</td>\n",
       "      <td>[Christopher Nolan]</td>\n",
       "    </tr>\n",
       "    <tr>\n",
       "      <th>4</th>\n",
       "      <td>49529</td>\n",
       "      <td>John Carter</td>\n",
       "      <td>[Action, Adventure, ScienceFiction]</td>\n",
       "      <td>[John, Carter, is, a, war-weary,, former, mili...</td>\n",
       "      <td>[based on novel, mars, medallion, space travel...</td>\n",
       "      <td>2012</td>\n",
       "      <td>[Taylor Kitsch, Lynn Collins, Samantha Morton]</td>\n",
       "      <td>[Andrew Stanton]</td>\n",
       "    </tr>\n",
       "  </tbody>\n",
       "</table>\n",
       "</div>"
      ],
      "text/plain": [
       "   movie_id                                     title  \\\n",
       "0     19995                                    Avatar   \n",
       "1       285  Pirates of the Caribbean: At World's End   \n",
       "2    206647                                   Spectre   \n",
       "3     49026                     The Dark Knight Rises   \n",
       "4     49529                               John Carter   \n",
       "\n",
       "                                         genres  \\\n",
       "0  [Action, Adventure, Fantasy, ScienceFiction]   \n",
       "1                  [Adventure, Fantasy, Action]   \n",
       "2                    [Action, Adventure, Crime]   \n",
       "3              [Action, Crime, Drama, Thriller]   \n",
       "4           [Action, Adventure, ScienceFiction]   \n",
       "\n",
       "                                            overview  \\\n",
       "0  [In, the, 22nd, century,, a, paraplegic, Marin...   \n",
       "1  [Captain, Barbossa,, long, believed, to, be, d...   \n",
       "2  [A, cryptic, message, from, Bond’s, past, send...   \n",
       "3  [Following, the, death, of, District, Attorney...   \n",
       "4  [John, Carter, is, a, war-weary,, former, mili...   \n",
       "\n",
       "                                            keywords release_year  \\\n",
       "0  [culture clash, future, space war, space colon...         2009   \n",
       "1  [ocean, drug abuse, exotic island, east india ...         2007   \n",
       "2  [spy, based on novel, secret agent, sequel, mi...         2015   \n",
       "3  [dc comics, crime fighter, terrorist, secret i...         2012   \n",
       "4  [based on novel, mars, medallion, space travel...         2012   \n",
       "\n",
       "                                               cast                 crew  \n",
       "0  [Sam Worthington, Zoe Saldana, Sigourney Weaver]      [James Cameron]  \n",
       "1     [Johnny Depp, Orlando Bloom, Keira Knightley]     [Gore Verbinski]  \n",
       "2      [Daniel Craig, Christoph Waltz, Léa Seydoux]         [Sam Mendes]  \n",
       "3      [Christian Bale, Michael Caine, Gary Oldman]  [Christopher Nolan]  \n",
       "4    [Taylor Kitsch, Lynn Collins, Samantha Morton]     [Andrew Stanton]  "
      ]
     },
     "execution_count": 40,
     "metadata": {},
     "output_type": "execute_result"
    }
   ],
   "source": [
    "movies.head()"
   ]
  },
  {
   "cell_type": "code",
   "execution_count": 41,
   "metadata": {},
   "outputs": [],
   "source": [
    "movies['keywords'] = movies['keywords'].apply(lambda x:[i.replace(' ','') for i in x])"
   ]
  },
  {
   "cell_type": "code",
   "execution_count": 42,
   "metadata": {},
   "outputs": [],
   "source": [
    "movies['cast'] = movies['cast'].apply(lambda x:[i.replace(' ','') for i in x])\n",
    "movies['crew'] = movies['crew'].apply(lambda x:[i.replace(' ','') for i in x])"
   ]
  },
  {
   "cell_type": "code",
   "execution_count": 43,
   "metadata": {},
   "outputs": [
    {
     "data": {
      "text/html": [
       "<div>\n",
       "<style scoped>\n",
       "    .dataframe tbody tr th:only-of-type {\n",
       "        vertical-align: middle;\n",
       "    }\n",
       "\n",
       "    .dataframe tbody tr th {\n",
       "        vertical-align: top;\n",
       "    }\n",
       "\n",
       "    .dataframe thead th {\n",
       "        text-align: right;\n",
       "    }\n",
       "</style>\n",
       "<table border=\"1\" class=\"dataframe\">\n",
       "  <thead>\n",
       "    <tr style=\"text-align: right;\">\n",
       "      <th></th>\n",
       "      <th>movie_id</th>\n",
       "      <th>title</th>\n",
       "      <th>genres</th>\n",
       "      <th>overview</th>\n",
       "      <th>keywords</th>\n",
       "      <th>release_year</th>\n",
       "      <th>cast</th>\n",
       "      <th>crew</th>\n",
       "    </tr>\n",
       "  </thead>\n",
       "  <tbody>\n",
       "    <tr>\n",
       "      <th>0</th>\n",
       "      <td>19995</td>\n",
       "      <td>Avatar</td>\n",
       "      <td>[Action, Adventure, Fantasy, ScienceFiction]</td>\n",
       "      <td>[In, the, 22nd, century,, a, paraplegic, Marin...</td>\n",
       "      <td>[cultureclash, future, spacewar, spacecolony, ...</td>\n",
       "      <td>2009</td>\n",
       "      <td>[SamWorthington, ZoeSaldana, SigourneyWeaver]</td>\n",
       "      <td>[JamesCameron]</td>\n",
       "    </tr>\n",
       "    <tr>\n",
       "      <th>1</th>\n",
       "      <td>285</td>\n",
       "      <td>Pirates of the Caribbean: At World's End</td>\n",
       "      <td>[Adventure, Fantasy, Action]</td>\n",
       "      <td>[Captain, Barbossa,, long, believed, to, be, d...</td>\n",
       "      <td>[ocean, drugabuse, exoticisland, eastindiatrad...</td>\n",
       "      <td>2007</td>\n",
       "      <td>[JohnnyDepp, OrlandoBloom, KeiraKnightley]</td>\n",
       "      <td>[GoreVerbinski]</td>\n",
       "    </tr>\n",
       "    <tr>\n",
       "      <th>2</th>\n",
       "      <td>206647</td>\n",
       "      <td>Spectre</td>\n",
       "      <td>[Action, Adventure, Crime]</td>\n",
       "      <td>[A, cryptic, message, from, Bond’s, past, send...</td>\n",
       "      <td>[spy, basedonnovel, secretagent, sequel, mi6, ...</td>\n",
       "      <td>2015</td>\n",
       "      <td>[DanielCraig, ChristophWaltz, LéaSeydoux]</td>\n",
       "      <td>[SamMendes]</td>\n",
       "    </tr>\n",
       "    <tr>\n",
       "      <th>3</th>\n",
       "      <td>49026</td>\n",
       "      <td>The Dark Knight Rises</td>\n",
       "      <td>[Action, Crime, Drama, Thriller]</td>\n",
       "      <td>[Following, the, death, of, District, Attorney...</td>\n",
       "      <td>[dccomics, crimefighter, terrorist, secretiden...</td>\n",
       "      <td>2012</td>\n",
       "      <td>[ChristianBale, MichaelCaine, GaryOldman]</td>\n",
       "      <td>[ChristopherNolan]</td>\n",
       "    </tr>\n",
       "    <tr>\n",
       "      <th>4</th>\n",
       "      <td>49529</td>\n",
       "      <td>John Carter</td>\n",
       "      <td>[Action, Adventure, ScienceFiction]</td>\n",
       "      <td>[John, Carter, is, a, war-weary,, former, mili...</td>\n",
       "      <td>[basedonnovel, mars, medallion, spacetravel, p...</td>\n",
       "      <td>2012</td>\n",
       "      <td>[TaylorKitsch, LynnCollins, SamanthaMorton]</td>\n",
       "      <td>[AndrewStanton]</td>\n",
       "    </tr>\n",
       "  </tbody>\n",
       "</table>\n",
       "</div>"
      ],
      "text/plain": [
       "   movie_id                                     title  \\\n",
       "0     19995                                    Avatar   \n",
       "1       285  Pirates of the Caribbean: At World's End   \n",
       "2    206647                                   Spectre   \n",
       "3     49026                     The Dark Knight Rises   \n",
       "4     49529                               John Carter   \n",
       "\n",
       "                                         genres  \\\n",
       "0  [Action, Adventure, Fantasy, ScienceFiction]   \n",
       "1                  [Adventure, Fantasy, Action]   \n",
       "2                    [Action, Adventure, Crime]   \n",
       "3              [Action, Crime, Drama, Thriller]   \n",
       "4           [Action, Adventure, ScienceFiction]   \n",
       "\n",
       "                                            overview  \\\n",
       "0  [In, the, 22nd, century,, a, paraplegic, Marin...   \n",
       "1  [Captain, Barbossa,, long, believed, to, be, d...   \n",
       "2  [A, cryptic, message, from, Bond’s, past, send...   \n",
       "3  [Following, the, death, of, District, Attorney...   \n",
       "4  [John, Carter, is, a, war-weary,, former, mili...   \n",
       "\n",
       "                                            keywords release_year  \\\n",
       "0  [cultureclash, future, spacewar, spacecolony, ...         2009   \n",
       "1  [ocean, drugabuse, exoticisland, eastindiatrad...         2007   \n",
       "2  [spy, basedonnovel, secretagent, sequel, mi6, ...         2015   \n",
       "3  [dccomics, crimefighter, terrorist, secretiden...         2012   \n",
       "4  [basedonnovel, mars, medallion, spacetravel, p...         2012   \n",
       "\n",
       "                                            cast                crew  \n",
       "0  [SamWorthington, ZoeSaldana, SigourneyWeaver]      [JamesCameron]  \n",
       "1     [JohnnyDepp, OrlandoBloom, KeiraKnightley]     [GoreVerbinski]  \n",
       "2      [DanielCraig, ChristophWaltz, LéaSeydoux]         [SamMendes]  \n",
       "3      [ChristianBale, MichaelCaine, GaryOldman]  [ChristopherNolan]  \n",
       "4    [TaylorKitsch, LynnCollins, SamanthaMorton]     [AndrewStanton]  "
      ]
     },
     "execution_count": 43,
     "metadata": {},
     "output_type": "execute_result"
    }
   ],
   "source": [
    "movies.head()"
   ]
  },
  {
   "cell_type": "code",
   "execution_count": 44,
   "metadata": {},
   "outputs": [],
   "source": [
    "movies['release_year'] = movies['release_year'].apply(lambda x: [int(x)] if str(x).isdigit() else [])"
   ]
  },
  {
   "cell_type": "code",
   "execution_count": 45,
   "metadata": {},
   "outputs": [],
   "source": [
    "movies['tags'] = movies['overview'] + movies['genres'] + movies['keywords'] + movies['release_year'] + movies['cast'] + movies['crew']"
   ]
  },
  {
   "cell_type": "code",
   "execution_count": 46,
   "metadata": {},
   "outputs": [
    {
     "data": {
      "text/html": [
       "<div>\n",
       "<style scoped>\n",
       "    .dataframe tbody tr th:only-of-type {\n",
       "        vertical-align: middle;\n",
       "    }\n",
       "\n",
       "    .dataframe tbody tr th {\n",
       "        vertical-align: top;\n",
       "    }\n",
       "\n",
       "    .dataframe thead th {\n",
       "        text-align: right;\n",
       "    }\n",
       "</style>\n",
       "<table border=\"1\" class=\"dataframe\">\n",
       "  <thead>\n",
       "    <tr style=\"text-align: right;\">\n",
       "      <th></th>\n",
       "      <th>movie_id</th>\n",
       "      <th>title</th>\n",
       "      <th>genres</th>\n",
       "      <th>overview</th>\n",
       "      <th>keywords</th>\n",
       "      <th>release_year</th>\n",
       "      <th>cast</th>\n",
       "      <th>crew</th>\n",
       "      <th>tags</th>\n",
       "    </tr>\n",
       "  </thead>\n",
       "  <tbody>\n",
       "    <tr>\n",
       "      <th>0</th>\n",
       "      <td>19995</td>\n",
       "      <td>Avatar</td>\n",
       "      <td>[Action, Adventure, Fantasy, ScienceFiction]</td>\n",
       "      <td>[In, the, 22nd, century,, a, paraplegic, Marin...</td>\n",
       "      <td>[cultureclash, future, spacewar, spacecolony, ...</td>\n",
       "      <td>[2009]</td>\n",
       "      <td>[SamWorthington, ZoeSaldana, SigourneyWeaver]</td>\n",
       "      <td>[JamesCameron]</td>\n",
       "      <td>[In, the, 22nd, century,, a, paraplegic, Marin...</td>\n",
       "    </tr>\n",
       "    <tr>\n",
       "      <th>1</th>\n",
       "      <td>285</td>\n",
       "      <td>Pirates of the Caribbean: At World's End</td>\n",
       "      <td>[Adventure, Fantasy, Action]</td>\n",
       "      <td>[Captain, Barbossa,, long, believed, to, be, d...</td>\n",
       "      <td>[ocean, drugabuse, exoticisland, eastindiatrad...</td>\n",
       "      <td>[2007]</td>\n",
       "      <td>[JohnnyDepp, OrlandoBloom, KeiraKnightley]</td>\n",
       "      <td>[GoreVerbinski]</td>\n",
       "      <td>[Captain, Barbossa,, long, believed, to, be, d...</td>\n",
       "    </tr>\n",
       "    <tr>\n",
       "      <th>2</th>\n",
       "      <td>206647</td>\n",
       "      <td>Spectre</td>\n",
       "      <td>[Action, Adventure, Crime]</td>\n",
       "      <td>[A, cryptic, message, from, Bond’s, past, send...</td>\n",
       "      <td>[spy, basedonnovel, secretagent, sequel, mi6, ...</td>\n",
       "      <td>[2015]</td>\n",
       "      <td>[DanielCraig, ChristophWaltz, LéaSeydoux]</td>\n",
       "      <td>[SamMendes]</td>\n",
       "      <td>[A, cryptic, message, from, Bond’s, past, send...</td>\n",
       "    </tr>\n",
       "    <tr>\n",
       "      <th>3</th>\n",
       "      <td>49026</td>\n",
       "      <td>The Dark Knight Rises</td>\n",
       "      <td>[Action, Crime, Drama, Thriller]</td>\n",
       "      <td>[Following, the, death, of, District, Attorney...</td>\n",
       "      <td>[dccomics, crimefighter, terrorist, secretiden...</td>\n",
       "      <td>[2012]</td>\n",
       "      <td>[ChristianBale, MichaelCaine, GaryOldman]</td>\n",
       "      <td>[ChristopherNolan]</td>\n",
       "      <td>[Following, the, death, of, District, Attorney...</td>\n",
       "    </tr>\n",
       "    <tr>\n",
       "      <th>4</th>\n",
       "      <td>49529</td>\n",
       "      <td>John Carter</td>\n",
       "      <td>[Action, Adventure, ScienceFiction]</td>\n",
       "      <td>[John, Carter, is, a, war-weary,, former, mili...</td>\n",
       "      <td>[basedonnovel, mars, medallion, spacetravel, p...</td>\n",
       "      <td>[2012]</td>\n",
       "      <td>[TaylorKitsch, LynnCollins, SamanthaMorton]</td>\n",
       "      <td>[AndrewStanton]</td>\n",
       "      <td>[John, Carter, is, a, war-weary,, former, mili...</td>\n",
       "    </tr>\n",
       "  </tbody>\n",
       "</table>\n",
       "</div>"
      ],
      "text/plain": [
       "   movie_id                                     title  \\\n",
       "0     19995                                    Avatar   \n",
       "1       285  Pirates of the Caribbean: At World's End   \n",
       "2    206647                                   Spectre   \n",
       "3     49026                     The Dark Knight Rises   \n",
       "4     49529                               John Carter   \n",
       "\n",
       "                                         genres  \\\n",
       "0  [Action, Adventure, Fantasy, ScienceFiction]   \n",
       "1                  [Adventure, Fantasy, Action]   \n",
       "2                    [Action, Adventure, Crime]   \n",
       "3              [Action, Crime, Drama, Thriller]   \n",
       "4           [Action, Adventure, ScienceFiction]   \n",
       "\n",
       "                                            overview  \\\n",
       "0  [In, the, 22nd, century,, a, paraplegic, Marin...   \n",
       "1  [Captain, Barbossa,, long, believed, to, be, d...   \n",
       "2  [A, cryptic, message, from, Bond’s, past, send...   \n",
       "3  [Following, the, death, of, District, Attorney...   \n",
       "4  [John, Carter, is, a, war-weary,, former, mili...   \n",
       "\n",
       "                                            keywords release_year  \\\n",
       "0  [cultureclash, future, spacewar, spacecolony, ...       [2009]   \n",
       "1  [ocean, drugabuse, exoticisland, eastindiatrad...       [2007]   \n",
       "2  [spy, basedonnovel, secretagent, sequel, mi6, ...       [2015]   \n",
       "3  [dccomics, crimefighter, terrorist, secretiden...       [2012]   \n",
       "4  [basedonnovel, mars, medallion, spacetravel, p...       [2012]   \n",
       "\n",
       "                                            cast                crew  \\\n",
       "0  [SamWorthington, ZoeSaldana, SigourneyWeaver]      [JamesCameron]   \n",
       "1     [JohnnyDepp, OrlandoBloom, KeiraKnightley]     [GoreVerbinski]   \n",
       "2      [DanielCraig, ChristophWaltz, LéaSeydoux]         [SamMendes]   \n",
       "3      [ChristianBale, MichaelCaine, GaryOldman]  [ChristopherNolan]   \n",
       "4    [TaylorKitsch, LynnCollins, SamanthaMorton]     [AndrewStanton]   \n",
       "\n",
       "                                                tags  \n",
       "0  [In, the, 22nd, century,, a, paraplegic, Marin...  \n",
       "1  [Captain, Barbossa,, long, believed, to, be, d...  \n",
       "2  [A, cryptic, message, from, Bond’s, past, send...  \n",
       "3  [Following, the, death, of, District, Attorney...  \n",
       "4  [John, Carter, is, a, war-weary,, former, mili...  "
      ]
     },
     "execution_count": 46,
     "metadata": {},
     "output_type": "execute_result"
    }
   ],
   "source": [
    "movies.head()"
   ]
  },
  {
   "cell_type": "code",
   "execution_count": 47,
   "metadata": {},
   "outputs": [],
   "source": [
    "f_df = movies[['movie_id', 'title','tags']]"
   ]
  },
  {
   "cell_type": "code",
   "execution_count": 48,
   "metadata": {},
   "outputs": [
    {
     "data": {
      "text/html": [
       "<div>\n",
       "<style scoped>\n",
       "    .dataframe tbody tr th:only-of-type {\n",
       "        vertical-align: middle;\n",
       "    }\n",
       "\n",
       "    .dataframe tbody tr th {\n",
       "        vertical-align: top;\n",
       "    }\n",
       "\n",
       "    .dataframe thead th {\n",
       "        text-align: right;\n",
       "    }\n",
       "</style>\n",
       "<table border=\"1\" class=\"dataframe\">\n",
       "  <thead>\n",
       "    <tr style=\"text-align: right;\">\n",
       "      <th></th>\n",
       "      <th>movie_id</th>\n",
       "      <th>title</th>\n",
       "      <th>tags</th>\n",
       "    </tr>\n",
       "  </thead>\n",
       "  <tbody>\n",
       "    <tr>\n",
       "      <th>0</th>\n",
       "      <td>19995</td>\n",
       "      <td>Avatar</td>\n",
       "      <td>[In, the, 22nd, century,, a, paraplegic, Marin...</td>\n",
       "    </tr>\n",
       "    <tr>\n",
       "      <th>1</th>\n",
       "      <td>285</td>\n",
       "      <td>Pirates of the Caribbean: At World's End</td>\n",
       "      <td>[Captain, Barbossa,, long, believed, to, be, d...</td>\n",
       "    </tr>\n",
       "    <tr>\n",
       "      <th>2</th>\n",
       "      <td>206647</td>\n",
       "      <td>Spectre</td>\n",
       "      <td>[A, cryptic, message, from, Bond’s, past, send...</td>\n",
       "    </tr>\n",
       "    <tr>\n",
       "      <th>3</th>\n",
       "      <td>49026</td>\n",
       "      <td>The Dark Knight Rises</td>\n",
       "      <td>[Following, the, death, of, District, Attorney...</td>\n",
       "    </tr>\n",
       "    <tr>\n",
       "      <th>4</th>\n",
       "      <td>49529</td>\n",
       "      <td>John Carter</td>\n",
       "      <td>[John, Carter, is, a, war-weary,, former, mili...</td>\n",
       "    </tr>\n",
       "    <tr>\n",
       "      <th>5</th>\n",
       "      <td>559</td>\n",
       "      <td>Spider-Man 3</td>\n",
       "      <td>[The, seemingly, invincible, Spider-Man, goes,...</td>\n",
       "    </tr>\n",
       "    <tr>\n",
       "      <th>6</th>\n",
       "      <td>38757</td>\n",
       "      <td>Tangled</td>\n",
       "      <td>[When, the, kingdom's, most, wanted-and, most,...</td>\n",
       "    </tr>\n",
       "    <tr>\n",
       "      <th>7</th>\n",
       "      <td>99861</td>\n",
       "      <td>Avengers: Age of Ultron</td>\n",
       "      <td>[When, Tony, Stark, tries, to, jumpstart, a, d...</td>\n",
       "    </tr>\n",
       "    <tr>\n",
       "      <th>8</th>\n",
       "      <td>767</td>\n",
       "      <td>Harry Potter and the Half-Blood Prince</td>\n",
       "      <td>[As, Harry, begins, his, sixth, year, at, Hogw...</td>\n",
       "    </tr>\n",
       "    <tr>\n",
       "      <th>9</th>\n",
       "      <td>209112</td>\n",
       "      <td>Batman v Superman: Dawn of Justice</td>\n",
       "      <td>[Fearing, the, actions, of, a, god-like, Super...</td>\n",
       "    </tr>\n",
       "  </tbody>\n",
       "</table>\n",
       "</div>"
      ],
      "text/plain": [
       "   movie_id                                     title  \\\n",
       "0     19995                                    Avatar   \n",
       "1       285  Pirates of the Caribbean: At World's End   \n",
       "2    206647                                   Spectre   \n",
       "3     49026                     The Dark Knight Rises   \n",
       "4     49529                               John Carter   \n",
       "5       559                              Spider-Man 3   \n",
       "6     38757                                   Tangled   \n",
       "7     99861                   Avengers: Age of Ultron   \n",
       "8       767    Harry Potter and the Half-Blood Prince   \n",
       "9    209112        Batman v Superman: Dawn of Justice   \n",
       "\n",
       "                                                tags  \n",
       "0  [In, the, 22nd, century,, a, paraplegic, Marin...  \n",
       "1  [Captain, Barbossa,, long, believed, to, be, d...  \n",
       "2  [A, cryptic, message, from, Bond’s, past, send...  \n",
       "3  [Following, the, death, of, District, Attorney...  \n",
       "4  [John, Carter, is, a, war-weary,, former, mili...  \n",
       "5  [The, seemingly, invincible, Spider-Man, goes,...  \n",
       "6  [When, the, kingdom's, most, wanted-and, most,...  \n",
       "7  [When, Tony, Stark, tries, to, jumpstart, a, d...  \n",
       "8  [As, Harry, begins, his, sixth, year, at, Hogw...  \n",
       "9  [Fearing, the, actions, of, a, god-like, Super...  "
      ]
     },
     "execution_count": 48,
     "metadata": {},
     "output_type": "execute_result"
    }
   ],
   "source": [
    "f_df.head(10)"
   ]
  },
  {
   "cell_type": "code",
   "execution_count": 49,
   "metadata": {},
   "outputs": [
    {
     "data": {
      "text/plain": [
       "0       [In, the, 22nd, century,, a, paraplegic, Marin...\n",
       "1       [Captain, Barbossa,, long, believed, to, be, d...\n",
       "2       [A, cryptic, message, from, Bond’s, past, send...\n",
       "3       [Following, the, death, of, District, Attorney...\n",
       "4       [John, Carter, is, a, war-weary,, former, mili...\n",
       "                              ...                        \n",
       "4804    [El, Mariachi, just, wants, to, play, his, gui...\n",
       "4805    [A, newlywed, couple's, honeymoon, is, upended...\n",
       "4806    [\"Signed,, Sealed,, Delivered\", introduces, a,...\n",
       "4807    [When, ambitious, New, York, attorney, Sam, is...\n",
       "4808    [Ever, since, the, second, grade, when, he, fi...\n",
       "Name: tags, Length: 4806, dtype: object"
      ]
     },
     "execution_count": 49,
     "metadata": {},
     "output_type": "execute_result"
    }
   ],
   "source": [
    "f_df['tags']"
   ]
  },
  {
   "cell_type": "code",
   "execution_count": 50,
   "metadata": {},
   "outputs": [
    {
     "name": "stderr",
     "output_type": "stream",
     "text": [
      "C:\\Users\\User\\AppData\\Local\\Temp\\ipykernel_19212\\530076234.py:1: SettingWithCopyWarning: \n",
      "A value is trying to be set on a copy of a slice from a DataFrame.\n",
      "Try using .loc[row_indexer,col_indexer] = value instead\n",
      "\n",
      "See the caveats in the documentation: https://pandas.pydata.org/pandas-docs/stable/user_guide/indexing.html#returning-a-view-versus-a-copy\n",
      "  f_df['tags'] = f_df['tags'].apply(lambda x:\" \".join(str(i) for i in x))\n"
     ]
    }
   ],
   "source": [
    "f_df['tags'] = f_df['tags'].apply(lambda x:\" \".join(str(i) for i in x))"
   ]
  },
  {
   "cell_type": "code",
   "execution_count": 51,
   "metadata": {},
   "outputs": [
    {
     "data": {
      "text/html": [
       "<div>\n",
       "<style scoped>\n",
       "    .dataframe tbody tr th:only-of-type {\n",
       "        vertical-align: middle;\n",
       "    }\n",
       "\n",
       "    .dataframe tbody tr th {\n",
       "        vertical-align: top;\n",
       "    }\n",
       "\n",
       "    .dataframe thead th {\n",
       "        text-align: right;\n",
       "    }\n",
       "</style>\n",
       "<table border=\"1\" class=\"dataframe\">\n",
       "  <thead>\n",
       "    <tr style=\"text-align: right;\">\n",
       "      <th></th>\n",
       "      <th>movie_id</th>\n",
       "      <th>title</th>\n",
       "      <th>tags</th>\n",
       "    </tr>\n",
       "  </thead>\n",
       "  <tbody>\n",
       "    <tr>\n",
       "      <th>0</th>\n",
       "      <td>19995</td>\n",
       "      <td>Avatar</td>\n",
       "      <td>In the 22nd century, a paraplegic Marine is di...</td>\n",
       "    </tr>\n",
       "    <tr>\n",
       "      <th>1</th>\n",
       "      <td>285</td>\n",
       "      <td>Pirates of the Caribbean: At World's End</td>\n",
       "      <td>Captain Barbossa, long believed to be dead, ha...</td>\n",
       "    </tr>\n",
       "    <tr>\n",
       "      <th>2</th>\n",
       "      <td>206647</td>\n",
       "      <td>Spectre</td>\n",
       "      <td>A cryptic message from Bond’s past sends him o...</td>\n",
       "    </tr>\n",
       "    <tr>\n",
       "      <th>3</th>\n",
       "      <td>49026</td>\n",
       "      <td>The Dark Knight Rises</td>\n",
       "      <td>Following the death of District Attorney Harve...</td>\n",
       "    </tr>\n",
       "    <tr>\n",
       "      <th>4</th>\n",
       "      <td>49529</td>\n",
       "      <td>John Carter</td>\n",
       "      <td>John Carter is a war-weary, former military ca...</td>\n",
       "    </tr>\n",
       "  </tbody>\n",
       "</table>\n",
       "</div>"
      ],
      "text/plain": [
       "   movie_id                                     title  \\\n",
       "0     19995                                    Avatar   \n",
       "1       285  Pirates of the Caribbean: At World's End   \n",
       "2    206647                                   Spectre   \n",
       "3     49026                     The Dark Knight Rises   \n",
       "4     49529                               John Carter   \n",
       "\n",
       "                                                tags  \n",
       "0  In the 22nd century, a paraplegic Marine is di...  \n",
       "1  Captain Barbossa, long believed to be dead, ha...  \n",
       "2  A cryptic message from Bond’s past sends him o...  \n",
       "3  Following the death of District Attorney Harve...  \n",
       "4  John Carter is a war-weary, former military ca...  "
      ]
     },
     "execution_count": 51,
     "metadata": {},
     "output_type": "execute_result"
    }
   ],
   "source": [
    "f_df.head()"
   ]
  },
  {
   "cell_type": "code",
   "execution_count": 52,
   "metadata": {},
   "outputs": [
    {
     "data": {
      "text/plain": [
       "'In the 22nd century, a paraplegic Marine is dispatched to the moon Pandora on a unique mission, but becomes torn between following orders and protecting an alien civilization. Action Adventure Fantasy ScienceFiction cultureclash future spacewar spacecolony society spacetravel futuristic romance space alien tribe alienplanet cgi marine soldier battle loveaffair antiwar powerrelations mindandsoul 3d 2009 SamWorthington ZoeSaldana SigourneyWeaver JamesCameron'"
      ]
     },
     "execution_count": 52,
     "metadata": {},
     "output_type": "execute_result"
    }
   ],
   "source": [
    "f_df['tags'][0]"
   ]
  },
  {
   "cell_type": "code",
   "execution_count": 53,
   "metadata": {},
   "outputs": [
    {
     "name": "stderr",
     "output_type": "stream",
     "text": [
      "C:\\Users\\User\\AppData\\Local\\Temp\\ipykernel_19212\\764538106.py:1: SettingWithCopyWarning: \n",
      "A value is trying to be set on a copy of a slice from a DataFrame.\n",
      "Try using .loc[row_indexer,col_indexer] = value instead\n",
      "\n",
      "See the caveats in the documentation: https://pandas.pydata.org/pandas-docs/stable/user_guide/indexing.html#returning-a-view-versus-a-copy\n",
      "  f_df['tags'] = f_df['tags'].apply(lambda x: x.lower())\n"
     ]
    }
   ],
   "source": [
    "f_df['tags'] = f_df['tags'].apply(lambda x: x.lower())"
   ]
  },
  {
   "cell_type": "code",
   "execution_count": 54,
   "metadata": {},
   "outputs": [
    {
     "data": {
      "text/html": [
       "<div>\n",
       "<style scoped>\n",
       "    .dataframe tbody tr th:only-of-type {\n",
       "        vertical-align: middle;\n",
       "    }\n",
       "\n",
       "    .dataframe tbody tr th {\n",
       "        vertical-align: top;\n",
       "    }\n",
       "\n",
       "    .dataframe thead th {\n",
       "        text-align: right;\n",
       "    }\n",
       "</style>\n",
       "<table border=\"1\" class=\"dataframe\">\n",
       "  <thead>\n",
       "    <tr style=\"text-align: right;\">\n",
       "      <th></th>\n",
       "      <th>movie_id</th>\n",
       "      <th>title</th>\n",
       "      <th>tags</th>\n",
       "    </tr>\n",
       "  </thead>\n",
       "  <tbody>\n",
       "    <tr>\n",
       "      <th>0</th>\n",
       "      <td>19995</td>\n",
       "      <td>Avatar</td>\n",
       "      <td>in the 22nd century, a paraplegic marine is di...</td>\n",
       "    </tr>\n",
       "    <tr>\n",
       "      <th>1</th>\n",
       "      <td>285</td>\n",
       "      <td>Pirates of the Caribbean: At World's End</td>\n",
       "      <td>captain barbossa, long believed to be dead, ha...</td>\n",
       "    </tr>\n",
       "    <tr>\n",
       "      <th>2</th>\n",
       "      <td>206647</td>\n",
       "      <td>Spectre</td>\n",
       "      <td>a cryptic message from bond’s past sends him o...</td>\n",
       "    </tr>\n",
       "    <tr>\n",
       "      <th>3</th>\n",
       "      <td>49026</td>\n",
       "      <td>The Dark Knight Rises</td>\n",
       "      <td>following the death of district attorney harve...</td>\n",
       "    </tr>\n",
       "    <tr>\n",
       "      <th>4</th>\n",
       "      <td>49529</td>\n",
       "      <td>John Carter</td>\n",
       "      <td>john carter is a war-weary, former military ca...</td>\n",
       "    </tr>\n",
       "  </tbody>\n",
       "</table>\n",
       "</div>"
      ],
      "text/plain": [
       "   movie_id                                     title  \\\n",
       "0     19995                                    Avatar   \n",
       "1       285  Pirates of the Caribbean: At World's End   \n",
       "2    206647                                   Spectre   \n",
       "3     49026                     The Dark Knight Rises   \n",
       "4     49529                               John Carter   \n",
       "\n",
       "                                                tags  \n",
       "0  in the 22nd century, a paraplegic marine is di...  \n",
       "1  captain barbossa, long believed to be dead, ha...  \n",
       "2  a cryptic message from bond’s past sends him o...  \n",
       "3  following the death of district attorney harve...  \n",
       "4  john carter is a war-weary, former military ca...  "
      ]
     },
     "execution_count": 54,
     "metadata": {},
     "output_type": "execute_result"
    }
   ],
   "source": [
    "f_df.head()"
   ]
  },
  {
   "cell_type": "code",
   "execution_count": 55,
   "metadata": {},
   "outputs": [
    {
     "data": {
      "text/plain": [
       "\"captain barbossa, long believed to be dead, has come back to life and is headed to the edge of the earth with will turner and elizabeth swann. but nothing is quite as it seems. adventure fantasy action ocean drugabuse exoticisland eastindiatradingcompany loveofone'slife traitor shipwreck strongwoman ship alliance calypso afterlife fighter pirate swashbuckler aftercreditsstinger 2007 johnnydepp orlandobloom keiraknightley goreverbinski\""
      ]
     },
     "execution_count": 55,
     "metadata": {},
     "output_type": "execute_result"
    }
   ],
   "source": [
    "f_df['tags'][1]"
   ]
  },
  {
   "cell_type": "code",
   "execution_count": 56,
   "metadata": {},
   "outputs": [],
   "source": [
    "from sklearn.feature_extraction.text import CountVectorizer\n",
    "vectorizer = CountVectorizer(max_features=5000,stop_words='english')"
   ]
  },
  {
   "cell_type": "code",
   "execution_count": 57,
   "metadata": {},
   "outputs": [],
   "source": [
    "sparse_mateix = vectorizer.fit_transform(f_df['tags'])"
   ]
  },
  {
   "cell_type": "code",
   "execution_count": 58,
   "metadata": {},
   "outputs": [
    {
     "name": "stdout",
     "output_type": "stream",
     "text": [
      "{'century': np.int64(783), 'marine': np.int64(2815), 'dispatched': np.int64(1322), 'moon': np.int64(3014), 'unique': np.int64(4696), 'mission': np.int64(2981), 'torn': np.int64(4559), 'following': np.int64(1764), 'orders': np.int64(3227), 'protecting': np.int64(3541), 'alien': np.int64(212), 'civilization': np.int64(886), 'action': np.int64(128), 'adventure': np.int64(160), 'fantasy': np.int64(1655), 'sciencefiction': np.int64(3934), 'cultureclash': np.int64(1115), 'future': np.int64(1839), 'society': np.int64(4157), 'spacetravel': np.int64(4196), 'futuristic': np.int64(1840), 'romance': np.int64(3822), 'space': np.int64(4190), 'tribe': np.int64(4623), 'soldier': np.int64(4162), 'battle': np.int64(468), '3d': np.int64(92), '2009': np.int64(79), 'zoesaldana': np.int64(4993), 'sigourneyweaver': np.int64(4093), 'captain': np.int64(715), 'long': np.int64(2705), 'believed': np.int64(499), 'dead': np.int64(1176), 'come': np.int64(955), 'life': np.int64(2662), 'headed': np.int64(2046), 'edge': np.int64(1437), 'earth': np.int64(1426), 'turner': np.int64(4645), 'elizabeth': np.int64(1460), 'quite': np.int64(3588), 'ocean': np.int64(3191), 'drugabuse': np.int64(1388), 'exoticisland': np.int64(1591), 'loveofone': np.int64(2743), 'slife': np.int64(4139), 'traitor': np.int64(4597), 'shipwreck': np.int64(4065), 'ship': np.int64(4064), 'alliance': np.int64(219), 'afterlife': np.int64(174), 'fighter': np.int64(1707), 'pirate': np.int64(3386), 'aftercreditsstinger': np.int64(173), '2007': np.int64(77), 'johnnydepp': np.int64(2440), 'orlandobloom': np.int64(3235), 'keiraknightley': np.int64(2509), 'message': np.int64(2917), 'bond': np.int64(583), 'past': np.int64(3310), 'sends': np.int64(3999), 'trail': np.int64(4592), 'uncover': np.int64(4676), 'sinister': np.int64(4111), 'organization': np.int64(3230), 'battles': np.int64(470), 'political': np.int64(3429), 'forces': np.int64(1775), 'secret': np.int64(3965), 'service': np.int64(4019), 'alive': np.int64(217), 'deceit': np.int64(1196), 'reveal': np.int64(3748), 'terrible': np.int64(4470), 'truth': np.int64(4638), 'crime': np.int64(1090), 'spy': np.int64(4227), 'basedonnovel': np.int64(457), 'secretagent': np.int64(3966), 'sequel': np.int64(4009), 'britishsecretservice': np.int64(638), '2015': np.int64(85), 'danielcraig': np.int64(1143), 'christophwaltz': np.int64(869), 'sammendes': np.int64(3889), 'death': np.int64(1185), 'district': np.int64(1324), 'attorney': np.int64(395), 'harvey': np.int64(2030), 'batman': np.int64(467), 'assumes': np.int64(378), 'responsibility': np.int64(3727), 'crimes': np.int64(1092), 'protect': np.int64(3540), 'late': np.int64(2600), 'reputation': np.int64(3710), 'hunted': np.int64(2185), 'gotham': np.int64(1929), 'city': np.int64(884), 'police': np.int64(3423), 'department': np.int64(1229), 'years': np.int64(4979), 'later': np.int64(2601), 'encounters': np.int64(1498), 'mysterious': np.int64(3075), 'kyle': np.int64(2575), 'villainous': np.int64(4788), 'new': np.int64(3134), 'terrorist': np.int64(4477), 'leader': np.int64(2616), 'dark': np.int64(1152), 'knight': np.int64(2556), 'enemy': np.int64(1506), 'drama': np.int64(1367), 'thriller': np.int64(4519), 'dccomics': np.int64(1174), 'crimefighter': np.int64(1091), 'secretidentity': np.int64(3968), 'burglar': np.int64(672), 'gothamcity': np.int64(1930), 'vigilante': np.int64(4785), 'cover': np.int64(1071), 'superhero': np.int64(4357), 'terrorism': np.int64(4476), 'destruction': np.int64(1256), 'imax': np.int64(2217), 'flood': np.int64(1750), '2012': np.int64(82), 'christianbale': np.int64(854), 'michaelcaine': np.int64(2931), 'garyoldman': np.int64(1861), 'christophernolan': np.int64(866), 'john': np.int64(2429), 'carter': np.int64(745), 'war': np.int64(4836), 'military': np.int64(2955), 'inexplicably': np.int64(2248), 'transported': np.int64(4604), 'exotic': np.int64(1590), 'planet': np.int64(3396), 'mars': np.int64(2832), 'reluctantly': np.int64(3692), 'embroiled': np.int64(1475), 'epic': np.int64(1533), 'conflict': np.int64(998), 'world': np.int64(4952), 'brink': np.int64(635), 'collapse': np.int64(938), 'humanity': np.int64(2176), 'realizes': np.int64(3639), 'survival': np.int64(4383), 'people': np.int64(3338), 'hands': np.int64(2003), 'princess': np.int64(3499), 'steampunk': np.int64(4259), 'escape': np.int64(1544), 'superhumanstrength': np.int64(4360), '19thcentury': np.int64(67), 'samanthamorton': np.int64(3888), 'seemingly': np.int64(3987), 'spider': np.int64(4214), 'man': np.int64(2794), 'goes': np.int64(1915), 'villain': np.int64(4787), 'including': np.int64(2235), 'shape': np.int64(4048), 'superpowers': np.int64(4365), 'alter': np.int64(227), 'ego': np.int64(1447), 'peter': np.int64(3354), 'parker': np.int64(3291), 'deals': np.int64(1183), 'nemesis': np.int64(3124), 'eddie': np.int64(1434), 'gets': np.int64(1888), 'caught': np.int64(765), 'love': np.int64(2738), 'triangle': np.int64(4622), 'dualidentity': np.int64(1399), 'amnesia': np.int64(248), 'forgiveness': np.int64(1783), 'wretch': np.int64(4964), 'deathofafriend': np.int64(1186), 'hostility': np.int64(2159), 'marvelcomic': np.int64(2844), 'revenge': np.int64(3753), 'tobeymaguire': np.int64(4542), 'kirstendunst': np.int64(2550), 'jamesfranco': np.int64(2350), 'samraimi': np.int64(3891), 'kingdom': np.int64(2547), 'wanted': np.int64(4833), 'charming': np.int64(813), 'tower': np.int64(4574), 'taken': np.int64(4410), 'hostage': np.int64(2157), 'beautiful': np.int64(480), 'bound': np.int64(596), 'teen': np.int64(4446), '70': np.int64(98), 'feet': np.int64(1687), 'magical': np.int64(2776), 'golden': np.int64(1918), 'hair': np.int64(1993), 'curious': np.int64(1119), 'looking': np.int64(2709), 'ticket': np.int64(4527), 'locked': np.int64(2696), 'away': np.int64(418), 'strikes': np.int64(4309), 'deal': np.int64(1179), 'handsome': np.int64(2004), 'thief': np.int64(4496), 'unlikely': np.int64(4708), 'duo': np.int64(1406), 'sets': np.int64(4025), 'packed': np.int64(3264), 'escapade': np.int64(1543), 'complete': np.int64(983), 'super': np.int64(4356), 'cop': np.int64(1041), 'horse': np.int64(2154), 'gang': np.int64(1850), 'thugs': np.int64(4525), 'animation': np.int64(279), 'family': np.int64(1646), 'magic': np.int64(2775), 'fairytale': np.int64(1633), 'musical': np.int64(3065), 'duringcreditsstinger': np.int64(1407), '2010': np.int64(80), 'mandymoore': np.int64(2797), 'tony': np.int64(4555), 'stark': np.int64(4245), 'tries': np.int64(4625), 'program': np.int64(3521), 'things': np.int64(4499), 'awry': np.int64(419), 'heroes': np.int64(2083), 'ultimate': np.int64(4668), 'test': np.int64(4483), 'fate': np.int64(1668), 'hangs': np.int64(2008), 'balance': np.int64(432), 'emerges': np.int64(1478), 'stop': np.int64(4287), 'plans': np.int64(3400), 'soon': np.int64(4175), 'unexpected': np.int64(4689), 'way': np.int64(4858), 'global': np.int64(1909), 'basedoncomicbook': np.int64(455), 'vision': np.int64(4802), 'marvelcinematicuniverse': np.int64(2843), 'robertdowneyjr': np.int64(3798), 'chrishemsworth': np.int64(848), 'markruffalo': np.int64(2820), 'harry': np.int64(2026), 'begins': np.int64(493), 'year': np.int64(4978), 'discovers': np.int64(1312), 'old': np.int64(3205), 'book': np.int64(586), 'marked': np.int64(2818), 'property': np.int64(3534), 'half': np.int64(1994), 'blood': np.int64(562), 'prince': np.int64(3498), 'learn': np.int64(2621), 'lord': np.int64(2713), 'witch': np.int64(4923), 'broom': np.int64(646), 'teenagecrush': np.int64(4448), 'werewolf': np.int64(4874), 'danielradcliffe': np.int64(1145), 'rupertgrint': np.int64(3857), 'emmawatson': np.int64(1487), 'actions': np.int64(130), 'god': np.int64(1913), 'like': np.int64(2670), 'hero': np.int64(2082), 'left': np.int64(2629), 'formidable': np.int64(1785), 'takes': np.int64(4411), 'modern': np.int64(2998), 'day': np.int64(1171), 'sort': np.int64(4180), 'really': np.int64(3641), 'needs': np.int64(3117), 'superman': np.int64(4361), 'threat': np.int64(4512), 'quickly': np.int64(3585), 'putting': np.int64(3575), 'mankind': np.int64(2802), 'greater': np.int64(1946), 'danger': np.int64(1139), 'known': np.int64(2560), '2016': np.int64(86), 'benaffleck': np.int64(505), 'returns': np.int64(3743), 'discover': np.int64(1309), 'walk': np.int64(4822), 'free': np.int64(1813), 'abandoned': np.int64(102), 'moved': np.int64(3041), 'plots': np.int64(3414), 'millions': np.int64(2960), 'killed': np.int64(2536), 'change': np.int64(794), 'face': np.int64(1620), 'forever': np.int64(1781), 'steel': np.int64(4260), 'savingtheworld': np.int64(3916), '2006': np.int64(76), 'kevinspacey': np.int64(2522), 'katebosworth': np.int64(2494), 'bryansinger': np.int64(659), 'continues': np.int64(1023), 'adventures': np.int64(161), 'james': np.int64(2348), 'casino': np.int64(751), 'betrayed': np.int64(521), 'woman': np.int64(4930), 'loved': np.int64(2740), '007': np.int64(1), 'fights': np.int64(1710), 'make': np.int64(2785), 'latest': np.int64(2602), 'personal': np.int64(3350), 'pursuing': np.int64(3569), 'determination': np.int64(1260), 'mr': np.int64(3048), 'white': np.int64(4885), 'reveals': np.int64(3751), 'far': np.int64(1657), 'complex': np.int64(985), 'dangerous': np.int64(1140), 'imagined': np.int64(2216), 'killing': np.int64(2540), 'undercover': np.int64(4679), '2008': np.int64(78), 'marcforster': np.int64(2808), 'jack': np.int64(2338), 'works': np.int64(4951), 'debt': np.int64(1190), 'jones': np.int64(2454), 'attempts': np.int64(390), 'avoid': np.int64(414), 'eternal': np.int64(1555), 'fortuneteller': np.int64(1790), 'monster': np.int64(3008), 'daughter': np.int64(1159), 'texas': np.int64(4486), 'rangers': np.int64(3617), 'chase': np.int64(814), 'led': np.int64(2627), 'survivor': np.int64(4388), 'american': np.int64(242), 'indian': np.int64(2242), 'named': np.int64(3083), 'health': np.int64(2051), 'ranger': np.int64(3616), 'mask': np.int64(2847), 'riding': np.int64(3768), 'silver': np.int64(4095), 'teams': np.int64(4440), 'bring': np.int64(632), 'justice': np.int64(2484), 'western': np.int64(4880), 'partner': np.int64(3296), 'outlaw': np.int64(3247), 'lawyer': np.int64(2612), 'train': np.int64(4593), '2013': np.int64(83), 'young': np.int64(4982), 'boy': np.int64(604), 'learns': np.int64(2623), 'extraordinary': np.int64(1612), 'powers': np.int64(3462), 'journeys': np.int64(2467), 'came': np.int64(692), 'sent': np.int64(4003), 'emerge': np.int64(1476), 'save': np.int64(3912), 'hope': np.int64(2143), 'superhuman': np.int64(4359), 'alieninvasion': np.int64(213), 'reboot': np.int64(3650), 'amyadams': np.int64(253), 'michaelshannon': np.int64(2937), 'incredible': np.int64(2237), 'lion': np.int64(2680), 'lucy': np.int64(2757), 'susan': np.int64(4390), 'return': np.int64(3740), 'aid': np.int64(189), 'threatened': np.int64(4514), 'evil': np.int64(1572), 'king': np.int64(2546), 'help': np.int64(2076), 'colorful': np.int64(951), 'cast': np.int64(752), 'characters': np.int64(803), 'clan': np.int64(892), 'embarks': np.int64(1473), 'quest': np.int64(3581), 'ensure': np.int64(1521), 'returned': np.int64(3741), 'heir': np.int64(2066), 'fictionalplace': np.int64(1701), 'brothersisterrelationship': np.int64(651), 'faith': np.int64(1634), 'uncle': np.int64(4674), 'fantasyworld': np.int64(1656), 'threatens': np.int64(4516), 'safety': np.int64(3877), 'security': np.int64(3979), 'nick': np.int64(3151), 'director': np.int64(1299), 'international': np.int64(2293), 'agency': np.int64(179), 'finds': np.int64(1728), 'need': np.int64(3115), 'team': np.int64(4439), 'pull': np.int64(3557), 'disaster': np.int64(1307), 'spanning': np.int64(4199), 'globe': np.int64(1910), 'daring': np.int64(1151), 'effort': np.int64(1444), 'newyork': np.int64(3146), 'chrisevans': np.int64(847), 'crosses': np.int64(1102), 'paths': np.int64(3313), 'sure': np.int64(4372), 'ruthless': np.int64(3866), 'artist': np.int64(355), 'using': np.int64(4739), 'youth': np.int64(4986), 'aboard': np.int64(108), 'queen': np.int64(3577), 'anne': np.int64(282), 'doesn': np.int64(1340), 'know': np.int64(2557), 'fear': np.int64(1676), 'sea': np.int64(3948), 'mutiny': np.int64(3073), 'sword': np.int64(4402), 'sailing': np.int64(3880), 'duke': np.int64(1403), 'mermaid': np.int64(2915), '2011': np.int64(81), 'penélopecruz': np.int64(3337), 'agents': np.int64(182), 'smith': np.int64(4145), 'tommy': np.int64(4551), 'lee': np.int64(2628), 'time': np.int64(4533), 'seen': np.int64(3988), '15': np.int64(8), 'men': np.int64(2904), 'black': np.int64(552), 'aliens': np.int64(215), 'stake': np.int64(4234), 'agent': np.int64(181), 'travel': np.int64(4611), 'right': np.int64(3771), 'secrets': np.int64(3974), 'universe': np.int64(4700), 'told': np.int64(4546), 'josh': np.int64(2460), 'humankind': np.int64(2177), 'comedy': np.int64(959), 'timetravel': np.int64(4536), 'willsmith': np.int64(4907), 'tommyleejones': np.int64(4552), 'joshbrolin': np.int64(2461), 'immediately': np.int64(2218), 'events': np.int64(1567), 'dwarves': np.int64(1411), 'try': np.int64(4639), 'defend': np.int64(1209), 'mountain': np.int64(3038), 'treasure': np.int64(4615), 'claim': np.int64(888), 'elves': np.int64(1469), 'army': np.int64(337), 'orcs': np.int64(3224), 'rise': np.int64(3778), 'unite': np.int64(4698), 'middle': np.int64(2944), 'falls': np.int64(1640), 'corruption': np.int64(1051), 'dragon': np.int64(1366), 'unlikelyfriendship': np.int64(4709), 'swordandsorcery': np.int64(4403), '2014': np.int64(84), 'ianmckellen': np.int64(2194), 'peterjackson': np.int64(3355), 'outcast': np.int64(3245), 'high': np.int64(2090), 'parents': np.int64(3287), 'leaving': np.int64(2626), 'raised': np.int64(3610), 'ben': np.int64(504), 'aunt': np.int64(403), 'teenagers': np.int64(4451), 'trying': np.int64(4640), 'figure': np.int64(1711), 'got': np.int64(1928), 'person': np.int64(3349), 'today': np.int64(4543), 'father': np.int64(1670), 'understand': np.int64(4684), 'disappearance': np.int64(1304), 'leading': np.int64(2618), 'lab': np.int64(2577), 'dr': np.int64(1363), 'set': np.int64(4021), 'collision': np.int64(946), 'course': np.int64(1065), 'choices': np.int64(840), 'use': np.int64(4736), 'destiny': np.int64(1252), 'lossoffather': np.int64(2724), 'emmastone': np.int64(1485), 'robin': np.int64(3804), 'happens': np.int64(2014), 'dying': np.int64(1413), 'robert': np.int64(3796), 'promises': np.int64(3527), 'identity': np.int64(2201), 'widow': np.int64(4890), 'draws': np.int64(1372), 'town': np.int64(4575), 'sheriff': np.int64(4062), 'archer': np.int64(326), 'medieval': np.int64(2890), 'russellcrowe': np.int64(3862), 'cateblanchett': np.int64(759), 'ridleyscott': np.int64(3769), 'successfully': np.int64(4340), 'escaped': np.int64(1545), 'mountains': np.int64(3039), 'ring': np.int64(3775), 'continue': np.int64(1022), 'journey': np.int64(2466), 'gold': np.int64(1917), 'wizard': np.int64(4928), 'shocking': np.int64(4067), 'orphan': np.int64(3237), 'carefree': np.int64(727), 'existence': np.int64(1586), 'jordan': np.int64(2457), 'college': np.int64(944), 'otherworldly': np.int64(3242), 'north': np.int64(3167), 'unaware': np.int64(4673), 'england': np.int64(1512), 'experiment': np.int64(1600), 'animal': np.int64(274), 'basedonyoungadultnovel': np.int64(464), 'nicolekidman': np.int64(3154), 'york': np.int64(4981), 'ambitious': np.int64(238), 'movie': np.int64(3044), 'producer': np.int64(3515), 'hired': np.int64(2107), 'crew': np.int64(1089), 'skull': np.int64(4126), 'island': np.int64(2328), 'encounter': np.int64(1497), 'kong': np.int64(2562), 'giant': np.int64(1893), 'ape': np.int64(306), 'smitten': np.int64(4146), 'lady': np.int64(2581), 'filmmaking': np.int64(1720), 'filmproducer': np.int64(1721), 'dinosaur': np.int64(1294), '2005': np.int64(75), 'naomiwatts': np.int64(3087), 'jackblack': np.int64(2339), 'adrienbrody': np.int64(154), 'rose': np.int64(3837), 'tells': np.int64(4460), 'story': np.int64(4294), 'lewis': np.int64(2652), 'bobby': np.int64(573), 'april': np.int64(320), 'called': np.int64(688), 'upper': np.int64(4726), 'class': np.int64(895), 'passengers': np.int64(3305), 'mother': np.int64(3030), 'ruth': np.int64(3865), 'fiancé': np.int64(1697), 'drifter': np.int64(1377), 'best': np.int64(516), 'friend': np.int64(1821), 'win': np.int64(4909), 'game': np.int64(1847), 'voyage': np.int64(4815), '20': np.int64(68), 'morning': np.int64(3022), 'panic': np.int64(3278), '1997': np.int64(63), 'katewinslet': np.int64(2497), 'leonardodicaprio': np.int64(2639), 'age': np.int64(176), 'pass': np.int64(3302), 'act': np.int64(126), 'designed': np.int64(1241), 'activity': np.int64(133), 'causing': np.int64(769), 'factions': np.int64(1626), 'iron': np.int64(2327), 'america': np.int64(241), 'causes': np.int64(768), 'allies': np.int64(221), 'civilwar': np.int64(887), 'scarlettjohansson': np.int64(3922), 'radio': np.int64(3601), 'comes': np.int64(960), 'form': np.int64(1784), 'waters': np.int64(4856), 'hawaii': np.int64(2043), 'lieutenant': np.int64(2660), 'alex': np.int64(208), 'hopper': np.int64(2148), 'weapons': np.int64(4863), 'officer': np.int64(3200), 'assigned': np.int64(375), 'paul': np.int64(3320), 'hostile': np.int64(2158), 'force': np.int64(1773), 'unimaginable': np.int64(4694), 'strength': np.int64(4304), 'taking': np.int64(4412), 'invaders': np.int64(2303), 'live': np.int64(2686), 'potential': np.int64(3455), 'brother': np.int64(648), 'fiancée': np.int64(1698), 'shane': np.int64(4046), 'fight': np.int64(1706), 'navy': np.int64(3104), 'hongkong': np.int64(2137), 'soccer': np.int64(4153), 'scientist': np.int64(3936), 'park': np.int64(3290), 'features': np.int64(1680), 'fully': np.int64(1833), 'dna': np.int64(1333), 'suspense': np.int64(4396), 'amusementpark': np.int64(251), 'animalattack': np.int64(275), 'animalhorror': np.int64(276), 'assignment': np.int64(376), 'wrong': np.int64(4971), 'exposed': np.int64(1608), 'attacked': np.int64(386), 'forcing': np.int64(1776), 'cause': np.int64(766), 'authority': np.int64(409), 'position': np.int64(3446), 'challenged': np.int64(789), 'intelligence': np.int64(2286), 'inside': np.int64(2271), 'ally': np.int64(224), 'trust': np.int64(4637), 'aided': np.int64(191), 'field': np.int64(1702), 'eve': np.int64(1564), 'lethal': np.int64(2647), 'hidden': np.int64(2087), 'sociopath': np.int64(4158), 'killer': np.int64(2537), 'judidench': np.int64(2472), 'javierbardem': np.int64(2369), 'going': np.int64(1916), 'major': np.int64(2784), 'crisis': np.int64(1095), 'decides': np.int64(1200), 'leaves': np.int64(2625), 'suffering': np.int64(4344), 'wake': np.int64(4820), 'doc': np.int64(1334), 'feelings': np.int64(1685), 'mary': np.int64(2845), 'jane': np.int64(2358), 'girl': np.int64(1899), 'childhood': np.int64(829), 'doctor': np.int64(1335), 'supervillain': np.int64(4367), '2004': np.int64(74), 'apart': np.int64(303), 'starts': np.int64(4251), 'odyssey': np.int64(3195), 'retribution': np.int64(3738), 'tennessee': np.int64(4462), 'gwynethpaltrow': np.int64(1991), 'doncheadle': np.int64(1352), 'alice': np.int64(211), 'individual': np.int64(2246), '19': np.int64(13), 'english': np.int64(1513), 'engagement': np.int64(1510), 'party': np.int64(3300), 'escapes': np.int64(1547), 'marriage': np.int64(2824), 'hole': np.int64(2122), 'garden': np.int64(1856), 'unusual': np.int64(4722), 'rabbit': np.int64(3589), 'arriving': np.int64(348), 'strange': np.int64(4297), 'surreal': np.int64(4379), 'place': np.int64(3389), 'nightmares': np.int64(3159), 'child': np.int64(826), 'filled': np.int64(1713), 'talking': np.int64(4418), 'animals': np.int64(277), 'queens': np.int64(3579), 'reason': np.int64(3643), 'conquer': np.int64(1008), 'horrific': np.int64(2150), 'restore': np.int64(3731), 'throne': np.int64(4521), 'annehathaway': np.int64(283), 'timburton': np.int64(4532), 'cure': np.int64(1118), 'lines': np.int64(2678), 'drawn': np.int64(1371), 'band': np.int64(436), 'powerful': np.int64(3460), 'mutants': np.int64(3071), 'organized': np.int64(3231), 'mutant': np.int64(3070), 'beast': np.int64(476), 'hughjackman': np.int64(2173), 'halleberry': np.int64(1996), 'brettratner': np.int64(623), 'look': np.int64(2708), 'relationship': np.int64(3680), 'mike': np.int64(2950), 'days': np.int64(1172), 'monsters': np.int64(3009), 'university': np.int64(4701), 'friends': np.int64(1823), 'games': np.int64(1848), 'bestfriend': np.int64(517), 'scary': np.int64(3923), 'billycrystal': np.int64(541), 'johngoodman': np.int64(2433), 'stevebuscemi': np.int64(4271), 'sam': np.int64(3886), 'normal': np.int64(3166), 'mind': np.int64(2961), 'target': np.int64(4424), 'egypt': np.int64(1448), 'sun': np.int64(4354), 'chaos': np.int64(799), 'tank': np.int64(4422), 'robot': np.int64(3808), 'shialabeouf': np.int64(4063), 'michaelbay': np.int64(2930), 'picks': np.int64(3373), 'pieces': np.int64(3377), 'conclusion': np.int64(993), 'group': np.int64(1964), 'businessman': np.int64(677), 'scientists': np.int64(3937), 'attempt': np.int64(388), 'push': np.int64(3571), 'boundaries': np.int64(597), 'technology': np.int64(4444), 'control': np.int64(1026), 'ancient': np.int64(257), 'menace': np.int64(2905), 'cross': np.int64(1100), 'giantrobot': np.int64(1894), 'markwahlberg': np.int64(2821), 'oscar': np.int64(3240), 'small': np.int64(4142), 'circus': np.int64(881), 'whisked': np.int64(4884), 'kansas': np.int64(2487), 'land': np.int64(2585), 'oz': np.int64(3259), 'inhabitants': np.int64(2258), 'great': np.int64(1945), 'prophecy': np.int64(3535), 'clutches': np.int64(923), 'lost': np.int64(2730), 'milakunis': np.int64(2952), 'rachelweisz': np.int64(3597), 'busy': np.int64(679), 'bad': np.int64(428), 'guys': np.int64(1990), 'spending': np.int64(4211), 'loves': np.int64(2746), 'school': np.int64(3930), 'graduation': np.int64(1937), 'promise': np.int64(3525), 'uncovers': np.int64(4677), 'clues': np.int64(922), 'obsession': np.int64(3183), 'jamiefoxx': np.int64(2356), 'tech': np.int64(4443), 'son': np.int64(4170), 'kevin': np.int64(2515), 'investigates': np.int64(2309), 'pulled': np.int64(3558), 'dictator': np.int64(1280), 'real': np.int64(3636), 'artificialintelligence': np.int64(354), 'dystopia': np.int64(1420), 'computer': np.int64(989), 'deception': np.int64(1197), 'duel': np.int64(1402), 'motorcycle': np.int64(3037), 'jeffbridges': np.int64(2380), 'oliviawilde': np.int64(3209), 'star': np.int64(4243), 'race': np.int64(3590), 'car': np.int64(720), 'lightning': np.int64(2668), 'pal': np.int64(3273), 'head': np.int64(2045), 'compete': np.int64(979), 'grand': np.int64(1938), 'road': np.int64(3788), 'championship': np.int64(792), 'rocky': np.int64(3815), 'espionage': np.int64(1551), 'carrace': np.int64(739), 'anthropomorphism': np.int64(296), 'owenwilson': np.int64(3253), 'centuries': np.int64(782), 'warriors': np.int64(4847), 'green': np.int64(1952), 'intergalactic': np.int64(2292), 'order': np.int64(3225), 'destroy': np.int64(1253), 'power': np.int64(3458), 'lie': np.int64(2658), 'human': np.int64(2174), 'recruited': np.int64(3668), 'transformation': np.int64(4600), 'ryanreynolds': np.int64(3870), 'petersarsgaard': np.int64(3356), 'martincampbell': np.int64(2839), 'woody': np.int64(4940), 'rest': np.int64(3729), 'andy': np.int64(264), 'toys': np.int64(4580), 'haven': np.int64(2040), 'played': np.int64(3405), 'accidentally': np.int64(118), 'nefarious': np.int64(3118), 'care': np.int64(725), 'center': np.int64(778), 'home': np.int64(2125), 'toy': np.int64(4578), 'toycomestolife': np.int64(4579), 'tomhanks': np.int64(4549), 'timallen': np.int64(4531), 'grown': np.int64(1969), 'post': np.int64(3452), 'apocalyptic': np.int64(309), 'connor': np.int64(1007), 'lead': np.int64(2615), 'resistance': np.int64(3719), 'humans': np.int64(2178), 'increasingly': np.int64(2236), 'robots': np.int64(3809), 'marcus': np.int64(2810), 'wright': np.int64(4965), 'appears': np.int64(313), 'determine': np.int64(1261), 'sanfrancisco': np.int64(3899), 'cyborg': np.int64(1127), 'killerrobot': np.int64(2538), 'gasstation': np.int64(1864), 'losangeles': np.int64(2715), 'antonyelchin': np.int64(302), 'shaw': np.int64(4059), 'seeks': np.int64(3986), 'speed': np.int64(4208), 'vindiesel': np.int64(4792), 'paulwalker': np.int64(3327), 'dwaynejohnson': np.int64(1412), 'united': np.int64(4699), 'nations': np.int64(3097), 'investigator': np.int64(2312), 'lane': np.int64(2589), 'suddenly': np.int64(4343), 'plagued': np.int64(3393), 'infection': np.int64(2252), 'turning': np.int64(4646), 'zombies': np.int64(4996), 'barely': np.int64(445), 'escaping': np.int64(1548), 'investigate': np.int64(2308), 'disease': np.int64(1314), 'follows': np.int64(1765), 'perilous': np.int64(3345), 'trek': np.int64(4619), 'brave': np.int64(612), 'dangers': np.int64(1141), 'odds': np.int64(3194), 'answers': np.int64(290), 'horror': np.int64(2152), 'apocalypse': np.int64(308), 'zombie': np.int64(4994), 'zombieapocalypse': np.int64(4995), 'bradpitt': np.int64(608), 'species': np.int64(4205), 'join': np.int64(2445), 'younger': np.int64(4984), '1970s': np.int64(34), 'storm': np.int64(4293), 'jamesmcavoy': np.int64(2353), 'michaelfassbender': np.int64(2933), 'enterprise': np.int64(1524), 'unstoppable': np.int64(4719), 'terror': np.int64(4475), 'stands': np.int64(4242), 'state': np.int64(4252), 'score': np.int64(3938), 'settle': np.int64(4027), 'kirk': np.int64(2549), 'leads': np.int64(2619), 'manhunt': np.int64(2799), 'zone': np.int64(4997), 'capture': np.int64(717), 'weapon': np.int64(4862), 'mass': np.int64(2851), 'spacecraft': np.int64(4191), 'friendship': np.int64(1824), 'spaceopera': np.int64(4194), 'chrispine': np.int64(850), 'unwittingly': np.int64(4724), 'opens': np.int64(3217), 'fearsome': np.int64(1678), 'giants': np.int64(1895), 'unleashed': np.int64(4704), 'reclaim': np.int64(3658), 'fighting': np.int64(1709), 'thought': np.int64(4508), 'existed': np.int64(1585), 'legend': np.int64(2632), 'chance': np.int64(793), 'ewanmcgregor': np.int64(1574), 'adaptation': np.int64(144), 'scott': np.int64(3940), 'novel': np.int64(3170), 'lured': np.int64(2761), 'lavish': np.int64(2607), 'neighbor': np.int64(3119), 'jay': np.int64(2370), 'madness': np.int64(2771), 'tragedy': np.int64(4590), 'infidelity': np.int64(2253), 'careymulligan': np.int64(730), 'rogue': np.int64(3817), 'joins': np.int64(2448), 'capable': np.int64(710), 'gift': np.int64(1896), 'gods': np.int64(1914), 'allow': np.int64(222), 'rule': np.int64(3849), 'basedonvideogame': np.int64(463), 'jakegyllenhaal': np.int64(2347), 'benkingsley': np.int64(511), 'monstrous': np.int64(3010), 'creatures': np.int64(1088), 'started': np.int64(4249), 'rising': np.int64(3780), 'began': np.int64(490), 'lives': np.int64(2688), 'resources': np.int64(3722), 'end': np.int64(1499), 'combat': np.int64(953), 'special': np.int64(4203), 'type': np.int64(4662), 'massive': np.int64(2853), 'controlled': np.int64(1027), 'pilots': np.int64(3382), 'minds': np.int64(2962), 'bridge': np.int64(627), 'nearly': np.int64(3113), 'relentless': np.int64(3686), 'verge': np.int64(4766), 'defeat': np.int64(1208), 'choice': np.int64(839), 'turn': np.int64(4643), 'washed': np.int64(4849), 'pilot': np.int64(3381), 'charlie': np.int64(808), 'drive': np.int64(1380), 'legendary': np.int64(2633), 'stand': np.int64(4240), 'steps': np.int64(4269), 'adulthood': np.int64(157), 'remaining': np.int64(3695), 'reluctant': np.int64(3691), 'prime': np.int64(3497), 'film': np.int64(1714), 'centers': np.int64(780), 'usa': np.int64(4734), 'role': np.int64(3819), 'remains': np.int64(3696), 'bodyguard': np.int64(578), 'sabotage': np.int64(3871), 'johnmalkovich': np.int64(2437), 'cold': np.int64(932), 'wielding': np.int64(4893), 'search': np.int64(3955), 'crystal': np.int64(1108), 'supernatural': np.int64(4363), 'mystical': np.int64(3078), 'captured': np.int64(718), 'colleague': np.int64(939), 'professor': np.int64(3519), 'knowledge': np.int64(2559), 'riddle': np.int64(3766), 'whip': np.int64(4883), 'machinegun': np.int64(2767), 'treasurehunt': np.int64(4616), 'archaeologist': np.int64(324), 'archeology': np.int64(325), 'harrisonford': np.int64(2025), 'stevenspielberg': np.int64(4278), 'dinosaurs': np.int64(1295), 'makes': np.int64(2786), 'nature': np.int64(3102), 'scottish': np.int64(3941), 'ruled': np.int64(3850), 'inadvertently': np.int64(2230), 'brings': np.int64(634), 'turmoil': np.int64(4642), 'eccentric': np.int64(1431), 'wise': np.int64(4920), 'ill': np.int64(2208), 'wish': np.int64(4921), 'serving': np.int64(4020), 'comic': np.int64(963), 'enormous': np.int64(1518), 'scotland': np.int64(3939), 'rebel': np.int64(3646), 'bravery': np.int64(613), 'bear': np.int64(474), 'womandirector': np.int64(4931), 'courage': np.int64(1063), 'explores': np.int64(1603), 'reaches': np.int64(3633), 'puts': np.int64(3574), 'federation': np.int64(1682), 'stranded': np.int64(4296), 'hatred': np.int64(2035), 'karlurban': np.int64(2490), 'wall': np.int64(4826), 'overrun': np.int64(3251), 'clean': np.int64(903), 'developed': np.int64(1266), 'arrives': np.int64(347), 'thinks': np.int64(4502), 'finally': np.int64(1725), 'romanticcomedy': np.int64(3824), 'assassination': np.int64(372), 'ambassador': np.int64(236), 'han': np.int64(1999), 'inspector': np.int64(2274), 'detective': np.int64(1258), 'paris': np.int64(3289), 'french': np.int64(1818), 'leaders': np.int64(2617), 'holds': np.int64(2121), 'struggles': np.int64(4316), 'chinese': np.int64(833), 'criminal': np.int64(1093), 'mastermind': np.int64(2856), 'jackiechan': np.int64(2341), 'worldwide': np.int64(4956), 'investigating': np.int64(2310), 'unprecedented': np.int64(4712), 'solar': np.int64(4160), 'core': np.int64(1044), 'president': np.int64(3484), 'thomas': np.int64(4504), 'wilson': np.int64(4908), 'unstable': np.int64(4718), 'saving': np.int64(3915), 'population': np.int64(3438), 'entire': np.int64(1528), 'doomed': np.int64(1354), 'writer': np.int64(4967), 'jackson': np.int64(2343), 'stumbles': np.int64(4327), 'information': np.int64(2257), 'build': np.int64(665), 'cataclysm': np.int64(755), 'wreak': np.int64(4962), 'havoc': np.int64(2042), 'endoftheworld': np.int64(1503), 'johncusack': np.int64(2432), 'amandapeet': np.int64(232), 'chiwetelejiofor': np.int64(835), 'rolandemmerich': np.int64(3818), 'christmas': np.int64(860), 'spirits': np.int64(4219), 'miserable': np.int64(2973), 'current': np.int64(1120), 'dire': np.int64(1296), 'awaits': np.int64(415), 'does': np.int64(1339), 'ways': np.int64(4859), 'faced': np.int64(1621), 'growing': np.int64(1967), 'decide': np.int64(1198), 'hold': np.int64(2119), 'redemption': np.int64(3671), 'holiday': np.int64(2123), 'money': np.int64(3004), 'ghost': np.int64(1891), 'lesson': np.int64(2644), 'jimcarrey': np.int64(2413), 'robertzemeckis': np.int64(3803), 'genetic': np.int64(1873), 'precious': np.int64(3467), 'key': np.int64(2523), 'dynasty': np.int64(1417), 'interspeciesromance': np.int64(2296), 'channingtatum': np.int64(798), 'seanbean': np.int64(3951), 'having': np.int64(2041), 'london': np.int64(2699), 'jungle': np.int64(2480), 'activities': np.int64(132), 'mining': np.int64(2964), 'africa': np.int64(170), 'siblings': np.int64(4084), 'step': np.int64(4261), 'peaceful': np.int64(3332), 'plunged': np.int64(3415), 'winter': np.int64(4919), 'children': np.int64(830), 'spectacular': np.int64(4206), 'selfsacrifice': np.int64(3991), 'fairy': np.int64(1632), 'level': np.int64(2650), 'plan': np.int64(3394), 'supernaturalpowers': np.int64(4364), '1980s': np.int64(45), 'jenniferlawrence': np.int64(2388), 'stakes': np.int64(4235), 'lt': np.int64(2753), 'jim': np.int64(2411), 'gordon': np.int64(1923), 'plague': np.int64(3392), 'streets': np.int64(4303), 'partnership': np.int64(3298), 'proves': np.int64(3545), 'prey': np.int64(3492), 'reign': np.int64(3678), 'terrified': np.int64(4472), 'citizens': np.int64(883), 'sadism': np.int64(3873), 'organizedcrime': np.int64(3232), 'heathledger': np.int64(2061), 'aaroneckhart': np.int64(101), 'carl': np.int64(733), 'spent': np.int64(4213), 'exploring': np.int64(1604), 'experiencing': np.int64(1599), 'passed': np.int64(3303), 'twist': np.int64(4657), 'wilderness': np.int64(4897), 'russell': np.int64(3861), 'gives': np.int64(1904), 'agedifference': np.int64(178), 'christopherplummer': np.int64(867), 'murphy': np.int64(3062), 'meteor': np.int64(2921), 'wedding': np.int64(4868), 'mysteriously': np.int64(3076), 'grows': np.int64(1970), '11': np.int64(4), 'captures': np.int64(719), 'covert': np.int64(1072), 'government': np.int64(1931), 'placed': np.int64(3390), 'sethrogen': np.int64(4024), 'reesewitherspoon': np.int64(3673), 'held': np.int64(2069), 'captive': np.int64(716), 'cave': np.int64(771), 'billionaire': np.int64(533), 'engineer': np.int64(1511), 'creates': np.int64(1084), 'suit': np.int64(4349), 'middleeast': np.int64(2945), 'terrencehoward': np.int64(4469), 'jonfavreau': np.int64(2455), 'living': np.int64(2689), 'walls': np.int64(4828), 'station': np.int64(4254), '1930s': np.int64(14), 'fix': np.int64(1740), 'keeping': np.int64(2507), 'running': np.int64(3855), 'thing': np.int64(4498), 'work': np.int64(4945), 'unlock': np.int64(4710), 'believes': np.int64(500), 'meets': np.int64(2893), 'george': np.int64(1879), 'seeking': np.int64(3985), 'surprising': np.int64(4378), 'connection': np.int64(1005), 'memories': np.int64(2902), 'buried': np.int64(673), 'clock': np.int64(912), 'filmdirector': np.int64(1715), 'hiding': np.int64(2089), 'martinscorsese': np.int64(2841), 'southern': np.int64(4187), 'inventor': np.int64(2307), 'loveless': np.int64(2741), 'civil': np.int64(885), 'grant': np.int64(1942), 'west': np.int64(4879), 'master': np.int64(2855), 'disguise': np.int64(1317), 'thwart': np.int64(4526), 'basedontvseries': np.int64(462), 'drag': np.int64(1365), '1999': np.int64(65), 'kevinkline': np.int64(2520), 'kennethbranagh': np.int64(2513), 'rick': np.int64(3764), 'connell': np.int64(1006), 'travels': np.int64(4613), 'china': np.int64(832), 'emperor': np.int64(1491), '000': np.int64(0), 'pursue': np.int64(3566), 'domination': np.int64(1348), 'enlists': np.int64(1517), 'wife': np.int64(4894), 'abuse': np.int64(109), 'brendanfraser': np.int64(620), 'jetli': np.int64(2405), 'robcohen': np.int64(3795), 'dc': np.int64(1173), 'comics': np.int64(964), 'suicide': np.int64(4347), 'squad': np.int64(4228), 'antihero': np.int64(299), 'states': np.int64(4253), 'risk': np.int64(3781), 'exchange': np.int64(1579), 'prison': np.int64(3501), 'secretmission': np.int64(3972), 'fathersonrelationship': np.int64(1672), 'marriedcouple': np.int64(2828), 'support': np.int64(4369), 'rescue': np.int64(3711), 'stevecarell': np.int64(4272), 'cage': np.int64(684), 'minutes': np.int64(2968), 'awakens': np.int64(416), 'beginning': np.int64(492), 'forced': np.int64(1774), 'die': np.int64(1283), 'physical': np.int64(3368), 'contact': np.int64(1017), 'thrown': np.int64(4523), 'tomcruise': np.int64(4548), 'emilyblunt': np.int64(1481), 'brendangleeson': np.int64(621), 'ice': np.int64(2195), 'rescues': np.int64(3713), 'charge': np.int64(804), 'trio': np.int64(4626), 'map': np.int64(2807), 'tattoo': np.int64(4430), 'water': np.int64(4855), '1995': np.int64(61), 'kevincostner': np.int64(2517), 'egyptian': np.int64(1449), 'desert': np.int64(1239), 'deep': np.int64(1205), 'elite': np.int64(1459), 'joe': np.int64(2423), 'uses': np.int64(4738), 'generation': np.int64(1871), 'corrupt': np.int64(1050), 'arms': np.int64(336), 'dealer': np.int64(1180), 'prevent': np.int64(3490), 'murder': np.int64(3055), 'attack': np.int64(385), 'explosion': np.int64(1605), 'dennisquaid': np.int64(1226), 'marlonwayans': np.int64(2823), 'riley': np.int64(3774), 'midwest': np.int64(2948), 'job': np.int64(2420), 'san': np.int64(3896), 'francisco': np.int64(1801), 'emotions': np.int64(1490), 'joy': np.int64(2468), 'anger': np.int64(271), 'sadness': np.int64(3875), 'headquarters': np.int64(2048), 'everyday': np.int64(1570), 'struggle': np.int64(4315), 'ensues': np.int64(1520), 'main': np.int64(2781), 'important': np.int64(2226), 'navigate': np.int64(3103), 'house': np.int64(2165), 'dream': np.int64(1373), 'cartoon': np.int64(746), 'moving': np.int64(3047), 'kids': np.int64(2532), 'tiger': np.int64(4529), 'khan': np.int64(2525), 'flee': np.int64(1743), 'self': np.int64(3990), 'discovery': np.int64(1313), 'panther': np.int64(3279), 'spirited': np.int64(4218), 'snake': np.int64(4149), 'wolf': np.int64(4929), 'remake': np.int64(3697), 'talkinganimal': np.int64(4419), 'billmurray': np.int64(534), 'faces': np.int64(1622), 'pressure': np.int64(3488), 'press': np.int64(3487), 'public': np.int64(3556), 'share': np.int64(4049), 'let': np.int64(2646), 'invention': np.int64(2306), 'confront': np.int64(999), 'enemies': np.int64(1505), 'marries': np.int64(2829), 'violent': np.int64(4795), 'coup': np.int64(1060), 'murdered': np.int64(3056), 'snow': np.int64(4151), 'decade': np.int64(1192), 'obtain': np.int64(3186), 'immortality': np.int64(2223), 'heart': np.int64(2055), 'castle': np.int64(753), 'forest': np.int64(1779), 'imprisoned': np.int64(2228), 'kristenstewart': np.int64(2567), 'charlizetheron': np.int64(810), 'disney': np.int64(1320), 'iconic': np.int64(2197), '1959': np.int64(22), 'classic': np.int64(897), 'sleeping': np.int64(4137), 'beauty': np.int64(482), 'pure': np.int64(3564), 'hearted': np.int64(2057), 'idyllic': np.int64(2203), 'invading': np.int64(2304), 'harmony': np.int64(2022), 'rises': np.int64(3779), 'ultimately': np.int64(4669), 'suffers': np.int64(4345), 'betrayal': np.int64(520), 'stone': np.int64(4284), 'bent': np.int64(514), 'successor': np.int64(4341), 'result': np.int64(3732), 'places': np.int64(3391), 'curse': np.int64(1121), 'newborn': np.int64(3135), 'infant': np.int64(2250), 'peace': np.int64(3331), 'true': np.int64(4635), 'happiness': np.int64(2016), 'retelling': np.int64(3735), 'angelinajolie': np.int64(269), 'stay': np.int64(4256), 'aftermath': np.int64(175), 'caesar': np.int64(683), 'maintain': np.int64(2783), 'community': np.int64(976), 'intelligent': np.int64(2287), 'apes': np.int64(307), 'colony': np.int64(948), 'woods': np.int64(4939), 'monkey': np.int64(3007), 'lovers': np.int64(2745), 'tale': np.int64(4413), 'impossible': np.int64(2227), 'backdrop': np.int64(424), 'british': np.int64(637), '18th': np.int64(12), 'india': np.int64(2241), 'deeply': np.int64(1207), 'present': np.int64(3482), 'joshhartnett': np.int64(2462), 'based': np.int64(454), 'original': np.int64(3233), 'japan': np.int64(2359), 'born': np.int64(592), 'samurai': np.int64(3895), 'seek': np.int64(3984), 'vengeance': np.int64(4762), 'treacherous': np.int64(4614), 'banished': np.int64(439), 'kind': np.int64(2544), 'honor': np.int64(2138), 'homeland': np.int64(2127), 'embark': np.int64(1471), 'challenges': np.int64(790), 'series': np.int64(4013), 'trials': np.int64(4621), 'ordinary': np.int64(3228), 'basedontruestory': np.int64(461), 'keanureeves': np.int64(2506), 'steve': np.int64(4270), 'aka': np.int64(198), 'washington': np.int64(4850), 'web': np.int64(4866), 'intrigue': np.int64(2301), 'joining': np.int64(2447), 'expose': np.int64(1607), 'conspiracy': np.int64(1013), 'professional': np.int64(3518), 'assassins': np.int64(373), 'plot': np.int64(3413), 'revealed': np.int64(3749), 'enlist': np.int64(1516), 'washingtond': np.int64(4851), 'samuell': np.int64(3894), 'bored': np.int64(589), 'shrek': np.int64(4080), 'feeling': np.int64(1684), 'twisted': np.int64(4658), 'version': np.int64(4767), 'met': np.int64(2919), 'mikemyers': np.int64(2951), 'eddiemurphy': np.int64(1436), 'camerondiaz': np.int64(696), 'shared': np.int64(4050), 'bright': np.int64(630), 'scientific': np.int64(3935), 'genius': np.int64(1876), 'enigmatic': np.int64(1514), 'exists': np.int64(1588), 'memory': np.int64(2903), 'mystery': np.int64(3077), 'georgeclooney': np.int64(1880), 'develops': np.int64(1267), 'plus': np.int64(3416), 'prodigy': np.int64(3513), 'brotherbrotherrelationship': np.int64(649), 'talent': np.int64(4414), 'hate': np.int64(2034), 'ralph': np.int64(3612), 'foot': np.int64(1767), 'tall': np.int64(4421), 'video': np.int64(4777), 'jr': np.int64(2469), 'wanting': np.int64(4834), 'prove': np.int64(3544), 'good': np.int64(1921), 'guy': np.int64(1988), 'just': np.int64(2483), 'lands': np.int64(2587), 'duty': np.int64(1410), 'helps': np.int64(2079), 'enters': np.int64(1525), 'rush': np.int64(3860), 'racing': np.int64(3599), 'tracks': np.int64(4583), 'von': np.int64(4811), 'affect': np.int64(166), 'bullying': np.int64(669), 'johnc': np.int64(2430), 'reilly': np.int64(3679), 'ride': np.int64(3767), 'shows': np.int64(4079), 'wonder': np.int64(4936), 'believe': np.int64(498), 'santaclaus': np.int64(3902), 'nerd': np.int64(3127), 'bell': np.int64(502), 'knew': np.int64(2554), 'coming': np.int64(965), 'defense': np.int64(1210), 'prepare': np.int64(3476), 'women': np.int64(4934), 'jeffgoldblum': np.int64(2382), 'billpullman': np.int64(537), 'shy': np.int64(4082), 'iii': np.int64(2206), 'kill': np.int64(2535), 'warrior': np.int64(4846), 'longer': np.int64(2706), 'wants': np.int64(4835), 'instead': np.int64(2282), 'befriends': np.int64(489), 'names': np.int64(3084), 'flying': np.int64(1754), 'arena': np.int64(331), 'night': np.int64(3156), 'training': np.int64(4596), 'village': np.int64(4786), 'flight': np.int64(1746), 'gerardbutler': np.int64(1883), '10': np.int64(2), 'saved': np.int64(3913), 'clear': np.int64(904), 'assassin': np.int64(370), 'ordered': np.int64(3226), 'finish': np.int64(1730), 'adult': np.int64(155), 'promised': np.int64(3526), 'manvsmachine': np.int64(2806), 'sunglasses': np.int64(4355), 'psychiatrist': np.int64(3548), '2003': np.int64(73), 'arnoldschwarzenegger': np.int64(339), 'clairedanes': np.int64(891), 'light': np.int64(2667), 'abducted': np.int64(103), 'discovering': np.int64(1311), 'spaceship': np.int64(4195), 'outerspace': np.int64(3246), 'chronicles': np.int64(871), 'explorers': np.int64(1602), 'newly': np.int64(3141), 'discovered': np.int64(1310), 'vast': np.int64(4756), 'involved': np.int64(2316), 'singleparent': np.int64(4110), 'nasa': np.int64(3090), 'expedition': np.int64(1595), 'raceagainsttime': np.int64(3591), 'familyrelationships': np.int64(1647), 'farmhouse': np.int64(1661), 'astronaut': np.int64(380), 'fatherdaughterrelationship': np.int64(1671), 'singlefather': np.int64(4108), 'farmer': np.int64(1660), 'matthewmcconaughey': np.int64(2872), 'jessicachastain': np.int64(2402), 'skilled': np.int64(4124), 'corporate': np.int64(1047), 'targets': np.int64(4426), 'offered': np.int64(3197), 'regain': np.int64(3676), 'task': np.int64(4427), 'considered': np.int64(1012), 'idea': np.int64(2198), 'lossoflover': np.int64(2726), 'kidnapping': np.int64(2530), 'sleep': np.int64(4136), 'heist': np.int64(2068), 'josephgordon': np.int64(2459), 'levitt': np.int64(2651), 'ellenpage': np.int64(1464), 'hit': np.int64(2113), 'larger': np.int64(2593), 'tears': np.int64(4442), 'rag': np.int64(3602), 'tag': np.int64(4408), 'volunteers': np.int64(4810), 'red': np.int64(3670), 'tape': np.int64(4423), 'ties': np.int64(4528), 'foreign': np.int64(1778), 'greatest': np.int64(1947), 'catastrophe': np.int64(756), 'eyes': np.int64(1619), 'quiet': np.int64(3586), 'tunnel': np.int64(4641), 'los': np.int64(2714), 'angeles': np.int64(268), 'street': np.int64(4301), 'racer': np.int64(3592), 'suspected': np.int64(4393), 'big': np.int64(527), 'brian': np.int64(624), 'sister': np.int64(4113), 'choose': np.int64(841), 'lapd': np.int64(2591), 'streetgang': np.int64(4302), 'auto': np.int64(411), '2001': np.int64(71), 'benjamin': np.int64(509), 'aging': np.int64(184), 'bizarre': np.int64(551), 'consequences': np.int64(1010), 'diary': np.int64(1278), 'funeral': np.int64(1836), 'hospital': np.int64(2155), 'davidfincher': np.int64(1165), 'charles': np.int64(807), 'took': np.int64(4557), 'arch': np.int64(323), 'working': np.int64(4950), 'cia': np.int64(874), '1960s': np.int64(24), 'nation': np.int64(3095), 'katniss': np.int64(2504), 'final': np.int64(1723), 'showdown': np.int64(4076), 'unit': np.int64(4697), '13': np.int64(6), 'stage': np.int64(4232), 'obsessed': np.int64(3182), 'destroying': np.int64(1255), 'mortal': np.int64(3025), 'traps': np.int64(4608), 'moral': np.int64(3017), 'challenge': np.int64(788), 'hunger': np.int64(2182), 'revolution': np.int64(3754), 'joshhutcherson': np.int64(2463), 'sorcerer': np.int64(4177), 'manhattan': np.int64(2798), 'recruits': np.int64(3669), 'dave': np.int64(1161), 'average': np.int64(413), 'crash': np.int64(1079), 'art': np.int64(350), 'science': np.int64(3933), 'partners': np.int64(3297), 'darkness': np.int64(1155), 'apprentice': np.int64(316), 'nicolascage': np.int64(3153), 'cruise': np.int64(1106), 'traveling': np.int64(4612), 'wave': np.int64(4857), 'begin': np.int64(491), 'dramatic': np.int64(1368), 'newyear': np.int64(3145), 'seve': np.int64(4028), 'drowning': np.int64(1386), 'ball': np.int64(433), 'single': np.int64(4107), 'kurtrussell': np.int64(2574), 'richarddreyfuss': np.int64(3761), 'tim': np.int64(4530), 'mad': np.int64(2769), 'died': np.int64(1284), 'amp': np.int64(249), 'ambush': np.int64(240), 'assault': np.int64(374), 'boardingschool': np.int64(570), 'teacher': np.int64(4435), 'cowardliness': np.int64(1074), 'pregnancy': np.int64(3469), 'realm': np.int64(3642), 'portal': np.int64(3442), 'worlds': np.int64(4953), 'opposing': np.int64(3222), 'sides': np.int64(4087), 'videogame': np.int64(4778), 'paulapatton': np.int64(3321), 'benfoster': np.int64(507), 'fears': np.int64(1677), 'unknown': np.int64(4702), 'warfare': np.int64(4841), 'fiction': np.int64(1699), 'cousin': np.int64(1070), 'painting': np.int64(3271), 'fantastic': np.int64(1654), 'goodvsevil': np.int64(1922), 'simonpegg': np.int64(4098), 'lifelong': np.int64(2664), 'danny': np.int64(1146), 'walker': np.int64(4823), 'ace': np.int64(124), 'entangled': np.int64(1522), 'nurse': np.int64(3179), 'johnson': np.int64(2442), 'rivalry': np.int64(3785), 'turned': np.int64(4644), 'devastating': np.int64(1264), 'harbor': np.int64(2019), 'history': np.int64(2112), 'worldwarii': np.int64(4955), 'airplane': np.int64(195), 'katebeckinsale': np.int64(2493), 'teenager': np.int64(4450), 'extraterrestrial': np.int64(1613), 'transforming': np.int64(4602), 'heroic': np.int64(2084), 'clue': np.int64(920), 'retrieve': np.int64(3739), 'empire': np.int64(1492), 'gone': np.int64(1920), 'greece': np.int64(1948), 'campaign': np.int64(698), 'homosexuality': np.int64(2133), 'gayrelationship': np.int64(1868), 'ancientworld': np.int64(259), 'colinfarrell': np.int64(936), 'valkilmer': np.int64(4744), 'oliverstone': np.int64(3208), 'returning': np.int64(3742), 'fifth': np.int64(1705), 'study': np.int64(4325), 'matters': np.int64(2869), 'students': np.int64(4322), 'arts': np.int64(358), 'childhero': np.int64(828), 'dyinganddeath': np.int64(1414), 'blackmagic': np.int64(553), 'sorcery': np.int64(4178), 'fourth': np.int64(1795), 'tournament': np.int64(4573), 'ron': np.int64(3828), 'expert': np.int64(1601), 'image': np.int64(2213), 'damage': np.int64(1132), 'miss': np.int64(2977), 'successful': np.int64(4339), 'sense': np.int64(4002), 'purpose': np.int64(3565), 'alcohol': np.int64(204), 'forbiddenlove': np.int64(1772), 'affection': np.int64(167), 'alcoholism': np.int64(206), 'jasonbateman': np.int64(2363), 'unable': np.int64(4672), 'spread': np.int64(4225), 'virus': np.int64(4801), 'daily': np.int64(1129), 'messages': np.int64(2918), 'desperate': np.int64(1246), 'survivors': np.int64(4389), 'wins': np.int64(4918), 'tour': np.int64(4571), 'chocolate': np.int64(838), 'factory': np.int64(1627), 'candy': np.int64(706), 'londonengland': np.int64(2700), 'parentskidsrelationship': np.int64(3288), 'rat': np.int64(3625), 'dreams': np.int64(1374), 'chef': np.int64(820), 'despite': np.int64(1249), 'wishes': np.int64(4922), 'problem': np.int64(3510), 'beneath': np.int64(506), 'restaurant': np.int64(3730), 'famous': np.int64(1649), 'apparent': np.int64(310), 'kitchen': np.int64(2553), 'fine': np.int64(1729), 'passion': np.int64(3308), 'cooking': np.int64(1038), 'motion': np.int64(3034), 'hilarious': np.int64(2099), 'exciting': np.int64(1580), 'turns': np.int64(4647), 'upside': np.int64(4731), 'river': np.int64(3787), 'cook': np.int64(1037), 'mouse': np.int64(3040), 'confidence': np.int64(996), 'roof': np.int64(3831), 'window': np.int64(4911), 'court': np.int64(1066), 'driven': np.int64(1381), 'bruce': np.int64(654), 'underworld': np.int64(4686), 'himalaya': np.int64(2103), 'martialarts': np.int64(2837), 'ninja': np.int64(3162), 'liamneeson': np.int64(2655), 'marty': np.int64(2842), 'maurice': np.int64(2873), 'penguins': np.int64(3335), 'crazy': np.int64(1081), 'plane': np.int64(3395), 'jealousy': np.int64(2375), 'dance': np.int64(1136), 'zoo': np.int64(4998), 'penguin': np.int64(3334), 'volcano': np.int64(4809), 'zebra': np.int64(4990), 'shark': np.int64(4053), 'benstiller': np.int64(513), 'jadapinkettsmith': np.int64(2344), 'museum': np.int64(3063), 'larry': np.int64(2595), 've': np.int64(4759), 'institution': np.int64(2283), 'include': np.int64(2233), 'close': np.int64(915), 'lincoln': np.int64(2674), 'shawnlevy': np.int64(4060), 'avenge': np.int64(412), 'girlfriend': np.int64(1900), 'boxer': np.int64(602), 'lievschreiber': np.int64(2661), 'invasion': np.int64(2305), 'neo': np.int64(3125), 'philosophy': np.int64(3363), 'kungfu': np.int64(2572), 'temple': np.int64(4461), 'subway': np.int64(4335), 'computervirus': np.int64(990), 'virtualreality': np.int64(4800), 'cyberpunk': np.int64(1126), 'laurencefishburne': np.int64(2606), 'carrie': np.int64(740), 'annemoss': np.int64(284), 'anna': np.int64(280), 'finding': np.int64(1727), 'fallen': np.int64(1637), 'accompanied': np.int64(119), 'means': np.int64(2885), 'kristenbell': np.int64(2566), 'months': np.int64(3013), 'matrix': np.int64(2864), 'freed': np.int64(1814), 'brought': np.int64(652), 'ability': np.int64(106), 'certain': np.int64(785), 'pre': np.int64(3465), 'nasty': np.int64(3091), 'piece': np.int64(3376), 'news': np.int64(3143), 'hits': np.int64(2116), 'machine': np.int64(2766), 'digging': np.int64(1290), 'reach': np.int64(3632), 'hours': np.int64(2164), 'prepares': np.int64(3478), 'source': np.int64(4184), 'vengeful': np.int64(4763), 'reunite': np.int64(3745), 'foster': np.int64(1792), 'sacrifice': np.int64(3872), 'natalieportman': np.int64(3093), 'landscape': np.int64(2588), 'broken': np.int64(642), 'exist': np.int64(1584), 'rebels': np.int64(3649), 'run': np.int64(3852), 'able': np.int64(107), 'max': np.int64(2874), 'words': np.int64(4944), 'loss': np.int64(2720), 'path': np.int64(3312), 'australia': np.int64(405), 'ontherun': np.int64(3214), 'tomhardy': np.int64(4550), 'georgemiller': np.int64(1881), 'harvard': np.int64(2029), 'evidence': np.int64(1571), 'underground': np.int64(4683), 'rome': np.int64(3825), 'vatican': np.int64(4757), 'christian': np.int64(853), 'prequel': np.int64(3480), 'catholicism': np.int64(763), 'ronhoward': np.int64(3829), 'mighty': np.int64(2949), 'arrogant': np.int64(349), 'punishment': np.int64(3560), 'darkest': np.int64(1154), 'newmexico': np.int64(3142), 'biggest': np.int64(529), 'hollywood': np.int64(2124), 'separated': np.int64(4008), 'beloved': np.int64(503), 'owner': np.int64(3256), 'kidsandfamily': np.int64(2533), 'johntravolta': np.int64(2443), 'trained': np.int64(4594), 'mole': np.int64(2999), 'fly': np.int64(1753), 'sentenced': np.int64(4005), 'pet': np.int64(3352), 'shop': np.int64(4072), 'samrockwell': np.int64(3892), 'zeus': np.int64(4991), 'attempting': np.int64(389), 'fisherman': np.int64(1735), 'sole': np.int64(4164), 'parent': np.int64(3286), 'losing': np.int64(2719), 'brothers': np.int64(650), 'mythology': np.int64(3080), 'ralphfiennes': np.int64(3613), 'vampire': np.int64(4748), 'changed': np.int64(795), '1972': np.int64(36), 'estate': np.int64(1553), 'imprisonment': np.int64(2229), 'fishoutofwater': np.int64(1737), 'michellepfeiffer': np.int64(2940), 'helenabonhamcarter': np.int64(2071), 'ethan': np.int64(1556), 'highly': np.int64(2092), 'committed': np.int64(973), 'vienna': np.int64(4779), 'lawrence': np.int64(2610), 'visit': np.int64(4804), 'estranged': np.int64(1554), 'savage': np.int64(3911), 'flesh': np.int64(1745), 'ruralsetting': np.int64(3859), 'beniciodeltoro': np.int64(508), 'anthonyhopkins': np.int64(295), 'barry': np.int64(449), 'bee': np.int64(487), 'disillusioned': np.int64(1319), 'lone': np.int64(2701), 'career': np.int64(726), 'making': np.int64(2787), 'honey': np.int64(2134), 'trip': np.int64(4627), 'outside': np.int64(3249), 'vanessa': np.int64(4752), 'actually': np.int64(139), 'flower': np.int64(1752), 'renéezellweger': np.int64(3703), 'po': np.int64(3417), 'valley': np.int64(4745), 'alongside': np.int64(225), 'fellow': np.int64(1688), 'kung': np.int64(2571), 'fu': np.int64(1830), 'masters': np.int64(2857), 'furious': np.int64(1838), 'origins': np.int64(3234), 'succeed': np.int64(4336), 'dustinhoffman': np.int64(1408), 'line': np.int64(2677), 'aside': np.int64(363), 'air': np.int64(194), 'arrest': np.int64(342), 'spirit': np.int64(4217), 'nightshyamalan': np.int64(3160), 'retired': np.int64(3736), 'hunt': np.int64(2184), 'sadistic': np.int64(3874), 'berlin': np.int64(515), 'whitehouse': np.int64(4886), 'explosive': np.int64(1606), 'honeymoon': np.int64(2135), 'letter': np.int64(2648), 'mail': np.int64(2780), 'suitcase': np.int64(4350), 'celebration': np.int64(774), 'philipseymourhoffman': np.int64(3361), 'policeman': np.int64(3426), 'little': np.int64(2684), 'heavily': np.int64(2063), 'armed': np.int64(335), 'falling': np.int64(1638), 'country': np.int64(1056), 'usapresident': np.int64(4735), 'secretservice': np.int64(3975), 'mom': np.int64(3001), 'mischievous': np.int64(2972), 'sbook': np.int64(3918), 'sethgreen': np.int64(4023), 'joancusack': np.int64(2418), 'common': np.int64(974), 'sewer': np.int64(4032), 'hang': np.int64(2006), 'frog': np.int64(1826), 'orphanage': np.int64(3238), '12': np.int64(5), 'hook': np.int64(2141), 'lily': np.int64(2672), 'rebellious': np.int64(3648), 'pan': np.int64(3277), 'dog': np.int64(1341), 'spring': np.int64(4226), 'stolen': np.int64(4283), 'moments': np.int64(3003), 'adoption': np.int64(152), 'growingup': np.int64(1968), 'trouble': np.int64(4630), 'clash': np.int64(894), 'convinces': np.int64(1036), 'helen': np.int64(2070), 'leave': np.int64(2624), 'husband': np.int64(2190), 'troy': np.int64(4632), 'asks': np.int64(367), 'sees': np.int64(3989), 'opportunity': np.int64(3221), 'holding': np.int64(2120), '50': np.int64(94), 'adultery': np.int64(156), 'fraud': np.int64(1808), 'swordfight': np.int64(4404), 'battlefield': np.int64(469), 'ericbana': np.int64(1538), 'apple': np.int64(314), 'central': np.int64(781), 'attention': np.int64(393), 'joined': np.int64(2446), 'julian': np.int64(2474), 'europe': np.int64(1558), 'collection': np.int64(942), 'realize': np.int64(3638), 'want': np.int64(4832), 'korean': np.int64(2564), 'different': np.int64(1288), 'identities': np.int64(2200), 'satellite': np.int64(3909), 'powered': np.int64(3459), 'energy': np.int64(1507), '2002': np.int64(72), 'piercebrosnan': np.int64(3378), 'paranormal': np.int64(3285), 'erin': np.int64(1539), 'nuclear': np.int64(3172), 'worker': np.int64(4948), 'femalefriendship': np.int64(1690), 'kristenwiig': np.int64(2568), 'asteroid': np.int64(379), 'collide': np.int64(945), 'dan': np.int64(1134), 'surface': np.int64(4373), 'bomb': np.int64(581), 'renowned': np.int64(3702), 'agrees': np.int64(187), 'isn': np.int64(2329), 'spacemarine': np.int64(4192), '1998': np.int64(64), 'brucewillis': np.int64(655), 'billybobthornton': np.int64(539), 'kay': np.int64(2505), 'provide': np.int64(3546), 'toughest': np.int64(4570), 'proportions': np.int64(3536), 'convince': np.int64(1034), 'galaxy': np.int64(1844), 'illegalimmigration': np.int64(2210), 'newidentity': np.int64(3138), 'flyingsaucer': np.int64(1755), 'denmark': np.int64(1222), 'sin': np.int64(4102), 'royalty': np.int64(3846), 'raywinstone': np.int64(3631), 'continuing': np.int64(1024), 'threats': np.int64(4517), 'closer': np.int64(917), 'installment': np.int64(2279), 'track': np.int64(4581), 'access': np.int64(115), 'russian': np.int64(3864), 'planning': np.int64(3399), 'strike': np.int64(4308), 'ends': np.int64(1504), 'severe': np.int64(4030), 'bombing': np.int64(582), 'immortal': np.int64(2222), 'hopes': np.int64(2146), 'beliefs': np.int64(497), 'imagination': np.int64(2215), 'nightmare': np.int64(3158), 'alecbaldwin': np.int64(207), 'judelaw': np.int64(2470), 'dick': np.int64(1279), 'loses': np.int64(2718), 'handle': np.int64(2002), 'pretty': np.int64(3489), 'enjoy': np.int64(1515), 'second': np.int64(3964), 'thoughts': np.int64(4509), 'innocent': np.int64(2268), 'couple': np.int64(1061), 'hears': np.int64(2054), 'boss': np.int64(593), 'company': np.int64(978), 'desperation': np.int64(1248), 'robber': np.int64(3792), 'suburbia': np.int64(4334), 'humiliation': np.int64(2179), 'unemployment': np.int64(4688), 'téaleoni': np.int64(4665), 'nathan': np.int64(3094), 'japanese': np.int64(2360), 'learning': np.int64(2622), 'respect': np.int64(3723), 'open': np.int64(3215), 'trade': np.int64(4585), 'warcrimes': np.int64(4837), 'swordplay': np.int64(4405), 'general': np.int64(1870), 'mercenary': np.int64(2912), 'lossofhusband': np.int64(2725), 'slaughter': np.int64(4131), 'alcoholic': np.int64(205), 'moses': np.int64(3027), 'setting': np.int64(4026), 'slaves': np.int64(4134), 'terrifying': np.int64(4473), 'deadly': np.int64(1177), 'bible': np.int64(526), 'johnturturro': np.int64(2444), 'bitter': np.int64(550), 'rivals': np.int64(3786), 'thrill': np.int64(4518), 'iowa': np.int64(2319), 'farm': np.int64(1659), 'spacemission': np.int64(4193), 'leonardnimoy': np.int64(2638), 'genetically': np.int64(1874), 'nerdy': np.int64(3128), 'student': np.int64(4321), 'amazing': np.int64(235), 'thanksgiving': np.int64(4490), 'willemdafoe': np.int64(4899), 'thrilling': np.int64(4520), 'chapter': np.int64(801), 'races': np.int64(3593), 'favorite': np.int64(1673), 'sport': np.int64(4221), 'pair': np.int64(3272), 'hundreds': np.int64(2181), 'wild': np.int64(4896), 'wifehusbandrelationship': np.int64(4895), 'mothersonrelationship': np.int64(3033), 'mythical': np.int64(3079), 'artificial': np.int64(353), 'jessicabiel': np.int64(2401), 'gritty': np.int64(1962), 'alternate': np.int64(228), '1985': np.int64(50), 'glory': np.int64(1911), 'masked': np.int64(2848), 'brutally': np.int64(658), 'investigation': np.int64(2311), 'reunited': np.int64(3746), 'doing': np.int64(1343), 'grave': np.int64(1944), 'massmurder': np.int64(2854), 'retirement': np.int64(3737), 'soviet': np.int64(4189), 'billycrudup': np.int64(540), 'carlagugino': np.int64(734), 'franchise': np.int64(1799), 'detectives': np.int64(1259), 'martin': np.int64(2838), 'roger': np.int64(3816), 'mobster': np.int64(2995), 'sing': np.int64(4103), 'slave': np.int64(4132), 'leo': np.int64(2636), 'smart': np.int64(4144), 'rookie': np.int64(3832), 'melgibson': np.int64(2898), 'dannyglover': np.int64(1149), 'joepesci': np.int64(2427), 'richarddonner': np.int64(3760), 'genetics': np.int64(1875), 'researcher': np.int64(3716), 'tragic': np.int64(4591), 'laboratory': np.int64(2579), 'transform': np.int64(4599), 'raging': np.int64(3605), 'angry': np.int64(273), 'california': np.int64(687), 'gun': np.int64(1981), 'mutation': np.int64(3072), 'psychology': np.int64(3552), 'mirror': np.int64(2970), 'phone': np.int64(3364), 'jenniferconnelly': np.int64(2385), 'anglee': np.int64(272), 'framed': np.int64(1797), 'presidential': np.int64(3485), 'contend': np.int64(1020), 'missile': np.int64(2978), 'surveillance': np.int64(4382), 'depths': np.int64(1232), 'business': np.int64(676), 'underwater': np.int64(4685), 'buddy': np.int64(662), 'stevezahn': np.int64(4279), 'ross': np.int64(3839), 'collect': np.int64(941), 'mentor': np.int64(2909), 'unleash': np.int64(4703), 'donaldsutherland': np.int64(1351), 'ii': np.int64(2205), 'brooklyn': np.int64(644), 'transformed': np.int64(4601), 'intends': np.int64(2288), 'device': np.int64(1268), 'nazis': np.int64(3108), 'nazigermany': np.int64(3107), 'perioddrama': np.int64(3347), 'greed': np.int64(1949), 'oil': np.int64(3204), 'heiress': np.int64(2067), 'notorious': np.int64(3169), 'submarine': np.int64(4332), 'supply': np.int64(4368), 'hanging': np.int64(2007), 'royal': np.int64(3845), 'commitment': np.int64(972), 'pursuit': np.int64(3570), 'devoted': np.int64(1270), 'surgeon': np.int64(4375), 'paulbettany': np.int64(3322), 'birth': np.int64(544), 'gather': np.int64(1865), 'fangvamp': np.int64(1651), 'worse': np.int64(4957), 'shaken': np.int64(4044), 'elijahwood': np.int64(1456), 'robinwilliams': np.int64(3806), 'rage': np.int64(3603), 'fugitive': np.int64(1831), 'virginia': np.int64(4797), 'edwardnorton': np.int64(1443), 'timroth': np.int64(4539), 'bone': np.int64(585), 'nice': np.int64(3149), 'lucky': np.int64(2756), 'sophie': np.int64(4176), 'cannibal': np.int64(708), 'rebeccahall': np.int64(3645), 'glass': np.int64(1908), 'rape': np.int64(3620), 'frontier': np.int64(1827), 'nativeamerican': np.int64(3099), 'violence': np.int64(4794), 'basedontrueevents': np.int64(460), 'winning': np.int64(4916), '500': np.int64(95), 'underdog': np.int64(4682), 'fast': np.int64(1664), 'paulgiamatti': np.int64(3323), 'winds': np.int64(4912), 'dirt': np.int64(1300), 'courageous': np.int64(1064), 'waiting': np.int64(4818), 'play': np.int64(3403), 'nevada': np.int64(3132), 'lasvegas': np.int64(2599), 'private': np.int64(3505), 'wind': np.int64(4910), 'bourne': np.int64(600), 'reporter': np.int64(3707), 'simon': np.int64(4097), 'operation': np.int64(3219), 'project': np.int64(3522), 'newspaper': np.int64(3144), 'efforts': np.int64(1445), 'prosecution': np.int64(3537), 'falseidentity': np.int64(1641), 'revelation': np.int64(3752), 'shootout': np.int64(4071), 'footchase': np.int64(1770), 'flashback': np.int64(1742), 'mattdamon': np.int64(2866), 'juliastiles': np.int64(2477), 'lazy': np.int64(2614), 'chosen': np.int64(842), 'slacker': np.int64(4129), 'won': np.int64(4935), 'easy': np.int64(1429), 'turtle': np.int64(4648), 'inner': np.int64(2266), 'ant': np.int64(291), 'obstacles': np.int64(3185), 'paulrudd': np.int64(3325), 'michaeldouglas': np.int64(2932), 'safe': np.int64(3876), 'annual': np.int64(288), 'embarking': np.int64(1472), 'victor': np.int64(4774), 'rebellion': np.int64(3647), 'competition': np.int64(981), 'television': np.int64(4457), 'uprising': np.int64(4728), 'femaleprotagonist': np.int64(1692), 'winner': np.int64(4915), 'confident': np.int64(997), 'promptly': np.int64(3532), 'relocated': np.int64(3690), 'manages': np.int64(2796), 'accidental': np.int64(117), 'lot': np.int64(2731), 'lifetime': np.int64(2666), 'stevemartin': np.int64(4273), 'ray': np.int64(3628), 'divorced': np.int64(1332), 'perfect': np.int64(3339), 'ex': np.int64(1575), 'drop': np.int64(1385), 'teenage': np.int64(4447), 'rare': np.int64(3624), 'weekend': np.int64(4870), 'touches': np.int64(4567), 'posttraumaticstressdisorder': np.int64(3453), 'newjersey': np.int64(3139), 'dakotafanning': np.int64(1130), 'cops': np.int64(1043), 'miami': np.int64(2927), 'narcotics': np.int64(3088), 'cars': np.int64(743), 'drug': np.int64(1387), 'cuba': np.int64(1109), 'playboy': np.int64(3404), 'secretly': np.int64(3971), 'sexy': np.int64(4040), 'mexicanstandoff': np.int64(2924), 'gunfight': np.int64(1982), 'gangster': np.int64(1852), 'interrogation': np.int64(2295), 'carchase': np.int64(722), 'druglord': np.int64(1391), 'actionhero': np.int64(129), 'martinlawrence': np.int64(2840), 'lover': np.int64(2744), 'tough': np.int64(4569), 'cat': np.int64(754), 'antoniobanderas': np.int64(301), 'salmahayek': np.int64(3885), 'zachgalifianakis': np.int64(4989), 'loyalty': np.int64(2752), 'tested': np.int64(4484), 'skills': np.int64(4125), 'experience': np.int64(1596), 'operative': np.int64(3220), 'innocence': np.int64(2267), 'serve': np.int64(4017), 'doubt': np.int64(1359), 'question': np.int64(3582), 'coldwar': np.int64(933), 'phillipnoyce': np.int64(3362), 'visions': np.int64(4803), 'loyal': np.int64(2751), 'thrust': np.int64(4524), 'carrying': np.int64(742), 'suspects': np.int64(4395), 'stealing': np.int64(4258), 'priceless': np.int64(3494), 'bumbling': np.int64(670), 'thompson': np.int64(4507), 'ahead': np.int64(188), 'fortune': np.int64(1789), 'convict': np.int64(1032), 'northern': np.int64(3168), 'aristocrat': np.int64(334), 'inherits': np.int64(2261), 'ranch': np.int64(3615), 'stock': np.int64(4281), 'cattle': np.int64(764), 'missionary': np.int64(2982), 'thousand': np.int64(4510), 'ready': np.int64(3635), 'lies': np.int64(2659), 'recover': np.int64(3665), 'orphaned': np.int64(3239), 'shower': np.int64(4077), 'comet': np.int64(961), 'prehistoric': np.int64(3472), '2000': np.int64(70), 'meaning': np.int64(2884), 'date': np.int64(1156), 'fish': np.int64(1734), 'mayor': np.int64(2878), 'rain': np.int64(3608), 'willferrell': np.int64(4900), 'potter': np.int64(3456), 'lived': np.int64(2687), 'birthday': np.int64(545), 'newfound': np.int64(3137), 'kindly': np.int64(2545), 'deaths': np.int64(1189), 'blame': np.int64(557), 'christmasparty': np.int64(861), 'halloween': np.int64(1997), 'chriscolumbus': np.int64(845), 'recently': np.int64(3656), 'undead': np.int64(4678), 'officers': np.int64(3201), 'policeoperation': np.int64(3428), 'kevinbacon': np.int64(2516), 'caribbean': np.int64(731), 'heads': np.int64(2049), 'rival': np.int64(3784), 'port': np.int64(3441), 'governor': np.int64(1932), 'kidnapped': np.int64(2528), 'simple': np.int64(4100), 'marriageproposal': np.int64(2826), 'skeleton': np.int64(4122), 'geoffreyrush': np.int64(1878), 'famed': np.int64(1644), 'involving': np.int64(2318), 'christianity': np.int64(855), 'monk': np.int64(3006), 'secretsociety': np.int64(3976), 'jewel': np.int64(2407), 'fit': np.int64(1739), 'law': np.int64(2608), 'bird': np.int64(543), 'audition': np.int64(401), 'jesseeisenberg': np.int64(2398), 'lesliemann': np.int64(2642), 'gifted': np.int64(1897), 'superheroes': np.int64(4358), 'anti': np.int64(297), 'col': np.int64(931), 'william': np.int64(4901), 'jean': np.int64(2376), 'scheme': np.int64(3926), 'patrickstewart': np.int64(3318), 'opposite': np.int64(3223), 'mia': np.int64(2926), 'broke': np.int64(641), 'custody': np.int64(1123), 'authorities': np.int64(408), 'backed': np.int64(425), 'corner': np.int64(1045), 'gain': np.int64(1843), 'freedom': np.int64(1815), 'brazil': np.int64(614), 'fbi': np.int64(1674), 'escapefromprison': np.int64(1546), 'carcrash': np.int64(723), 'policechase': np.int64(3425), 'large': np.int64(2592), 'conscience': np.int64(1009), 'advantage': np.int64(159), 'lose': np.int64(2716), 'hell': np.int64(2075), 'battling': np.int64(471), 'demons': np.int64(1220), 'beasts': np.int64(477), 'survive': np.int64(4384), 'accepts': np.int64(114), 'construction': np.int64(1016), 'douglas': np.int64(1362), 'chip': np.int64(834), 'brain': np.int64(609), 'reality': np.int64(3637), 'falselyaccused': np.int64(1642), 'doublelife': np.int64(1358), 'telepathy': np.int64(4456), '1990': np.int64(55), 'sharonstone': np.int64(4056), 'arab': np.int64(322), 'iraq': np.int64(2323), 'johnmctiernan': np.int64(2438), 'aaron': np.int64(100), 'experiences': np.int64(1598), 'previous': np.int64(3491), 'jason': np.int64(2362), 'recruit': np.int64(3667), 'freeze': np.int64(1817), 'homicidal': np.int64(2131), 'poison': np.int64(3421), 'dynamic': np.int64(1416), 'donnell': np.int64(1353), 'joelschumacher': np.int64(2426), 'creature': np.int64(1087), 'steal': np.int64(4257), 'lou': np.int64(2733), 'newlove': np.int64(3140), 'hall': np.int64(1995), 'trapped': np.int64(4607), 'start': np.int64(4248), 'tornado': np.int64(4560), 'hurricane': np.int64(2189), 'evacuation': np.int64(1561), 'climate': np.int64(908), 'spain': np.int64(4197), 'unleashing': np.int64(4705), 'accept': np.int64(112), 'helicopter': np.int64(2074), 'skyscraper': np.int64(4128), 'thandienewton': np.int64(4488), '1991': np.int64(57), 'weather': np.int64(4865), 'combined': np.int64(954), 'fishing': np.int64(1736), 'boat': np.int64(571), 'minute': np.int64(2967), 'details': np.int64(1257), 'dianelane': np.int64(1277), 'screen': np.int64(3944), 'surfer': np.int64(4374), 'resurrection': np.int64(3734), 'jessicaalba': np.int64(2400), 'pacific': np.int64(3261), 'johnny': np.int64(2439), 'soul': np.int64(4181), 'parts': np.int64(3299), 'getting': np.int64(1889), 'offers': np.int64(3198), 'release': np.int64(3684), 'mephisto': np.int64(2910), 'religionandsupernatural': np.int64(3688), 'devil': np.int64(1269), 'stunts': np.int64(4329), 'flame': np.int64(1741), 'evamendes': np.int64(1562), 'wesbentley': np.int64(4875), 'angels': np.int64(270), 'charged': np.int64(805), 'missing': np.int64(2979), 'members': np.int64(2901), 'witness': np.int64(4925), 'protection': np.int64(3542), 'ladies': np.int64(2580), 'responsible': np.int64(3728), 'robbery': np.int64(3794), 'drewbarrymore': np.int64(1376), 'lucyliu': np.int64(2758), 'corners': np.int64(1046), 'android': np.int64(263), 'creation': np.int64(1085), 'guypearce': np.int64(1989), 'stuart': np.int64(4319), 'happily': np.int64(2015), 'east': np.int64(1428), 'store': np.int64(4291), 'michaelj': np.int64(2934), 'fox': np.int64(1796), 'classes': np.int64(896), 'wealthy': np.int64(4861), 'secretary': np.int64(3967), 'hard': np.int64(2020), 'immigration': np.int64(2221), 'laws': np.int64(2611), 'lifestyle': np.int64(2665), 'matt': np.int64(2865), 'damon': np.int64(1133), 'jodiefoster': np.int64(2422), 'bounty': np.int64(598), 'hunters': np.int64(2187), 'champion': np.int64(791), 'used': np.int64(4737), 'forbidden': np.int64(1771), 'enforcement': np.int64(1508), 'controversial': np.int64(1029), 'loving': np.int64(2749), 'detroit': np.int64(1263), 'injured': np.int64(2263), 'michaelkeaton': np.int64(2935), 'brilliant': np.int64(631), 'driver': np.int64(1382), 'inspired': np.int64(2276), 'lossofbrother': np.int64(2721), 'emilehirsch': np.int64(1479), 'christinaricci': np.int64(858), 'cut': np.int64(1125), 'bit': np.int64(548), 'lisa': np.int64(2681), 'baseball': np.int64(453), 'playing': np.int64(3408), 'lovetriangle': np.int64(2748), 'athlete': np.int64(383), 'brooks': np.int64(645), 'glamorous': np.int64(1907), 'amid': np.int64(246), 'airport': np.int64(197), 'garage': np.int64(1855), 'jamesmangold': np.int64(2351), 'decades': np.int64(1193), 'stranger': np.int64(4298), 'arrival': np.int64(344), 'chain': np.int64(786), 'knows': np.int64(2561), 'morganfreeman': np.int64(3019), 'clone': np.int64(913), 'wars': np.int64(4848), 'noble': np.int64(3163), 'jedi': np.int64(2378), 'wide': np.int64(4889), 'republic': np.int64(3709), 'twin': np.int64(4654), 'grow': np.int64(1966), 'haydenchristensen': np.int64(2044), 'renegade': np.int64(3700), 'count': np.int64(1055), 'thousands': np.int64(4511), 'threaten': np.int64(4513), 'break': np.int64(616), 'senator': np.int64(3996), 'movement': np.int64(3042), 'lasergun': np.int64(2597), 'sullivan': np.int64(4352), 'earn': np.int64(1425), 'tests': np.int64(4485), 'emotional': np.int64(1488), 'limits': np.int64(2673), 'changing': np.int64(797), 'worldwari': np.int64(4954), 'famkejanssen': np.int64(1648), 'strong': np.int64(4314), 'destroyed': np.int64(1254), 'stoneage': np.int64(4285), 'olympic': np.int64(3210), 'marry': np.int64(2830), 'rid': np.int64(3765), 'process': np.int64(3512), 'olympicgames': np.int64(3211), 'roman': np.int64(3821), 'ho': np.int64(2117), 'indians': np.int64(2245), 'language': np.int64(2590), 'code': np.int64(927), 'sisters': np.int64(4114), 'eric': np.int64(1537), 'sara': np.int64(3903), 'grim': np.int64(1960), 'turtles': np.int64(4649), 'cameraman': np.int64(694), 'unravel': np.int64(4714), 'diabolical': np.int64(1271), 'van': np.int64(4750), 'newyorkcity': np.int64(3147), 'ryan': np.int64(3867), 'medical': np.int64(2887), 'veteran': np.int64(4769), 'command': np.int64(968), 'routine': np.int64(3842), 'completely': np.int64(984), 'link': np.int64(2679), 'sandrabullock': np.int64(3897), 'edharris': np.int64(1438), 'sleepy': np.int64(4138), 'recent': np.int64(3655), 'worst': np.int64(4958), 'townspeople': np.int64(4576), 'smalltown': np.int64(4143), 'motel': np.int64(3029), 'cabin': np.int64(682), 'henchmen': np.int64(2080), 'facing': np.int64(1624), 'similar': np.int64(4096), 'intentions': np.int64(2291), 'abilities': np.int64(105), 'telekinesis': np.int64(4455), 'katemara': np.int64(2496), 'natural': np.int64(3100), 'desperately': np.int64(1247), 'securityguard': np.int64(3980), 'earthquake': np.int64(1427), 'deranged': np.int64(1234), 'media': np.int64(2886), 'secretintelligenceservice': np.int64(3969), 'tvstation': np.int64(4653), 'southernusa': np.int64(4188), 'lossofson': np.int64(2729), 'lossoffamily': np.int64(2723), 'gore': np.int64(1924), 'reunites': np.int64(3747), 'thieves': np.int64(4497), 'huge': np.int64(2170), 'amsterdam': np.int64(250), 'hot': np.int64(2160), 'catherinezeta': np.int64(761), 'stevensoderbergh': np.int64(4277), 'bliss': np.int64(559), 'stuck': np.int64(4320), 'paid': np.int64(3267), 'mix': np.int64(2992), 'wicked': np.int64(4888), 'hitman': np.int64(2115), 'marriagecrisis': np.int64(2825), 'vincevaughn': np.int64(4791), 'tear': np.int64(4441), 'dystopicfuture': np.int64(1421), 'youngadult': np.int64(4983), 'filmmaker': np.int64(1718), 'howard': np.int64(2169), 'hughes': np.int64(2171), 'magnate': np.int64(2778), 'obsessive': np.int64(3184), 'disorder': np.int64(1321), 'ladykiller': np.int64(2582), 'biography': np.int64(542), 'womanizer': np.int64(4932), 'congress': np.int64(1002), 'tiny': np.int64(4540), 'journalist': np.int64(2465), 'seth': np.int64(4022), 'largest': np.int64(2594), 'happy': np.int64(2017), 'tom': np.int64(4547), 'dies': np.int64(1286), 'employee': np.int64(1493), 'realizing': np.int64(3640), 'fighters': np.int64(1708), 'vandalism': np.int64(4751), 'nightclub': np.int64(3157), 'knife': np.int64(2555), 'trap': np.int64(4606), 'frank': np.int64(1803), 'miller': np.int64(2957), 'graphic': np.int64(1943), 'style': np.int64(4330), '300': np.int64(91), 'saga': np.int64(3878), 'fresh': np.int64(1819), 'greek': np.int64(1951), 'pits': np.int64(3388), 'commander': np.int64(969), 'basedongraphicnovel': np.int64(456), 'handtohandcombat': np.int64(2005), 'lenaheadey': np.int64(2635), 'blue': np.int64(567), 'fact': np.int64(1625), 'greedy': np.int64(1950), 'possession': np.int64(3449), 'heaven': np.int64(2062), 'determined': np.int64(1262), 'karate': np.int64(2488), 'sky': np.int64(4127), 'match': np.int64(2859), 'wits': np.int64(4927), 'cow': np.int64(1073), 'near': np.int64(3111), 'rebuild': np.int64(3651), 'spell': np.int64(4209), 'kidnaps': np.int64(2531), 'patrick': np.int64(3317), 'grace': np.int64(1933), 'diamond': np.int64(1273), 'card': np.int64(724), 'mcclane': np.int64(2881), 'calls': np.int64(689), 'hacker': np.int64(1992), 'internet': np.int64(2294), 'terrorists': np.int64(4478), 'intent': np.int64(2290), 'fistfight': np.int64(1738), 'cellphone': np.int64(776), 'justinlong': np.int64(2485), 'timothyolyphant': np.int64(4537), 'creator': np.int64(1086), 'destination': np.int64(1250), 'bet': np.int64(518), 'circle': np.int64(878), '1964': np.int64(27), 'pro': np.int64(3509), 'victory': np.int64(4776), 'scene': np.int64(3924), 'clay': np.int64(902), 'bold': np.int64(579), 'entirely': np.int64(1529), 'african': np.int64(171), 'americans': np.int64(245), 'belief': np.int64(496), 'ali': np.int64(210), 'transporter': np.int64(4605), 'jonvoight': np.int64(2456), 'sally': np.int64(3884), 'walks': np.int64(4825), 'door': np.int64(1355), 'introduces': np.int64(2302), 'fun': np.int64(1834), 'hand': np.int64(2000), 'boredom': np.int64(590), 'stepfather': np.int64(4262), 'suspecting': np.int64(4394), 'chicago': np.int64(823), 'bloody': np.int64(565), 'religious': np.int64(3689), 'jeremyirons': np.int64(2391), 'misadventures': np.int64(2971), 'searching': np.int64(3957), 'waitress': np.int64(4819), 'fulfill': np.int64(1832), 'music': np.int64(3064), 'voodoo': np.int64(4812), 'kiss': np.int64(2551), 'mark': np.int64(2817), 'fierce': np.int64(1704), 'survived': np.int64(4385), 'draw': np.int64(1369), 'isolation': np.int64(2331), 'resident': np.int64(3717), 'facility': np.int64(1623), 'environment': np.int64(1531), 'location': np.int64(2695), 'cloning': np.int64(914), 'porter': np.int64(3443), 'architect': np.int64(327), 'ellie': np.int64(1465), 'longtime': np.int64(2707), 'griffin': np.int64(1959), 'direction': np.int64(1298), 'anniversary': np.int64(287), 'warrenbeatty': np.int64(4845), 'dianekeaton': np.int64(1275), 'pals': np.int64(3275), 'accomplish': np.int64(120), 'blackmail': np.int64(554), 'gladiator': np.int64(1906), 'audiences': np.int64(400), 'laid': np.int64(2583), 'fame': np.int64(1643), 'slavery': np.int64(4133), 'joaquinphoenix': np.int64(2419), 'noir': np.int64(3164), 'ignoring': np.int64(2204), 'attacks': np.int64(387), 'banker': np.int64(441), 'poker': np.int64(3422), 'financial': np.int64(1726), 'market': np.int64(2819), 'italy': np.int64(2336), 'torture': np.int64(4562), 'landing': np.int64(2586), 'gorilla': np.int64(1926), 'sarah': np.int64(3904), 'targeted': np.int64(4425), 'send': np.int64(3997), 'shotgun': np.int64(4075), 'depression': np.int64(1231), 'era': np.int64(1536), 'bank': np.int64(440), 'charm': np.int64(812), 'elusive': np.int64(1468), 'number': np.int64(3175), 'melvin': np.int64(2899), 'bringing': np.int64(633), 'cinema': np.int64(877), 'employer': np.int64(1495), 'lucas': np.int64(2754), 'heroin': np.int64(2085), 'harlem': np.int64(2021), 'south': np.int64(4185), 'asia': np.int64(362), 'drugs': np.int64(1392), 'blackpeople': np.int64(555), 'drugtraffic': np.int64(1394), 'drugsmuggle': np.int64(1393), 'ambition': np.int64(237), 'dishonesty': np.int64(1318), 'denzelwashington': np.int64(1228), 'florida': np.int64(1751), '1994': np.int64(60), 'jamieleecurtis': np.int64(2357), 'hijack': np.int64(2097), 'ransom': np.int64(3619), 'walter': np.int64(4830), 'tonyscott': np.int64(4556), 'pam': np.int64(3276), 'greg': np.int64(1953), 'wound': np.int64(4960), 'cash': np.int64(750), 'dad': np.int64(1128), 'male': np.int64(2789), 'descends': np.int64(1238), 'twins': np.int64(4656), 'skeptical': np.int64(4123), 'robertdeniro': np.int64(3797), 'nypd': np.int64(3180), 'christopher': np.int64(863), 'don': np.int64(1349), 'allen': np.int64(218), 'terry': np.int64(4480), 'background': np.int64(426), 'focus': np.int64(1756), 'closed': np.int64(916), 'stumble': np.int64(4326), 'case': np.int64(748), 'touch': np.int64(4566), 'narration': np.int64(3089), 'buddycomedy': np.int64(663), 'marshall': np.int64(2834), 'selling': np.int64(3993), 'guard': np.int64(1972), 'marshal': np.int64(2833), '1996': np.int64(62), 'jamescaan': np.int64(2349), 'german': np.int64(1884), 'hunter': np.int64(2186), 'brutal': np.int64(656), 'mississippi': np.int64(2984), 'plantation': np.int64(3402), 'bountyhunter': np.int64(599), 'racism': np.int64(3600), 'dentist': np.int64(1227), 'quentintarantino': np.int64(3580), 'festival': np.int64(1693), 'cruel': np.int64(1104), 'rescued': np.int64(3712), 'judge': np.int64(2471), 'religion': np.int64(3687), 'demimoore': np.int64(1216), 'centered': np.int64(779), 'tell': np.int64(4458), 'room': np.int64(3833), 'summer': np.int64(4353), 'palace': np.int64(3274), 'church': np.int64(873), 'territory': np.int64(4474), 'airplanecrash': np.int64(196), 'ensemblecast': np.int64(1519), 'sylvesterstallone': np.int64(4406), 'jasonstatham': np.int64(2368), 'simonwest': np.int64(4099), 'revolutionary': np.int64(3755), 'independence': np.int64(2238), 'dianekruger': np.int64(1276), 'egg': np.int64(1446), 'ira': np.int64(2320), 'carol': np.int64(737), 'crown': np.int64(1103), 'lying': np.int64(2764), 'catherinekeener': np.int64(760), 'amandaseyfried': np.int64(233), 'tourist': np.int64(4572), 'venice': np.int64(4764), 'eye': np.int64(1618), 'anthony': np.int64(293), 'written': np.int64(4970), 'directed': np.int64(1297), 'hotel': np.int64(2161), 'undercoveragent': np.int64(4680), 'body': np.int64(577), 'bride': np.int64(626), 'christine': np.int64(859), 'sex': np.int64(4033), 'pastor': np.int64(3311), 'nudity': np.int64(3174), 'christ': np.int64(852), 'priest': np.int64(3496), 'gabrielbyrne': np.int64(1842), 'recovering': np.int64(3666), 'value': np.int64(4747), 'rescuing': np.int64(3714), 'journalism': np.int64(2464), 'smuggling': np.int64(4148), 'stockbroker': np.int64(4282), 'refuses': np.int64(3675), 'mob': np.int64(2994), 'sexuality': np.int64(4037), 'humor': np.int64(2180), 'jonahhill': np.int64(2450), 'caused': np.int64(767), 'courtroom': np.int64(1069), 'accident': np.int64(116), 'edward': np.int64(1441), 'millionaire': np.int64(2959), 'ward': np.int64(4838), 'psychologist': np.int64(3551), 'disfigurement': np.int64(1315), 'non': np.int64(3165), 'satire': np.int64(3910), 'deniserichards': np.int64(1221), 'stories': np.int64(4292), '19th': np.int64(66), 'distant': np.int64(1323), 'impact': np.int64(2224), 'award': np.int64(417), 'david': np.int64(1162), 'mitchell': np.int64(2991), 'jimbroadbent': np.int64(2412), 'barn': np.int64(447), 'owl': np.int64(3254), 'st': np.int64(4229), 'soldiers': np.int64(4163), 'created': np.int64(1083), 'books': np.int64(587), 'mild': np.int64(2953), 'mannered': np.int64(2804), 'eager': np.int64(1422), 'say': np.int64(3917), 'tail': np.int64(4409), 'basketball': np.int64(466), 'benjaminbratt': np.int64(510), 'ago': np.int64(185), 'tormented': np.int64(4558), 'souls': np.int64(4182), 'presence': np.int64(3481), 'mercenaries': np.int64(2911), 'johnhurt': np.int64(2434), 'teaches': np.int64(4437), 'littleboy': np.int64(2685), 'research': np.int64(3715), 'assistant': np.int64(377), 'redneck': np.int64(3672), 'alienlife': np.int64(214), 'barney': np.int64(448), 'faster': np.int64(1665), 'extreme': np.int64(1615), 'sports': np.int64(4222), 'point': np.int64(3420), 'fbiagent': np.int64(1675), 'aspiring': np.int64(369), 'raising': np.int64(3611), 'baby': np.int64(422), 'whale': np.int64(4881), 'size': np.int64(4120), 'surviving': np.int64(4387), 'pushed': np.int64(3572), 'unthinkable': np.int64(4721), 'despair': np.int64(1245), 'morality': np.int64(3018), 'searches': np.int64(3956), 'mate': np.int64(2860), 'cillianmurphy': np.int64(876), 'sell': np.int64(3992), 'club': np.int64(918), 'helping': np.int64(2078), 'bar': np.int64(444), 'rosariodawson': np.int64(3836), 'chief': np.int64(825), 'roy': np.int64(3844), 'site': np.int64(4116), 'chemical': np.int64(821), 'elaborate': np.int64(1451), 'gregkinnear': np.int64(1954), 'brown': np.int64(653), 'corporation': np.int64(1048), 'dialogue': np.int64(1272), 'independentfilm': np.int64(2240), 'unfortunately': np.int64(4693), 'psychotic': np.int64(3554), 'kingpin': np.int64(2548), 'earlier': np.int64(1423), 'area': np.int64(329), 'irish': np.int64(2326), 'immigrant': np.int64(2219), 'pig': np.int64(3380), 'danielday': np.int64(1144), 'refuge': np.int64(3674), 'posing': np.int64(3445), 'cody': np.int64(928), 'idol': np.int64(2202), 'animated': np.int64(278), 'mockumentary': np.int64(2996), 'produced': np.int64(3514), 'pictures': np.int64(3375), 'stars': np.int64(4247), 'jeff': np.int64(2379), 'jon': np.int64(2449), 'zooeydeschanel': np.int64(4999), 'ask': np.int64(364), 'housewife': np.int64(2167), 'matthewbroderick': np.int64(2871), 'bettemidler': np.int64(522), 'frankoz': np.int64(1806), 'kidnap': np.int64(2527), 'shot': np.int64(4074), 'heavy': np.int64(2064), 'intense': np.int64(2289), 'ground': np.int64(1963), 'prisonersofwar': np.int64(3504), 'election': np.int64(1453), 'carolina': np.int64(738), 'politics': np.int64(3431), 'politician': np.int64(3430), 'jayroach': np.int64(2372), 'taxi': np.int64(4431), 'given': np.int64(1903), 'charlotte': np.int64(811), 'married': np.int64(2827), 'samantha': np.int64(3887), 'vacation': np.int64(4741), 'remember': np.int64(3698), 'decided': np.int64(1199), 'sarahjessicaparker': np.int64(3905), 'failed': np.int64(1629), 'el': np.int64(1450), 'surprise': np.int64(4377), 'worth': np.int64(4959), 'diego': np.int64(1285), 'johnleguizamo': np.int64(2436), 'unexpectedly': np.int64(4690), 'passes': np.int64(3306), 'ella': np.int64(1462), 'stepmother': np.int64(4268), 'daughters': np.int64(1160), 'meeting': np.int64(2892), '14': np.int64(7), 'watches': np.int64(4853), 'grief': np.int64(1957), 'desire': np.int64(1242), 'tree': np.int64(4618), 'serialkiller': np.int64(4012), 'corpse': np.int64(1049), 'grieving': np.int64(1958), 'susansarandon': np.int64(4391), 'office': np.int64(3199), 'aquarium': np.int64(321), 'friendly': np.int64(1822), 'vegetarian': np.int64(4761), 'sharks': np.int64(4055), 'dude': np.int64(1401), 'hungry': np.int64(2183), 'suspicion': np.int64(4397), 'brutality': np.int64(657), 'viggomortensen': np.int64(4784), 'fort': np.int64(1788), 'guide': np.int64(1977), 'local': np.int64(2692), 'witches': np.int64(4924), 'manner': np.int64(2803), 'carry': np.int64(741), 'couldn': np.int64(1054), 'juliannemoore': np.int64(2475), 'moonlights': np.int64(3015), 'goal': np.int64(1912), 'alan': np.int64(201), 'amanda': np.int64(231), 'infamous': np.int64(2249), 'breaks': np.int64(619), 'loose': np.int64(2711), 'host': np.int64(2156), 'samneill': np.int64(3890), 'williamh': np.int64(4902), 'macy': np.int64(2768), 'alzheimer': np.int64(230), 'slowly': np.int64(4140), 'feels': np.int64(1686), 'especially': np.int64(1550), 'singlemother': np.int64(4109), 'nicknolte': np.int64(3152), 'prisoners': np.int64(3503), 'moscow': np.int64(3026), 'methods': np.int64(2922), 'russia': np.int64(3863), 'mexican': np.int64(2923), 'santa': np.int64(3901), 'bob': np.int64(572), 'insurance': np.int64(2285), 'raise': np.int64(3609), 'receives': np.int64(3653), 'costume': np.int64(1053), 'nelson': np.int64(3123), 'adams': np.int64(141), 'murderous': np.int64(3060), 'difficult': np.int64(1289), 'rennyharlin': np.int64(3701), 'needed': np.int64(3116), 'loganlerman': np.int64(2697), 'arrived': np.int64(346), 'assassinate': np.int64(371), 'typical': np.int64(4663), 'cowboy': np.int64(1075), 'camp': np.int64(697), 'collector': np.int64(943), 'al': np.int64(199), 'truly': np.int64(4636), 'runaway': np.int64(3853), 'toxic': np.int64(4577), 'pennsylvania': np.int64(3336), 'million': np.int64(2958), 'hong': np.int64(2136), 'meet': np.int64(2891), 'embassy': np.int64(1474), 'complicated': np.int64(986), 'boys': np.int64(606), 'threatening': np.int64(4515), 'situations': np.int64(4119), 'claire': np.int64(890), 'hearing': np.int64(2053), 'seeing': np.int64(3983), 'wonders': np.int64(4937), 'telling': np.int64(4459), 'hauntedhouse': np.int64(2038), 'haunting': np.int64(2039), 'flint': np.int64(1748), 'food': np.int64(1766), 'billhader': np.int64(532), 'annafaris': np.int64(281), 'times': np.int64(4535), 'motor': np.int64(3036), 'neighbors': np.int64(3121), 'insanity': np.int64(2270), 'magazine': np.int64(2773), 'photo': np.int64(3365), 'manager': np.int64(2795), 'photographer': np.int64(3366), 'tv': np.int64(4650), 'dylan': np.int64(1415), 'natalie': np.int64(3092), 'traffic': np.int64(4588), 'differences': np.int64(1287), 'martial': np.int64(2836), 'boston': np.int64(594), 'mafia': np.int64(2772), 'infiltrate': np.int64(2254), 'undercovercop': np.int64(4681), 'jacknicholson': np.int64(2342), 'imperial': np.int64(2225), 'li': np.int64(2654), 'luck': np.int64(2755), 'vietnam': np.int64(4780), 'budget': np.int64(664), 'studio': np.int64(4324), 'executive': np.int64(1582), 'filming': np.int64(1717), 'advice': np.int64(163), 'actors': np.int64(135), 'scenes': np.int64(3925), 'production': np.int64(3517), 'gangs': np.int64(1851), 'moviestar': np.int64(3046), 'disgraced': np.int64(1316), 'patriarch': np.int64(3316), 'niece': np.int64(3155), '40': np.int64(93), 'punk': np.int64(3561), 'demands': np.int64(1215), 'coffin': np.int64(929), 'rachelmcadams': np.int64(3596), 'accused': np.int64(123), 'survives': np.int64(4386), 'board': np.int64(568), 'jasonlee': np.int64(2365), 'wounded': np.int64(4961), 'nazi': np.int64(3106), 'native': np.int64(3098), 'germany': np.int64(1886), 'create': np.int64(1082), 'shadow': np.int64(4041), 'unfold': np.int64(4691), 'player': np.int64(3406), 'tasked': np.int64(4428), 'colonel': np.int64(947), 'israeli': np.int64(2333), 'runs': np.int64(3856), 'll': np.int64(2690), 'israel': np.int64(2332), 'mossad': np.int64(3028), 'adamsandler': np.int64(142), 'dennisdugan': np.int64(1224), 'michellemonaghan': np.int64(2939), 'adopted': np.int64(151), 'gradually': np.int64(1935), 'circumstances': np.int64(880), 'prostitute': np.int64(3538), 'lossofmother': np.int64(2727), 'extraterrestrialtechnology': np.int64(1614), 'pinocchio': np.int64(3384), 'workaholic': np.int64(4946), 'mansion': np.int64(2805), 'arrive': np.int64(345), 'butler': np.int64(680), 'decisions': np.int64(1202), 'jameswoods': np.int64(2354), 'sebastian': np.int64(3963), 'invisible': np.int64(2314), 'formula': np.int64(1787), 'eventually': np.int64(1568), 'drives': np.int64(1383), 'results': np.int64(3733), 'elisabethshue': np.int64(1458), 'seanpenn': np.int64(3954), 'box': np.int64(601), 'magician': np.int64(2777), 'woodyharrelson': np.int64(4942), 'emma': np.int64(1484), 'gas': np.int64(1863), 'bishop': np.int64(547), 'prisoner': np.int64(3502), 'robertredford': np.int64(3801), 'garysinise': np.int64(1862), 'timrobbins': np.int64(4538), 'briandepalma': np.int64(625), 'linda': np.int64(2675), 'word': np.int64(4943), 'female': np.int64(1689), 'richard': np.int64(3759), 'product': np.int64(3516), 'andrew': np.int64(262), 'youngest': np.int64(4985), 'perform': np.int64(3340), 'la': np.int64(2576), 'emergency': np.int64(1477), 'amy': np.int64(252), 'frankie': np.int64(1805), 'buy': np.int64(681), 'conan': np.int64(991), 'massacre': np.int64(2852), 'pain': np.int64(3268), 'released': np.int64(3685), 'hills': np.int64(2102), 'repayment': np.int64(3704), '1982': np.int64(47), 'comeback': np.int64(956), 'socially': np.int64(4156), 'poor': np.int64(3433), 'netherlands': np.int64(3129), 'sdailylife': np.int64(3947), 'doll': np.int64(1344), 'chriscooper': np.int64(846), 'sign': np.int64(4091), 'divorce': np.int64(1331), 'extremely': np.int64(1616), 'truck': np.int64(4633), 'helenhunt': np.int64(2072), 'billpaxton': np.int64(536), 'caryelwes': np.int64(747), 'chuck': np.int64(872), 'kelly': np.int64(2510), 'heading': np.int64(2047), 'suicideattempt': np.int64(4348), 'loneliness': np.int64(2702), 'mates': np.int64(2861), 'song': np.int64(4171), 'crush': np.int64(1107), 'singing': np.int64(4106), 'brittanymurphy': np.int64(639), 'documents': np.int64(1338), 'seaside': np.int64(3959), 'marie': np.int64(2813), 'sniper': np.int64(4150), '24': np.int64(88), 'parole': np.int64(3293), 'charismatic': np.int64(806), 'las': np.int64(2596), 'vegas': np.int64(4760), 'risks': np.int64(3782), 'tess': np.int64(4482), 'stripclub': np.int64(4311), 'double': np.int64(1357), 'millajovovich': np.int64(2956), 'paulw': np.int64(3326), 'anderson': np.int64(260), 'dracula': np.int64(1364), 'resort': np.int64(3721), 'aged': np.int64(177), 'frankenstein': np.int64(1804), 'shocked': np.int64(4066), 'chaotic': np.int64(800), 'fall': np.int64(1636), 'view': np.int64(4783), 'jamesmarsden': np.int64(2352), 'verafarmiga': np.int64(4765), 'outrageous': np.int64(3248), 'oddball': np.int64(3193), 'puppy': np.int64(3563), 'scheming': np.int64(3927), 'luxury': np.int64(2763), 'staff': np.int64(4231), 'workers': np.int64(4949), 'amateur': np.int64(234), 'petty': np.int64(3357), 'crook': np.int64(1098), 'apartment': np.int64(305), 'caseyaffleck': np.int64(749), 'kate': np.int64(2492), 'britain': np.int64(636), 'multiplestorylines': np.int64(3052), 'dean': np.int64(1184), 'victim': np.int64(4772), 'theft': np.int64(4493), 'national': np.int64(3096), 'genehackman': np.int64(1869), 'jake': np.int64(2346), 'merylstreep': np.int64(2916), 'criminals': np.int64(1094), 'vows': np.int64(4814), 'asking': np.int64(366), 'season': np.int64(3960), 'rely': np.int64(3693), 'elliot': np.int64(1466), 'bunny': np.int64(671), 'ashtonkutcher': np.int64(361), 'divided': np.int64(1329), 'personality': np.int64(3351), 'germans': np.int64(1885), 'disappears': np.int64(1306), 'affections': np.int64(168), 'brazilian': np.int64(615), 'seannwilliamscott': np.int64(3953), 'fictional': np.int64(1700), 'character': np.int64(802), 'spoof': np.int64(4220), '1993': np.int64(59), 'romantic': np.int64(3823), 'maid': np.int64(2779), 'sistersisterrelationship': np.int64(4115), 'brothel': np.int64(647), 'jail': np.int64(2345), 'sentence': np.int64(4004), 'sean': np.int64(3950), 'tokyo': np.int64(4545), 'low': np.int64(2750), 'section': np.int64(3977), 'carjourney': np.int64(732), 'receive': np.int64(3652), 'arthur': np.int64(351), 'misfit': np.int64(2974), 'billnighy': np.int64(535), 'agenda': np.int64(180), 'lifeanddeath': np.int64(2663), 'loveatfirstsight': np.int64(2739), 'eliaskoteas': np.int64(1455), 'semi': np.int64(3995), 'feel': np.int64(1683), 'broadway': np.int64(640), 'surgery': np.int64(4376), '1979': np.int64(43), 'spends': np.int64(4212), 'seven': np.int64(4029), 'launches': np.int64(2603), 'juliaroberts': np.int64(2476), 'canadian': np.int64(703), 'rockstar': np.int64(3814), 'rapidly': np.int64(3621), 'resolve': np.int64(3720), 'hilaryswank': np.int64(2100), 'specialist': np.int64(4204), 'seriously': np.int64(4015), 'separate': np.int64(4007), 'knowing': np.int64(2558), 'freddieprinzejr': np.int64(1811), 'sarahmichellegellar': np.int64(3906), 'ma': np.int64(2765), 'possibility': np.int64(3450), 'stopping': np.int64(4290), 'urban': np.int64(4733), 'deliver': np.int64(1211), 'brand': np.int64(610), 'ranking': np.int64(3618), 'popular': np.int64(3436), 'extremeviolence': np.int64(1617), 'psychic': np.int64(3549), 'remote': np.int64(3699), 'allows': np.int64(223), 'forward': np.int64(1791), 'complications': np.int64(987), 'arise': np.int64(333), 'christopherwalken': np.int64(868), '1950s': np.int64(20), 'romero': np.int64(3827), 'stephen': np.int64(4263), 'tales': np.int64(4416), 'anthology': np.int64(292), 'canine': np.int64(707), 'christinaapplegate': np.int64(857), 'instantly': np.int64(2281), 'bloodthirsty': np.int64(564), 'adolescence': np.int64(149), 'lossofchild': np.int64(2722), 'demon': np.int64(1217), 'pact': np.int64(3265), 'selmablair': np.int64(3994), 'serial': np.int64(4011), 'bay': np.int64(472), 'letters': np.int64(2649), 'built': np.int64(667), 'endless': np.int64(1502), 'plannedmurder': np.int64(3398), 'sci': np.int64(3932), 'lovesickness': np.int64(2747), 'prayer': np.int64(3464), 'jenniferaniston': np.int64(2384), 'scout': np.int64(3942), 'blade': np.int64(556), 'crack': np.int64(1077), 'suspect': np.int64(4392), 'event': np.int64(1566), 'prepared': np.int64(3477), 'sharp': np.int64(4057), 'drunken': np.int64(1397), 'watching': np.int64(4854), 'hallucination': np.int64(1998), 'thailand': np.int64(4487), 'stu': np.int64(4318), 'bachelor': np.int64(423), 'planned': np.int64(3397), 'bangkok': np.int64(438), 'bradleycooper': np.int64(607), 'accepted': np.int64(113), 'crooked': np.int64(1099), 'building': np.int64(666), 'christmastree': np.int64(862), '1992': np.int64(58), 'dannydevito': np.int64(1148), 'suburban': np.int64(4333), 'lonely': np.int64(2703), 'older': np.int64(3206), 'watch': np.int64(4852), 'social': np.int64(4154), 'adopts': np.int64(153), 'funny': np.int64(1837), 'scared': np.int64(3921), 'dinner': np.int64(1293), 'table': np.int64(4407), 'hatches': np.int64(2033), 'happen': np.int64(2011), 'rock': np.int64(3811), 'robertduvall': np.int64(3799), 'coach': np.int64(924), 'asked': np.int64(365), 'inmates': np.int64(2265), 'football': np.int64(1769), 'americanfootball': np.int64(244), 'chrisrock': np.int64(851), 'tropical': np.int64(4629), 'paradise': np.int64(3280), 'deserted': np.int64(1240), 'ups': np.int64(4729), 'adam': np.int64(140), 'grew': np.int64(1956), 'ones': np.int64(3212), 'lessons': np.int64(2645), 'kevinjames': np.int64(2519), 'analyst': np.int64(255), 'dancing': np.int64(1138), 'industry': np.int64(2247), 'patient': np.int64(3314), 'insane': np.int64(2269), 'families': np.int64(1645), 'bust': np.int64(678), 'pride': np.int64(3495), 'dysfunctionalfamily': np.int64(1419), 'better': np.int64(523), 'rageandhate': np.int64(3604), 'joanallen': np.int64(2417), 'nephew': np.int64(3126), 'fantasies': np.int64(1653), 'actual': np.int64(138), 'imaginary': np.int64(2214), 'adamshankman': np.int64(143), 'jenniferjasonleigh': np.int64(2387), 'schoolteacher': np.int64(3931), 'beach': np.int64(473), 'beautifulwoman': np.int64(481), 'bag': np.int64(429), 'hijacking': np.int64(2098), 'jerry': np.int64(2392), 'rachel': np.int64(3595), 'strangers': np.int64(4299), 'happening': np.int64(2013), 'twinbrother': np.int64(4655), 'ruby': np.int64(3847), 'blind': np.int64(558), 'sweetheart': np.int64(4400), 'invites': np.int64(2315), 'luke': np.int64(2759), 'isolated': np.int64(2330), 'hill': np.int64(2101), 'guests': np.int64(1976), 'trauma': np.int64(4609), 'insomnia': np.int64(2273), 'loner': np.int64(2704), 'michael': np.int64(2928), 'france': np.int64(1798), 'stadium': np.int64(4230), 'murderhunt': np.int64(3058), 'jeanreno': np.int64(2377), 'went': np.int64(4873), 'evolution': np.int64(1573), 'environmental': np.int64(1532), 'speaking': np.int64(4202), 'ufo': np.int64(4666), 'poweroutage': np.int64(3461), 'kathybates': np.int64(2501), 'taxidriver': np.int64(4432), 'paranoia': np.int64(3283), 'wheelchair': np.int64(4882), '1945': np.int64(18), 'european': np.int64(1559), 'theater': np.int64(4491), 'sergeant': np.int64(4010), 'division': np.int64(1330), 'transfer': np.int64(4598), 'fashion': np.int64(1663), 'editor': np.int64(1439), 'crashes': np.int64(1080), 'ivanreitman': np.int64(2337), 'shut': np.int64(4081), 'danaykroyd': np.int64(1135), 'justintimberlake': np.int64(2486), 'cavalry': np.int64(770), 'teach': np.int64(4434), 'raymond': np.int64(3630), 'incident': np.int64(2232), 'capital': np.int64(712), 'vice': np.int64(4770), 'haunted': np.int64(2037), 'happened': np.int64(2012), 'didn': np.int64(1282), 'questions': np.int64(3583), 'possible': np.int64(3451), 'appear': np.int64(312), 'sight': np.int64(4089), 'cool': np.int64(1039), 'hoping': np.int64(2147), 'jill': np.int64(2410), 'cares': np.int64(728), 'hara': np.int64(2018), 'account': np.int64(121), 'necessary': np.int64(3114), 'enter': np.int64(1523), 'femalenudity': np.int64(1691), 'cruelty': np.int64(1105), 'comfort': np.int64(962), 'county': np.int64(1059), 'mexico': np.int64(2925), 'chris': np.int64(844), 'annie': np.int64(286), 'cubagoodingjr': np.int64(1110), 'sons': np.int64(4174), 'satan': np.int64(3908), 'harveykeitel': np.int64(2031), 'artists': np.int64(357), 'performing': np.int64(3344), 'beings': np.int64(495), 'literature': np.int64(2683), 'terrygilliam': np.int64(4481), 'mean': np.int64(2883), 'films': np.int64(1722), '60s': np.int64(97), 'annettebening': np.int64(285), 'housing': np.int64(2168), 'pregnant': np.int64(3471), 'julie': np.int64(2478), 'elements': np.int64(1454), 'stalking': np.int64(4238), 'affair': np.int64(164), 'murders': np.int64(3061), 'allied': np.int64(220), 'kennedy': np.int64(2512), 'atomicbomb': np.int64(384), 'robbers': np.int64(3793), 'jersey': np.int64(2393), 'kit': np.int64(2552), 'walking': np.int64(4824), 'documentary': np.int64(1337), 'profit': np.int64(3520), 'tyler': np.int64(4660), 'forestwhitaker': np.int64(1780), 'duck': np.int64(1400), 'contract': np.int64(1025), 'escort': np.int64(1549), 'struggling': np.int64(4317), 'week': np.int64(4869), 'shooting': np.int64(4070), 'inspiration': np.int64(2275), 'mistress': np.int64(2989), 'shakespeare': np.int64(4045), 'willpatton': np.int64(4906), 'babe': np.int64(421), 'contest': np.int64(1021), 'vicious': np.int64(4771), 'cursed': np.int64(1122), 'tracking': np.int64(4582), 'astronauts': np.int64(381), 'grandfather': np.int64(1939), 'grandmother': np.int64(1940), 'block': np.int64(560), 'unless': np.int64(4706), 'pay': np.int64(3329), 'success': np.int64(4338), 'helped': np.int64(2077), 'filmed': np.int64(1716), 'sub': np.int64(4331), 'disastrous': np.int64(1308), 'erupts': np.int64(1542), 'hearts': np.int64(2058), 'legacy': np.int64(2630), 'mathematics': np.int64(2863), 'prize': np.int64(3508), 'graduate': np.int64(1936), 'teaching': np.int64(4438), 'breaking': np.int64(618), 'paranoid': np.int64(3284), 'mental': np.int64(2906), 'status': np.int64(4255), 'mathematician': np.int64(2862), 'schizophrenia': np.int64(3928), 'delusion': np.int64(1213), 'wait': np.int64(4817), 'title': np.int64(4541), 'lossofparents': np.int64(2728), 'boyfriend': np.int64(605), 'missingperson': np.int64(2980), 'psychopath': np.int64(3553), 'advertising': np.int64(162), 'katieholmes': np.int64(2503), 'alpacino': np.int64(226), 'dirty': np.int64(1301), 'shady': np.int64(4042), 'monica': np.int64(3005), 'motherdaughterrelationship': np.int64(3031), 'epidemic': np.int64(1534), 'transforms': np.int64(4603), 'roadmovie': np.int64(3789), 'piperperabo': np.int64(3385), 'terrier': np.int64(4471), 'kevinhart': np.int64(2518), 'cunning': np.int64(1116), 'bite': np.int64(549), 'seanconnery': np.int64(3952), 'league': np.int64(2620), 'fallinginlove': np.int64(1639), 'july': np.int64(2479), 'cities': np.int64(882), 'fails': np.int64(1631), 'plant': np.int64(3401), 'malcolm': np.int64(2788), 'revealing': np.int64(3750), 'document': np.int64(1336), 'behavior': np.int64(494), 'activist': np.int64(131), 'hippie': np.int64(2105), 'miracle': np.int64(2969), 'cliveowen': np.int64(911), 'academy': np.int64(111), 'wesley': np.int64(4877), 'missionofmurder': np.int64(2983), '100': np.int64(3), 'starting': np.int64(4250), 'situation': np.int64(4118), 'henry': np.int64(2081), 'quirky': np.int64(3587), 'total': np.int64(4564), 'short': np.int64(4073), 'term': np.int64(4465), 'tracy': np.int64(4584), 'tvshow': np.int64(4652), 'performance': np.int64(3341), 'basedonstagemusical': np.int64(459), 'xenophobia': np.int64(4974), 'wwii': np.int64(4972), 'convinced': np.int64(1035), 'troops': np.int64(4628), 'somebody': np.int64(4168), 'exorcism': np.int64(1589), 'demonicpossession': np.int64(1219), 'performances': np.int64(3342), 'reward': np.int64(3757), 'vault': np.int64(4758), 'mariabello': np.int64(2812), 'lounge': np.int64(2736), 'simply': np.int64(4101), '16': np.int64(9), 'quick': np.int64(3584), 'thinking': np.int64(4501), 'austin': np.int64(404), 'highest': np.int64(2091), 'base': np.int64(452), 'climbing': np.int64(909), 'afghanistan': np.int64(169), 'dollar': np.int64(1345), 'aspirations': np.int64(368), 'secretlove': np.int64(3970), 'robinson': np.int64(3805), 'pop': np.int64(3434), 'singers': np.int64(4105), 'early': np.int64(1424), 'drugaddiction': np.int64(1389), 'oscaraward': np.int64(3241), 'singer': np.int64(4104), 'extramaritalaffair': np.int64(1611), 'musicband': np.int64(3066), 'umathurman': np.int64(4671), 'garygray': np.int64(1860), 'hotelroom': np.int64(2162), 'seal': np.int64(3949), 'follow': np.int64(1762), 'antoinefuqua': np.int64(300), 'katherineheigl': np.int64(2499), 'upset': np.int64(4730), 'union': np.int64(4695), 'kgb': np.int64(2524), 'terms': np.int64(4468), 'upperclass': np.int64(4727), 'relationshipproblems': np.int64(3681), 'bed': np.int64(485), 'teens': np.int64(4454), 'frightening': np.int64(1825), 'barrylevinson': np.int64(450), 'timeless': np.int64(4534), 'passionate': np.int64(3309), 'period': np.int64(3346), 'richardgere': np.int64(3762), 'widowed': np.int64(4891), 'deathpenalty': np.int64(1188), 'chowyun': np.int64(843), 'fat': np.int64(1666), 'rampage': np.int64(3614), 'mickeyrourke': np.int64(2942), 'accountant': np.int64(122), 'beat': np.int64(478), 'guilt': np.int64(1978), 'homeinvasion': np.int64(2126), 'ford': np.int64(1777), 'broker': np.int64(643), 'actor': np.int64(134), 'instructor': np.int64(2284), 'solve': np.int64(4167), 'rapmusic': np.int64(3622), 'todd': np.int64(4544), 'dumped': np.int64(1404), 'eliminate': np.int64(1457), 'attractive': np.int64(398), 'soundtrack': np.int64(4183), 'horrifying': np.int64(2151), 'repressed': np.int64(3708), 'coma': np.int64(952), 'pulls': np.int64(3559), 'parallelworld': np.int64(3282), 'answer': np.int64(289), 'price': np.int64(3493), 'robinwright': np.int64(3807), 'abusive': np.int64(110), 'alternative': np.int64(229), 'strategy': np.int64(4300), 'asylum': np.int64(382), 'homicide': np.int64(2132), 'witnesses': np.int64(4926), 'boxing': np.int64(603), 'policeofficer': np.int64(3427), 'volatile': np.int64(4808), 'visited': np.int64(4805), 'finn': np.int64(1731), 'cemetery': np.int64(777), 'yacht': np.int64(4975), 'bahamas': np.int64(430), 'scubadiving': np.int64(3946), 'katehudson': np.int64(2495), 'delivers': np.int64(1212), 'stunning': np.int64(4328), 'comedian': np.int64(957), 'cancer': np.int64(704), 'jennifergarner': np.int64(2386), 'cal': np.int64(686), 'stripes': np.int64(4312), 'shake': np.int64(4043), 'records': np.int64(3664), 'plays': np.int64(3409), 'matter': np.int64(2868), 'cheating': np.int64(818), 'lake': np.int64(2584), 'quarantine': np.int64(3576), 'alaska': np.int64(202), 'mistaken': np.int64(2985), 'talented': np.int64(4415), 'jimmy': np.int64(2415), 'promoter': np.int64(3529), 'chilling': np.int64(831), 'possessed': np.int64(3447), 'fields': np.int64(1703), 'rural': np.int64(3858), 'tension': np.int64(4464), 'liberation': np.int64(2657), 'cup': np.int64(1117), 'seasoned': np.int64(3961), 'paulnewman': np.int64(3324), 'writes': np.int64(4968), 'maggie': np.int64(2774), 'flees': np.int64(1744), 'moment': np.int64(3002), 'garrymarshall': np.int64(1858), 'junkie': np.int64(2482), 'attitude': np.int64(394), 'exactly': np.int64(1577), 'bikini': np.int64(531), 'sandy': np.int64(3898), 'rich': np.int64(3758), 'occupied': np.int64(3188), 'jewish': np.int64(2408), 'guerrilla': np.int64(1974), 'jew': np.int64(2406), 'supposed': np.int64(4370), 'did': np.int64(1281), 'cost': np.int64(1052), 'granny': np.int64(1941), 'capt': np.int64(714), 'steven': np.int64(4274), 'various': np.int64(4755), 'wealth': np.int64(4860), 'looks': np.int64(2710), 'gorgeous': np.int64(1925), 'sofia': np.int64(4159), 'pool': np.int64(3432), 'swimmingpool': np.int64(4401), 'arctic': np.int64(328), 'hunting': np.int64(2188), 'predator': np.int64(3468), 'stardom': np.int64(4244), '25': np.int64(89), 'sparks': np.int64(4200), 'fought': np.int64(1793), 'vietnamveteran': np.int64(4781), 'vietnamwar': np.int64(4782), 'bigger': np.int64(528), 'angelabassett': np.int64(267), 'picard': np.int64(3371), 'jonathanfrakes': np.int64(2452), 'expected': np.int64(1593), 'unlike': np.int64(4707), 'picture': np.int64(3374), 'albert': np.int64(203), 'joey': np.int64(2428), 'sold': np.int64(4161), 'execution': np.int64(1581), 'artistic': np.int64(356), 'owners': np.int64(3257), 'nuclearmissile': np.int64(3173), '1989': np.int64(54), 'economy': np.int64(1433), 'preparing': np.int64(3479), 'muslim': np.int64(3069), 'countryside': np.int64(1058), 'unrequitedlove': np.int64(4715), 'firm': np.int64(1733), 'winonaryder': np.int64(4917), 'hustler': np.int64(2191), 'mistakenidentity': np.int64(2986), 'response': np.int64(3726), 'murderer': np.int64(3057), 'member': np.int64(2900), 'catch': np.int64(757), 'arnold': np.int64(338), 'dealers': np.int64(1181), 'stephenrea': np.int64(4267), 'strip': np.int64(4310), 'senior': np.int64(4000), 'giving': np.int64(1905), 'nearby': np.int64(3112), 'unwitting': np.int64(4723), 'hart': np.int64(2028), 'trial': np.int64(4620), 'starring': np.int64(4246), 'rebecca': np.int64(3644), 'opening': np.int64(3216), 'jonathan': np.int64(2451), 'moves': np.int64(3043), 'instant': np.int64(2280), 'superstar': np.int64(4366), 'wrestling': np.int64(4963), 'chrisklein': np.int64(849), 'victims': np.int64(4773), 'freeman': np.int64(1816), 'hoodlum': np.int64(2140), 'christianslater': np.int64(856), 'bobbyfarrelly': np.int64(574), 'dorothy': np.int64(1356), 'wakes': np.int64(4821), 'pierre': np.int64(3379), 'prominent': np.int64(3524), 'novelist': np.int64(3171), 'yard': np.int64(4977), 'seductive': np.int64(3982), 'malenudity': np.int64(2792), 'proof': np.int64(3533), 'bars': np.int64(451), 'jimcaviezel': np.int64(2414), 'lust': np.int64(2762), 'overthrow': np.int64(3252), 'tyrannical': np.int64(4664), 'desires': np.int64(1243), 'succeeds': np.int64(4337), 'seattle': np.int64(3962), 'ravaged': np.int64(3626), 'midst': np.int64(2947), 'decision': np.int64(1201), 'approaching': np.int64(319), 'confronted': np.int64(1000), 'kid': np.int64(2526), 'marlonbrando': np.int64(2822), 'ballet': np.int64(434), 'jasonsegel': np.int64(2367), 'wesleysnipes': np.int64(4878), 'jenniferlopez': np.int64(2389), 'ted': np.int64(4445), 'historical': np.int64(2110), 'cult': np.int64(1111), 'historicalfigure': np.int64(2111), 'aren': np.int64(330), 'fred': np.int64(1810), 'signs': np.int64(4092), 'approach': np.int64(317), 'expectations': np.int64(1592), '60': np.int64(96), 'interview': np.int64(2298), 'coast': np.int64(925), 'miles': np.int64(2954), 'beating': np.int64(479), 'guest': np.int64(1975), 'attending': np.int64(391), 'spiral': np.int64(4216), 'fiancee': np.int64(1696), 'vampires': np.int64(4749), 'distrust': np.int64(1325), 'secretorganization': np.int64(3973), 'davidduchovny': np.int64(1164), 'ancientrome': np.int64(258), 'colinfirth': np.int64(937), '1940s': np.int64(16), 'revolves': np.int64(3756), 'illegal': np.int64(2209), 'hear': np.int64(2052), 'promotion': np.int64(3530), 'marisatomei': np.int64(2816), 'maine': np.int64(2782), 'overcome': np.int64(3250), 'thomasjane': np.int64(4506), 'focuses': np.int64(1758), 'pursues': np.int64(3568), 'critical': np.int64(1096), 'generations': np.int64(1872), 'speech': np.int64(4207), '1971': np.int64(35), 'heroism': np.int64(2086), '200': np.int64(69), 'calvin': np.int64(690), 'gig': np.int64(1898), 'independent': np.int64(2239), 'megryan': np.int64(2896), 'dale': np.int64(1131), 'jealous': np.int64(2374), 'competitive': np.int64(982), 'constant': np.int64(1014), 'becominganadult': np.int64(484), 'spanish': np.int64(4198), 'troubled': np.int64(4631), 'foil': np.int64(1759), 'wallet': np.int64(4827), 'list': np.int64(2682), 'highway': np.int64(2096), 'hitchhiker': np.int64(2114), 'chronicle': np.int64(870), 'louis': np.int64(2734), 'runner': np.int64(3854), 'elderly': np.int64(1452), 'clinteastwood': np.int64(910), 'utah': np.int64(4740), 'reconcile': np.int64(3660), 'midlifecrisis': np.int64(2946), 'suppressedpast': np.int64(4371), 'emilymortimer': np.int64(1482), 'katherine': np.int64(2498), 'conservative': np.int64(1011), 'sexual': np.int64(4035), 'attends': np.int64(392), 'sexualobsession': np.int64(4039), 'eroticism': np.int64(1541), 'marijuana': np.int64(2814), 'illegalprostitution': np.int64(2211), 'changes': np.int64(796), 'candidate': np.int64(705), 'guardian': np.int64(1973), 'angel': np.int64(266), 'rosebyrne': np.int64(3838), 'jess': np.int64(2395), 'wing': np.int64(4914), 'seduction': np.int64(3981), 'conman': np.int64(1003), 'dating': np.int64(1158), 'kriskristofferson': np.int64(2565), 'mid': np.int64(2943), 'colorado': np.int64(950), '1984': np.int64(49), 'presidentialelection': np.int64(3486), 'scandal': np.int64(3920), 'bush': np.int64(675), 'emmathompson': np.int64(1486), 'eating': np.int64(1430), 'outbreak': np.int64(3244), 'terminal': np.int64(4466), 'audience': np.int64(399), 'darkcomedy': np.int64(1153), 'hires': np.int64(2108), 'davidmorse': np.int64(1167), 'boring': np.int64(591), 'daxshepard': np.int64(1170), 'salesman': np.int64(3883), 'therapy': np.int64(4495), 'catches': np.int64(758), 'clubs': np.int64(919), 'claims': np.int64(889), 'fans': np.int64(1652), 'players': np.int64(3407), 'trainer': np.int64(4595), 'spend': np.int64(4210), 'andiemacdowell': np.int64(261), 'celebrity': np.int64(775), 'lottery': np.int64(2732), 'drawing': np.int64(1370), 'numbers': np.int64(3176), 'rough': np.int64(3840), 'oliver': np.int64(3207), 'childabuse': np.int64(827), 'hire': np.int64(2106), 'robertrodriguez': np.int64(3802), 'dutch': np.int64(1409), 'kristinscottthomas': np.int64(2569), 'surrounding': np.int64(4381), 'inspiring': np.int64(2278), 'snowstorm': np.int64(4152), '70s': np.int64(99), 'villains': np.int64(4789), 'featuring': np.int64(1681), 'gunslinger': np.int64(1985), 'gambling': np.int64(1846), 'cartel': np.int64(744), 'chased': np.int64(815), 'adopt': np.int64(150), 'wade': np.int64(4816), 'widower': np.int64(4892), 'robreiner': np.int64(3810), 'hockey': np.int64(2118), 'guru': np.int64(1986), 'bollywood': np.int64(580), 'rob': np.int64(3791), 'elvis': np.int64(1470), 'convention': np.int64(1030), 'courteneycox': np.int64(1068), 'shelter': np.int64(4061), 'wyoming': np.int64(4973), 'roll': np.int64(3820), 'loosely': np.int64(2712), 'said': np.int64(3879), 'plenty': np.int64(3412), 'row': np.int64(3843), 'gentle': np.int64(1877), 'possesses': np.int64(3448), 'mentallydisabled': np.int64(2908), 'healing': np.int64(2050), 'roadtrip': np.int64(3790), 'sanity': np.int64(3900), 'chicken': np.int64(824), 'spotlight': np.int64(4224), 'campbell': np.int64(699), 'georgia': np.int64(1882), 'joseph': np.int64(2458), 'hour': np.int64(2163), 'color': np.int64(949), 'opera': np.int64(3218), 'lauralinney': np.int64(2605), 'jobs': np.int64(2421), 'inspires': np.int64(2277), 'dea': np.int64(1175), 'bankrobbery': np.int64(443), 'dogs': np.int64(1342), 'crossed': np.int64(1101), 'metal': np.int64(2920), 'caper': np.int64(711), 'dedicated': np.int64(1203), 'legal': np.int64(2631), 'hughgrant': np.int64(2172), 'neurotic': np.int64(3131), 'march': np.int64(2809), 'woodyallen': np.int64(4941), 'couples': np.int64(1062), 'descend': np.int64(1237), 'problems': np.int64(3511), 'cole': np.int64(934), 'desolate': np.int64(1244), 'maze': np.int64(2879), 'brien': np.int64(629), 'confused': np.int64(1001), 'pleasure': np.int64(3411), 'paced': np.int64(3260), 'gunman': np.int64(1983), 'helenmirren': np.int64(2073), 'replace': np.int64(3705), 'nicholas': np.int64(3150), 'presents': np.int64(3483), 'montana': np.int64(3011), 'peasant': np.int64(3333), 'exact': np.int64(1576), 'baltimore': np.int64(435), 'report': np.int64(3706), 'bargained': np.int64(446), 'sharkattack': np.int64(4054), 'interviews': np.int64(2299), 'footage': np.int64(1768), 'popstar': np.int64(3435), 'concert': np.int64(992), 'kills': np.int64(2541), 'terminalillness': np.int64(4467), 'musician': np.int64(3067), 'mixed': np.int64(2993), 'anthonyanderson': np.int64(294), 'parallel': np.int64(3281), 'everybody': np.int64(1569), 'moore': np.int64(3016), 'betty': np.int64(524), 'uptight': np.int64(4732), 'ken': np.int64(2511), 'informant': np.int64(2256), 'constantly': np.int64(1015), 'puppet': np.int64(3562), 'raid': np.int64(3606), 'ceremony': np.int64(784), 'occult': np.int64(3187), 'willing': np.int64(4905), 'clients': np.int64(907), 'rightandjustice': np.int64(3772), 'speak': np.int64(4201), 'ritual': np.int64(3783), 'stopmotion': np.int64(4288), 'mcphee': np.int64(2882), 'deputy': np.int64(1233), 'network': np.int64(3130), 'raw': np.int64(3627), 'warren': np.int64(4844), 'chauffeur': np.int64(816), 'clark': np.int64(893), 'jenniferlovehewitt': np.int64(2390), 'passenger': np.int64(3304), 'blow': np.int64(566), 'navyseal': np.int64(3105), 'stevenseagal': np.int64(4276), 'davido': np.int64(1168), 'minister': np.int64(2965), 'ripley': np.int64(3777), 'rifle': np.int64(3770), 'gary': np.int64(1859), 'suspicious': np.int64(4398), 'girls': np.int64(1902), 'evanrachelwood': np.int64(1563), 'mistakenly': np.int64(2987), 'elizabethbanks': np.int64(1461), 'pageant': np.int64(3266), 'stan': np.int64(4239), 'cohen': np.int64(930), 'guns': np.int64(1984), 'ryangosling': np.int64(3868), 'haroldramis': np.int64(2024), 'apartheid': np.int64(304), 'believing': np.int64(501), 'historic': np.int64(2109), 'southafrica': np.int64(4186), 'poverty': np.int64(3457), 'serves': np.int64(4018), 'upcoming': np.int64(4725), 'engaged': np.int64(1509), 'fired': np.int64(1732), 'jeffdaniels': np.int64(2381), 'donaldpetrie': np.int64(1350), 'kiefersutherland': np.int64(2534), '1950': np.int64(19), 'beverly': np.int64(525), 'tycoon': np.int64(4659), 'inheritance': np.int64(2259), 'joelcoen': np.int64(2425), 'failing': np.int64(1630), 'disturbing': np.int64(1327), 'gruesome': np.int64(1971), 'naturally': np.int64(3101), 'inherited': np.int64(2260), 'stress': np.int64(4305), 'therapist': np.int64(4494), 'dirtycop': np.int64(1302), 'autism': np.int64(410), 'homeless': np.int64(2128), 'article': np.int64(352), 'golf': np.int64(1919), 'comingofage': np.int64(966), 'garfield': np.int64(1857), 'sidekick': np.int64(4086), 'alike': np.int64(216), 'record': np.int64(3662), 'icecube': np.int64(2196), 'sailor': np.int64(3881), 'disappeared': np.int64(1305), 'patients': np.int64(3315), 'pregnancyandbirth': np.int64(3470), 'voice': np.int64(4807), 'actress': np.int64(136), 'pornography': np.int64(3440), '17': np.int64(10), 'warlock': np.int64(4842), 'williams': np.int64(4903), 'occurrences': np.int64(3189), 'bedroom': np.int64(486), 'clerk': np.int64(905), 'camera': np.int64(693), 'contain': np.int64(1018), 'acts': np.int64(137), 'rayliotta': np.int64(3629), 'heartbreak': np.int64(2056), 'appointed': np.int64(315), '30': np.int64(90), 'stephenherek': np.int64(4266), 'saves': np.int64(3914), 'author': np.int64(407), 'flirt': np.int64(1749), '1988': np.int64(53), 'johnkrasinski': np.int64(2435), 'biker': np.int64(530), 'italian': np.int64(2335), 'handed': np.int64(2001), 'deceased': np.int64(1195), 'hometown': np.int64(2130), 'johnnyknoxville': np.int64(2441), 'bully': np.int64(668), 'songwriter': np.int64(4173), 'songs': np.int64(4172), '1978': np.int64(42), 'client': np.int64(906), 'fail': np.int64(1628), 'relationships': np.int64(3682), 'rules': np.int64(3851), 'thomashadenchurch': np.int64(4505), 'sick': np.int64(4085), 'prompting': np.int64(3531), 'throw': np.int64(4522), 'jasonbiggs': np.int64(2364), 'alabama': np.int64(200), 'phil': np.int64(3358), 'stripper': np.int64(4313), 'ghosts': np.int64(1892), 'kat': np.int64(2491), 'stretch': np.int64(4306), 'mccall': np.int64(2880), 'ultra': np.int64(4670), 'gangsters': np.int64(1854), 'chloëgracemoretz': np.int64(836), 'fateful': np.int64(1669), 'mistakes': np.int64(2988), 'socialite': np.int64(4155), 'evening': np.int64(1565), 'issues': np.int64(2334), 'stages': np.int64(4233), 'homelessperson': np.int64(2129), 'bus': np.int64(674), 'yakuza': np.int64(4976), 'includes': np.int64(2234), 'diva': np.int64(1328), 'shoot': np.int64(4069), 'heathergraham': np.int64(2060), 'tried': np.int64(4624), 'visits': np.int64(4806), 'motherrole': np.int64(3032), 'warondrugs': np.int64(4843), 'ernest': np.int64(1540), 'breakdown': np.int64(617), 'mere': np.int64(2914), 'drinking': np.int64(1379), 'wang': np.int64(4831), 'demanding': np.int64(1214), 'kurt': np.int64(2573), 'clueless': np.int64(921), 'michaelangarano': np.int64(2929), 'sir': np.int64(4112), 'railroad': np.int64(3607), 'expects': np.int64(1594), 'tomwilkinson': np.int64(4553), 'offer': np.int64(3196), 'bears': np.int64(475), 'neighborhood': np.int64(3120), 'maniac': np.int64(2800), 'maybe': np.int64(2876), 'martha': np.int64(2835), 'vineyard': np.int64(4793), 'walt': np.int64(4829), 'cher': np.int64(822), 'dancer': np.int64(1137), 'freak': np.int64(1809), 'jackie': np.int64(2340), 'michigan': np.int64(2941), '1976': np.int64(40), 'nba': np.int64(3109), 'somewhat': np.int64(4169), 'seas': np.int64(3958), 'reunion': np.int64(3744), 'fan': np.int64(1650), 'patrickwilson': np.int64(3319), 'virgin': np.int64(4796), 'surrealism': np.int64(4380), 'terrorize': np.int64(4479), 'kermit': np.int64(2514), 'hood': np.int64(2139), 'spot': np.int64(4223), 'attraction': np.int64(397), 'official': np.int64(3202), 'privatedetective': np.int64(3506), 'attracted': np.int64(396), 'culture': np.int64(1114), 'boarding': np.int64(569), '1962': np.int64(25), 'pianist': np.int64(3369), 'respective': np.int64(3725), 'confession': np.int64(995), 'andygarcía': np.int64(265), 'francisfordcoppola': np.int64(1802), 'drew': np.int64(1375), 'dollars': np.int64(1346), 'ending': np.int64(1501), 'standing': np.int64(4241), 'molly': np.int64(3000), 'frustrated': np.int64(1829), 'roommate': np.int64(3834), 'mattdillon': np.int64(2867), '1980': np.int64(44), 'lesbian': np.int64(2640), 'louisiana': np.int64(2735), 'manipulation': np.int64(2801), 'bail': np.int64(431), 'influence': np.int64(2255), 'drugdealer': np.int64(1390), 'maria': np.int64(2811), 'christopherlloyd': np.int64(865), '20th': np.int64(87), 'poet': np.int64(3418), 'ryanphillippe': np.int64(3869), 'jessebradford': np.int64(2397), 'killers': np.int64(2539), 'feature': np.int64(1679), 'movies': np.int64(3045), 'fake': np.int64(1635), 'slasher': np.int64(4130), 'ohio': np.int64(3203), 'fword': np.int64(1841), 'argument': np.int64(332), 'valentine': np.int64(4743), 'grade': np.int64(1934), 'seniors': np.int64(4001), 'jesse': np.int64(2396), '1969': np.int64(32), 'keeps': np.int64(2508), 'antics': np.int64(298), 'jaychandrasekhar': np.int64(2371), 'mitch': np.int64(2990), 'bodies': np.int64(576), 'minor': np.int64(2966), 'pimp': np.int64(3383), 'jonathanrhysmeyers': np.int64(2453), 'multiple': np.int64(3051), 'aggressive': np.int64(183), 'medication': np.int64(2888), 'parody': np.int64(3292), 'destined': np.int64(1251), 'doubts': np.int64(1360), 'bennett': np.int64(512), 'gay': np.int64(1867), 'think': np.int64(4500), 'medicine': np.int64(2889), 'deeds': np.int64(1204), 'loveletter': np.int64(2742), 'liar': np.int64(2656), 'pistol': np.int64(3387), 'exposes': np.int64(1609), 'write': np.int64(4966), 'matthew': np.int64(2870), 'highschool': np.int64(2093), 'neiljordan': np.int64(3122), 'celebrate': np.int64(772), 'courtcase': np.int64(1067), 'spikelee': np.int64(4215), 'welcome': np.int64(4872), 'fascinated': np.int64(1662), 'nun': np.int64(3178), 'emily': np.int64(1480), 'billy': np.int64(538), 'yellow': np.int64(4980), 'lindsaylohan': np.int64(2676), 'traumatic': np.int64(4610), 'taste': np.int64(4429), 'hansel': np.int64(2010), 'fi': np.int64(1695), 'passing': np.int64(3307), 'tense': np.int64(4463), 'numerous': np.int64(3177), 'capitalism': np.int64(713), 'americanabroad': np.int64(243), 'virginiamadsen': np.int64(4798), 'occurs': np.int64(3190), 'silent': np.int64(4094), 'illness': np.int64(2212), 'psychiatric': np.int64(3547), 'variety': np.int64(4754), 'hasn': np.int64(2032), 'bonds': np.int64(584), 'virginity': np.int64(4799), 'heather': np.int64(2059), 'adults': np.int64(158), 'masturbation': np.int64(2858), 'insists': np.int64(2272), 'affairs': np.int64(165), 'unpredictable': np.int64(4713), 'foundfootage': np.int64(1794), 'foley': np.int64(1760), 'lovable': np.int64(2737), 'develop': np.int64(1265), 'humananimalrelationship': np.int64(2175), 'respected': np.int64(3724), 'solitary': np.int64(4165), 'dannyboyle': np.int64(1147), 'merciless': np.int64(2913), 'grisly': np.int64(1961), 'roots': np.int64(3835), 'katie': np.int64(2502), 'forms': np.int64(1786), 'il': np.int64(2207), 'exercise': np.int64(1583), 'severely': np.int64(4031), 'guilty': np.int64(1979), 'johncarpenter': np.int64(2431), 'prejudices': np.int64(3474), 'sittingonatoilet': np.int64(4117), 'laxative': np.int64(2613), 'murdering': np.int64(3059), 'cocaine': np.int64(926), 'davidgordongreen': np.int64(1166), 'misguided': np.int64(2976), 'sweet': np.int64(4399), 'convicted': np.int64(1033), 'sale': np.int64(3882), 'model': np.int64(2997), 'prostitution': np.int64(3539), 'chazzpalminteri': np.int64(817), 'online': np.int64(3213), 'approaches': np.int64(318), 'unsuspecting': np.int64(4720), 'derek': np.int64(1235), 'sending': np.int64(3998), 'harold': np.int64(2023), 'rockandroll': np.int64(3812), 'heavymetal': np.int64(2065), 'august': np.int64(402), '1967': np.int64(30), 'arrested': np.int64(343), 'addicted': np.int64(147), 'addiction': np.int64(148), 'indiana': np.int64(2243), 'injury': np.int64(2264), 'queenlatifah': np.int64(3578), 'junior': np.int64(2481), 'driving': np.int64(1384), 'whoopigoldberg': np.int64(4887), 'hypnosis': np.int64(2192), 'marymccormack': np.int64(2846), 'showing': np.int64(4078), 'suicidal': np.int64(4346), 'jazz': np.int64(2373), 'psychological': np.int64(3550), 'shattered': np.int64(4058), 'pursued': np.int64(3567), 'employs': np.int64(1496), 'karen': np.int64(2489), 'entertaining': np.int64(1527), 'initially': np.int64(2262), 'gangsterboss': np.int64(1853), '1965': np.int64(28), 'puberty': np.int64(3555), 'policebrutality': np.int64(3424), 'receiving': np.int64(3654), 'residents': np.int64(3718), 'servant': np.int64(4016), 'stephenfrears': np.int64(4265), 'neal': np.int64(3110), 'womanrelation': np.int64(4933), 'megan': np.int64(2895), '1990s': np.int64(56), '1981': np.int64(46), 'employees': np.int64(1494), 'malefriendship': np.int64(2791), 'controlling': np.int64(1028), 'ethanhawke': np.int64(1557), 'ailing': np.int64(193), 'regime': np.int64(3677), 'comedic': np.int64(958), 'gave': np.int64(1866), 'stephendorff': np.int64(4264), 'scholarship': np.int64(3929), 'reckless': np.int64(3657), 'ugly': np.int64(4667), 'customers': np.int64(1124), 'intertwine': np.int64(2297), '1968': np.int64(31), 'dolphin': np.int64(1347), 'bankrobber': np.int64(442), 'pot': np.int64(3454), 'kidnappers': np.int64(2529), 'kimbasinger': np.int64(2543), 'ellis': np.int64(1467), 'davis': np.int64(1169), 'riot': np.int64(3776), 'protest': np.int64(3543), 'package': np.int64(3263), 'horrible': np.int64(2149), 'involves': np.int64(2317), 'seriesofmurders': np.int64(4014), 'doug': np.int64(1361), 'laura': np.int64(2604), 'jennifer': np.int64(2383), 'ashley': np.int64(359), 'blonde': np.int64(561), 'border': np.int64(588), 'remain': np.int64(3694), 'derekluke': np.int64(1236), 'deaf': np.int64(1178), 'principal': np.int64(3500), 'charliesheen': np.int64(809), 'supermarket': np.int64(4362), 'iranian': np.int64(2322), 'samuel': np.int64(3893), 'stewart': np.int64(4280), 'sexually': np.int64(4038), 'sexualabuse': np.int64(4036), 'photography': np.int64(3367), 'talk': np.int64(4417), 'carnival': np.int64(736), '1940': np.int64(15), 'immigrants': np.int64(2220), 'connected': np.int64(1004), 'competing': np.int64(980), 'studies': np.int64(4323), 'unorthodox': np.int64(4711), 'writing': np.int64(4969), 'poetry': np.int64(3419), 'unsociability': np.int64(4717), 'gusvansant': np.int64(1987), 'drunk': np.int64(1396), 'treatment': np.int64(4617), 'piano': np.int64(3370), 'bobhoskins': np.int64(575), 'girlfriends': np.int64(1901), 'promising': np.int64(3528), 'totally': np.int64(4565), 'figures': np.int64(1712), 'classmate': np.int64(898), 'zacefron': np.int64(4988), 'strict': np.int64(4307), 'ended': np.int64(1500), 'hopelessly': np.int64(2145), 'mrs': np.int64(3049), 'straight': np.int64(4295), 'wildly': np.int64(4898), 'buddies': np.int64(661), 'taylor': np.int64(4433), '1963': np.int64(26), 'unconventional': np.int64(4675), 'ashleyjudd': np.int64(360), 'premonition': np.int64(3475), 'lgbt': np.int64(2653), 'solomon': np.int64(4166), 'pick': np.int64(3372), 'naive': np.int64(3081), 'edwardburns': np.int64(1442), 'dennishopper': np.int64(1225), 'jaredleto': np.int64(2361), 'unemployed': np.int64(4687), 'kim': np.int64(2542), 'hide': np.int64(2088), 'pete': np.int64(3353), 'racial': np.int64(3598), 'rapper': np.int64(3623), 'hip': np.int64(2104), 'hop': np.int64(2142), 'shannynsossamon': np.int64(4047), 'fatal': np.int64(1667), 'tonicollette': np.int64(4554), 'daniel': np.int64(1142), 'pushes': np.int64(3573), 'scam': np.int64(3919), 'thanks': np.int64(4489), '1955': np.int64(21), 'skateboarding': np.int64(4121), 'diner': np.int64(1292), 'campus': np.int64(701), 'carmen': np.int64(735), 'communication': np.int64(975), 'davidarquette': np.int64(1163), 'nevecampbell': np.int64(3133), 'wescraven': np.int64(4876), 'fund': np.int64(1835), 'month': np.int64(3012), 'julia': np.int64(2473), 'colleagues': np.int64(940), 'circuit': np.int64(879), 'countrymusic': np.int64(1057), 'camcorder': np.int64(691), 'dates': np.int64(1157), 'orleans': np.int64(3236), 'nanny': np.int64(3086), 'dysfunctional': np.int64(1418), 'nialong': np.int64(3148), 'highschoolsports': np.int64(2094), 'mutual': np.int64(3074), 'francis': np.int64(1800), 'maya': np.int64(2875), '1987': np.int64(52), 'motley': np.int64(3035), 'valuable': np.int64(4746), '1986': np.int64(51), 'painful': np.int64(3269), 'stalked': np.int64(4236), 'ax': np.int64(420), 'hannah': np.int64(2009), 'nightstand': np.int64(3161), 'malefemalerelationship': np.int64(2790), 'basedonplay': np.int64(458), 'ambulance': np.int64(239), 'extra': np.int64(1610), 'morgue': np.int64(3020), 'sidney': np.int64(4088), 'maskedkiller': np.int64(2849), '1960': np.int64(23), 'composer': np.int64(988), 'forget': np.int64(1782), 'particularly': np.int64(3294), 'deathoffather': np.int64(1187), 'aids': np.int64(192), 'africanamerican': np.int64(172), 'rights': np.int64(3773), 'shares': np.int64(4051), '1970': np.int64(33), 'nancy': np.int64(3085), '1973': np.int64(37), 'commercial': np.int64(970), 'zoe': np.int64(4992), 'round': np.int64(3841), 'vincent': np.int64(4790), 'jasonschwartzman': np.int64(2366), 'ronnie': np.int64(3830), 'rachaelleighcook': np.int64(3594), 'followed': np.int64(1763), 'pawns': np.int64(3328), 'sharing': np.int64(4052), 'yuppie': np.int64(4987), 'cope': np.int64(1042), 'shyness': np.int64(4083), 'teencomedy': np.int64(4452), 'brief': np.int64(628), 'adapted': np.int64(145), 'du': np.int64(1398), 'agree': np.int64(186), 'claudevandamme': np.int64(901), 'sights': np.int64(4090), 'prank': np.int64(3463), 'experienced': np.int64(1597), 'screenwriter': np.int64(3945), 'guitar': np.int64(1980), '1983': np.int64(48), 'celebrated': np.int64(773), 'caretaker': np.int64(729), 'performer': np.int64(3343), 'popularity': np.int64(3437), 'dealing': np.int64(1182), 'emotionally': np.int64(1489), 'dennis': np.int64(1223), 'lights': np.int64(2669), 'reclusive': np.int64(3659), 'reading': np.int64(3634), 'abigailbreslin': np.int64(104), 'farewell': np.int64(1658), 'kevinsmith': np.int64(2521), 'crab': np.int64(1076), 'lukewilson': np.int64(2760), 'trucker': np.int64(4634), 'companion': np.int64(977), 'botched': np.int64(595), 'colin': np.int64(935), 'condition': np.int64(994), 'locate': np.int64(2694), 'catholic': np.int64(762), 'education': np.int64(1440), 'entity': np.int64(1530), 'williamshatner': np.int64(4904), 'smoking': np.int64(4147), 'cairo': np.int64(685), 'comingout': np.int64(967), 'decapitation': np.int64(1194), 'apparently': np.int64(311), 'krueger': np.int64(2570), 'philippe': np.int64(3360), 'mentally': np.int64(2907), 'jamie': np.int64(2355), 'sorority': np.int64(4179), 'fraternity': np.int64(1807), 'thirty': np.int64(4503), 'weeks': np.int64(4871), 'feud': np.int64(1694), 'michaelsheen': np.int64(2938), 'diane': np.int64(1274), 'odd': np.int64(3192), 'drink': np.int64(1378), 'misfits': np.int64(2975), 'jesus': np.int64(2403), 'jesuschrist': np.int64(2404), 'groupoffriends': np.int64(1965), 'amysmart': np.int64(254), 'website': np.int64(4867), 'tylerperry': np.int64(4661), 'portrait': np.int64(3444), '1975': np.int64(39), 'finale': np.int64(1724), 'wood': np.int64(4938), 'sarapaxton': np.int64(3907), 'leslienielsen': np.int64(2643), 'oregon': np.int64(3229), 'australian': np.int64(406), 'lassehallström': np.int64(2598), 'object': np.int64(3181), 'victoria': np.int64(4775), 'harsh': np.int64(2027), 'verylittledialogue': np.int64(4768), 'jigsaw': np.int64(2409), '1974': np.int64(38), 'wine': np.int64(4913), 'haunt': np.int64(2036), 'amidst': np.int64(247), 'idealistic': np.int64(2199), 'economic': np.int64(1432), 'ellenburstyn': np.int64(1463), 'owned': np.int64(3255), 'joel': np.int64(2424), 'frozen': np.int64(1828), 'acting': np.int64(127), 'sudden': np.int64(4342), 'pack': np.int64(3262), 'stevens': np.int64(4275), 'anarchiccomedy': np.int64(256), 'korea': np.int64(2563), 'disabled': np.int64(1303), 'hopedavis': np.int64(2144), 'caraccident': np.int64(721), 'cheerleader': np.int64(819), 'tortured': np.int64(4563), 'slum': np.int64(4141), 'wearing': np.int64(4864), 'multi': np.int64(3050), 'teenagegirl': np.int64(4449), 'teenmovie': np.int64(4453), 'rugrats': np.int64(3848), 'talks': np.int64(4420), 'aidanquinn': np.int64(190), 'dumps': np.int64(1405), 'vow': np.int64(4813), 'cooper': np.int64(1040), 'painter': np.int64(3270), 'pays': np.int64(3330), 'shoes': np.int64(4068), 'morrischestnut': np.int64(3024), 'commit': np.int64(971), 'deeper': np.int64(1206), 'emilywatson': np.int64(1483), '1966': np.int64(29), 'loan': np.int64(2691), 'freshman': np.int64(1820), 'cultural': np.int64(1113), 'classroom': np.int64(900), 'prom': np.int64(3523), 'classmates': np.int64(899), 'musicians': np.int64(3068), 'demonic': np.int64(1218), 'infected': np.int64(2251), 'miner': np.int64(2963), '18': np.int64(11), 'touching': np.int64(4568), 'canada': np.int64(702), 'suitor': np.int64(4351), 'gambler': np.int64(1845), 'disturbed': np.int64(1326), '1977': np.int64(41), 'secure': np.int64(3978), 'cameras': np.int64(695), 'perry': np.int64(3348), 'debut': np.int64(1191), 'cultfilm': np.int64(1112), 'camping': np.int64(700), 'cigarettesmoking': np.int64(875), 'prejudice': np.int64(3473), 'incest': np.int64(2231), 'ghetto': np.int64(1890), 'crocodile': np.int64(1097), 'druguse': np.int64(1395), 'entertainer': np.int64(1526), 'stalker': np.int64(4237), 'playwright': np.int64(3410), 'warden': np.int64(4839), 'oxford': np.int64(3258), 'richardlinklater': np.int64(3763), 'horrors': np.int64(2153), 'jessica': np.int64(2399), 'worked': np.int64(4947), 'mall': np.int64(2793), 'likes': np.int64(2671), 'romeo': np.int64(3826), 'theatremilieu': np.int64(4492), 'stoner': np.int64(4286), 'bandits': np.int64(437), 'lawman': np.int64(2609), 'achieve': np.int64(125), 'mayhem': np.int64(2877), 'christopherlambert': np.int64(864), 'housekeeper': np.int64(2166), 'iraqwar': np.int64(2324), 'freddy': np.int64(1812), 'robertenglund': np.int64(3800), 'arrangement': np.int64(341), 'fling': np.int64(1747), 'gregorypeck': np.int64(1955), 'beth': np.int64(519), 'newcomer': np.int64(3136), 'madea': np.int64(2770), 'arrangedmarriage': np.int64(340), 'locals': np.int64(2693), 'eddiegriffin': np.int64(1435), 'stopped': np.int64(4289), 'establishment': np.int64(1552), 'sexaddiction': np.int64(4034), 'porn': np.int64(3439), 'marrying': np.int64(2831), 'unforgettable': np.int64(4692), 'ireland': np.int64(2325), 'converge': np.int64(1031), 'mega': np.int64(2894), 'rocket': np.int64(3813), 'trafficking': np.int64(4589), 'philadelphia': np.int64(3359), 'bloodsplatter': np.int64(563), 'becky': np.int64(483), 'melbrooks': np.int64(2897), 'sleazy': np.int64(4135), 'morris': np.int64(3023), 'loser': np.int64(2717), 'gandhi': np.int64(1849), 'indianlead': np.int64(2244), 'val': np.int64(4742), 'traditional': np.int64(4587), 'existentialism': np.int64(1587), 'getaway': np.int64(1887), 'depressed': np.int64(1230), 'relatives': np.int64(3683), 'buck': np.int64(660), 'basement': np.int64(465), 'reconnect': np.int64(3661), 'dignity': np.int64(1291), 'intimate': np.int64(2300), 'investment': np.int64(2313), 'recording': np.int64(3663), 'gossip': np.int64(1927), 'chainsaw': np.int64(787), 'jerusalem': np.int64(2394), 'beer': np.int64(488), 'dare': np.int64(1150), 'alfredhitchcock': np.int64(209), 'privileged': np.int64(3507), 'preacher': np.int64(3466), 'michaelmoore': np.int64(2936), 'vanessahudgens': np.int64(4753), 'warehouse': np.int64(4840), 'outback': np.int64(3243), 'lola': np.int64(2698), 'kathy': np.int64(2500), 'nam': np.int64(3082), 'tradition': np.int64(4586), 'backgrounds': np.int64(427), 'brent': np.int64(622), 'contemporary': np.int64(1019), 'addict': np.int64(146), 'parties': np.int64(3295), 'screaming': np.int64(3943), 'tvmovie': np.int64(4651), '1944': np.int64(17), 'legends': np.int64(2634), 'craig': np.int64(1078), 'unsimulatedsex': np.int64(4716), 'teachers': np.int64(4436), 'filmmakers': np.int64(1719), 'masks': np.int64(2850), 'leon': np.int64(2637), 'partying': np.int64(3301), 'examines': np.int64(1578), 'toronto': np.int64(4561), 'highschoolstudent': np.int64(2095), 'jin': np.int64(2416), 'hyun': np.int64(2193), 'seo': np.int64(4006), 'labor': np.int64(2578), 'folk': np.int64(1761), 'brandon': np.int64(611), 'mumblecore': np.int64(3053), 'chloësevigny': np.int64(837), 'iran': np.int64(2321), 'lesbianrelationship': np.int64(2641), 'bisexual': np.int64(546), 'episode': np.int64(1535), 'eva': np.int64(1560), 'canuxploitation': np.int64(709), 'mormon': np.int64(3021), 'focused': np.int64(1757), 'mumblegore': np.int64(3054)}\n"
     ]
    }
   ],
   "source": [
    "print(vectorizer.vocabulary_)"
   ]
  },
  {
   "cell_type": "code",
   "execution_count": 59,
   "metadata": {},
   "outputs": [
    {
     "name": "stdout",
     "output_type": "stream",
     "text": [
      "<Compressed Sparse Row sparse matrix of dtype 'int64'\n",
      "\twith 138461 stored elements and shape (4806, 5000)>\n",
      "  Coords\tValues\n",
      "  (0, 783)\t1\n",
      "  (0, 2815)\t2\n",
      "  (0, 1322)\t1\n",
      "  (0, 3014)\t1\n",
      "  (0, 4696)\t1\n",
      "  (0, 2981)\t1\n",
      "  (0, 4559)\t1\n",
      "  (0, 1764)\t1\n",
      "  (0, 3227)\t1\n",
      "  (0, 3541)\t1\n",
      "  (0, 212)\t2\n",
      "  (0, 886)\t1\n",
      "  (0, 128)\t1\n",
      "  (0, 160)\t1\n",
      "  (0, 1655)\t1\n",
      "  (0, 3934)\t1\n",
      "  (0, 1115)\t1\n",
      "  (0, 1839)\t1\n",
      "  (0, 4157)\t1\n",
      "  (0, 4196)\t1\n",
      "  (0, 1840)\t1\n",
      "  (0, 3822)\t1\n",
      "  (0, 4190)\t1\n",
      "  (0, 4623)\t1\n",
      "  (0, 4162)\t1\n",
      "  :\t:\n",
      "  (4805, 4639)\t1\n",
      "  (4805, 75)\t1\n",
      "  (4805, 68)\t1\n",
      "  (4805, 4142)\t1\n",
      "  (4805, 3183)\t1\n",
      "  (4805, 1373)\t1\n",
      "  (4805, 624)\t2\n",
      "  (4805, 2664)\t1\n",
      "  (4805, 1613)\t1\n",
      "  (4805, 3510)\t1\n",
      "  (4805, 3964)\t1\n",
      "  (4805, 1156)\t1\n",
      "  (4805, 641)\t1\n",
      "  (4805, 1376)\t1\n",
      "  (4805, 1718)\t1\n",
      "  (4805, 1832)\t1\n",
      "  (4805, 369)\t1\n",
      "  (4805, 1199)\t1\n",
      "  (4805, 1107)\t2\n",
      "  (4805, 366)\t1\n",
      "  (4805, 2393)\t1\n",
      "  (4805, 1337)\t1\n",
      "  (4805, 1375)\t2\n",
      "  (4805, 1934)\t1\n",
      "  (4805, 691)\t1\n"
     ]
    }
   ],
   "source": [
    "print(sparse_mateix)"
   ]
  },
  {
   "cell_type": "code",
   "execution_count": 60,
   "metadata": {},
   "outputs": [],
   "source": [
    "vectors = sparse_mateix.toarray()"
   ]
  },
  {
   "cell_type": "code",
   "execution_count": 61,
   "metadata": {},
   "outputs": [
    {
     "data": {
      "text/plain": [
       "array([[0, 0, 0, ..., 0, 0, 0],\n",
       "       [0, 0, 0, ..., 0, 0, 0],\n",
       "       [0, 0, 0, ..., 0, 0, 0],\n",
       "       ...,\n",
       "       [0, 0, 0, ..., 0, 0, 0],\n",
       "       [0, 0, 0, ..., 0, 0, 0],\n",
       "       [0, 0, 0, ..., 0, 0, 0]])"
      ]
     },
     "execution_count": 61,
     "metadata": {},
     "output_type": "execute_result"
    }
   ],
   "source": [
    "vectors"
   ]
  },
  {
   "cell_type": "code",
   "execution_count": 62,
   "metadata": {},
   "outputs": [
    {
     "data": {
      "text/plain": [
       "array(['000', '007', '10', ..., 'zone', 'zoo', 'zooeydeschanel'],\n",
       "      dtype=object)"
      ]
     },
     "execution_count": 62,
     "metadata": {},
     "output_type": "execute_result"
    }
   ],
   "source": [
    "vectorizer.get_feature_names_out()"
   ]
  },
  {
   "cell_type": "code",
   "execution_count": 63,
   "metadata": {},
   "outputs": [],
   "source": [
    "from nltk.stem.porter import PorterStemmer\n",
    "ps = PorterStemmer()"
   ]
  },
  {
   "cell_type": "code",
   "execution_count": 64,
   "metadata": {},
   "outputs": [],
   "source": [
    "def stem(text):\n",
    "    y = []\n",
    "    for i in text.split():\n",
    "        y.append(ps.stem(i))\n",
    "    \n",
    "    return ' '.join(y)\n",
    "    "
   ]
  },
  {
   "cell_type": "code",
   "execution_count": 65,
   "metadata": {},
   "outputs": [
    {
     "name": "stderr",
     "output_type": "stream",
     "text": [
      "C:\\Users\\User\\AppData\\Local\\Temp\\ipykernel_19212\\2469954126.py:1: SettingWithCopyWarning: \n",
      "A value is trying to be set on a copy of a slice from a DataFrame.\n",
      "Try using .loc[row_indexer,col_indexer] = value instead\n",
      "\n",
      "See the caveats in the documentation: https://pandas.pydata.org/pandas-docs/stable/user_guide/indexing.html#returning-a-view-versus-a-copy\n",
      "  f_df['tags'] = f_df['tags'].apply(stem)\n"
     ]
    }
   ],
   "source": [
    "f_df['tags'] = f_df['tags'].apply(stem)"
   ]
  },
  {
   "cell_type": "code",
   "execution_count": 66,
   "metadata": {},
   "outputs": [],
   "source": [
    "from sklearn.feature_extraction.text import CountVectorizer\n",
    "vectorizer = CountVectorizer(max_features=5000,stop_words='english')\n",
    "\n",
    "sparse_mateix = vectorizer.fit_transform(f_df['tags'])\n",
    "\n",
    "vectors = sparse_mateix.toarray()"
   ]
  },
  {
   "cell_type": "code",
   "execution_count": 67,
   "metadata": {},
   "outputs": [
    {
     "data": {
      "text/plain": [
       "(4806, 5000)"
      ]
     },
     "execution_count": 67,
     "metadata": {},
     "output_type": "execute_result"
    }
   ],
   "source": [
    "vectors.shape"
   ]
  },
  {
   "cell_type": "code",
   "execution_count": 68,
   "metadata": {},
   "outputs": [
    {
     "data": {
      "text/plain": [
       "array(['000', '007', '10', ..., 'zone', 'zoo', 'zooeydeschanel'],\n",
       "      dtype=object)"
      ]
     },
     "execution_count": 68,
     "metadata": {},
     "output_type": "execute_result"
    }
   ],
   "source": [
    "vectorizer.get_feature_names_out()"
   ]
  },
  {
   "cell_type": "code",
   "execution_count": 69,
   "metadata": {},
   "outputs": [
    {
     "data": {
      "text/plain": [
       "array([[0, 0, 0, ..., 0, 0, 0],\n",
       "       [0, 0, 0, ..., 0, 0, 0],\n",
       "       [0, 0, 0, ..., 0, 0, 0],\n",
       "       ...,\n",
       "       [0, 0, 0, ..., 0, 0, 0],\n",
       "       [0, 0, 0, ..., 0, 0, 0],\n",
       "       [0, 0, 0, ..., 0, 0, 0]])"
      ]
     },
     "execution_count": 69,
     "metadata": {},
     "output_type": "execute_result"
    }
   ],
   "source": [
    "vectors"
   ]
  },
  {
   "cell_type": "code",
   "execution_count": 70,
   "metadata": {},
   "outputs": [],
   "source": [
    "from sklearn.metrics.pairwise import cosine_similarity"
   ]
  },
  {
   "cell_type": "code",
   "execution_count": 71,
   "metadata": {},
   "outputs": [],
   "source": [
    "similarity = cosine_similarity(vectors)"
   ]
  },
  {
   "cell_type": "code",
   "execution_count": 72,
   "metadata": {},
   "outputs": [
    {
     "data": {
      "text/plain": [
       "array([[1.        , 0.08226127, 0.08471737, ..., 0.04456565, 0.        ,\n",
       "        0.        ],\n",
       "       [0.08226127, 1.        , 0.05884899, ..., 0.02321817, 0.        ,\n",
       "        0.02548236],\n",
       "       [0.08471737, 0.05884899, 1.        , ..., 0.0239114 , 0.        ,\n",
       "        0.        ],\n",
       "       ...,\n",
       "       [0.04456565, 0.02321817, 0.0239114 , ..., 1.        , 0.04050542,\n",
       "        0.04141577],\n",
       "       [0.        , 0.        , 0.        , ..., 0.04050542, 1.        ,\n",
       "        0.08891084],\n",
       "       [0.        , 0.02548236, 0.        , ..., 0.04141577, 0.08891084,\n",
       "        1.        ]])"
      ]
     },
     "execution_count": 72,
     "metadata": {},
     "output_type": "execute_result"
    }
   ],
   "source": [
    "similarity"
   ]
  },
  {
   "cell_type": "code",
   "execution_count": 73,
   "metadata": {},
   "outputs": [
    {
     "data": {
      "text/plain": [
       "np.int64(119)"
      ]
     },
     "execution_count": 73,
     "metadata": {},
     "output_type": "execute_result"
    }
   ],
   "source": [
    "f_df[f_df['title'] == 'Batman Begins'].index[0]"
   ]
  },
  {
   "cell_type": "code",
   "execution_count": 74,
   "metadata": {},
   "outputs": [],
   "source": [
    "def recommend(movie):\n",
    "    movie_index = f_df[f_df['title'] == movie].index[0]\n",
    "    distances = similarity[movie_index]\n",
    "    movies_list = sorted(list(enumerate(distances)), reverse=True, key=lambda x:x[1])[1:6]\n",
    "    \n",
    "    for i in movies_list:\n",
    "        print(f_df.iloc[i[0]].title)"
   ]
  },
  {
   "cell_type": "code",
   "execution_count": 75,
   "metadata": {},
   "outputs": [
    {
     "name": "stdout",
     "output_type": "stream",
     "text": [
      "Spider-Man 3\n",
      "Spider-Man 2\n",
      "The Amazing Spider-Man 2\n",
      "Arachnophobia\n",
      "The Amazing Spider-Man\n"
     ]
    }
   ],
   "source": [
    "recommend(\"Spider-Man\")"
   ]
  },
  {
   "cell_type": "code",
   "execution_count": 76,
   "metadata": {},
   "outputs": [],
   "source": [
    "import pickle"
   ]
  },
  {
   "cell_type": "code",
   "execution_count": 77,
   "metadata": {},
   "outputs": [],
   "source": [
    "pickle.dump(f_df ,open('movies.pkl','wb'))"
   ]
  },
  {
   "cell_type": "code",
   "execution_count": 78,
   "metadata": {},
   "outputs": [],
   "source": [
    "pickle.dump(similarity,open('similarity.pkl','wb'))"
   ]
  },
  {
   "cell_type": "code",
   "execution_count": 82,
   "metadata": {},
   "outputs": [
    {
     "data": {
      "text/html": [
       "<div>\n",
       "<style scoped>\n",
       "    .dataframe tbody tr th:only-of-type {\n",
       "        vertical-align: middle;\n",
       "    }\n",
       "\n",
       "    .dataframe tbody tr th {\n",
       "        vertical-align: top;\n",
       "    }\n",
       "\n",
       "    .dataframe thead th {\n",
       "        text-align: right;\n",
       "    }\n",
       "</style>\n",
       "<table border=\"1\" class=\"dataframe\">\n",
       "  <thead>\n",
       "    <tr style=\"text-align: right;\">\n",
       "      <th></th>\n",
       "      <th>movie_id</th>\n",
       "      <th>title</th>\n",
       "      <th>tags</th>\n",
       "    </tr>\n",
       "  </thead>\n",
       "  <tbody>\n",
       "    <tr>\n",
       "      <th>0</th>\n",
       "      <td>19995</td>\n",
       "      <td>Avatar</td>\n",
       "      <td>in the 22nd century, a parapleg marin is dispa...</td>\n",
       "    </tr>\n",
       "    <tr>\n",
       "      <th>1</th>\n",
       "      <td>285</td>\n",
       "      <td>Pirates of the Caribbean: At World's End</td>\n",
       "      <td>captain barbossa, long believ to be dead, ha c...</td>\n",
       "    </tr>\n",
       "    <tr>\n",
       "      <th>2</th>\n",
       "      <td>206647</td>\n",
       "      <td>Spectre</td>\n",
       "      <td>a cryptic messag from bond’ past send him on a...</td>\n",
       "    </tr>\n",
       "    <tr>\n",
       "      <th>3</th>\n",
       "      <td>49026</td>\n",
       "      <td>The Dark Knight Rises</td>\n",
       "      <td>follow the death of district attorney harvey d...</td>\n",
       "    </tr>\n",
       "    <tr>\n",
       "      <th>4</th>\n",
       "      <td>49529</td>\n",
       "      <td>John Carter</td>\n",
       "      <td>john carter is a war-weary, former militari ca...</td>\n",
       "    </tr>\n",
       "  </tbody>\n",
       "</table>\n",
       "</div>"
      ],
      "text/plain": [
       "   movie_id                                     title  \\\n",
       "0     19995                                    Avatar   \n",
       "1       285  Pirates of the Caribbean: At World's End   \n",
       "2    206647                                   Spectre   \n",
       "3     49026                     The Dark Knight Rises   \n",
       "4     49529                               John Carter   \n",
       "\n",
       "                                                tags  \n",
       "0  in the 22nd century, a parapleg marin is dispa...  \n",
       "1  captain barbossa, long believ to be dead, ha c...  \n",
       "2  a cryptic messag from bond’ past send him on a...  \n",
       "3  follow the death of district attorney harvey d...  \n",
       "4  john carter is a war-weary, former militari ca...  "
      ]
     },
     "execution_count": 82,
     "metadata": {},
     "output_type": "execute_result"
    }
   ],
   "source": [
    "f_df.head()"
   ]
  }
 ],
 "metadata": {
  "kernelspec": {
   "display_name": "movie_recommender",
   "language": "python",
   "name": "python3"
  },
  "language_info": {
   "codemirror_mode": {
    "name": "ipython",
    "version": 3
   },
   "file_extension": ".py",
   "mimetype": "text/x-python",
   "name": "python",
   "nbconvert_exporter": "python",
   "pygments_lexer": "ipython3",
   "version": "3.12.9"
  }
 },
 "nbformat": 4,
 "nbformat_minor": 2
}
